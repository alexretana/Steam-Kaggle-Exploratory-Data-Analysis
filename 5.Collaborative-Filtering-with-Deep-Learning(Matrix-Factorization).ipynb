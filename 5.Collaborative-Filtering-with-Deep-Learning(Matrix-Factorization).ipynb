{
 "cells": [
  {
   "cell_type": "markdown",
   "metadata": {},
   "source": [
    "# Collaborative Filtering with Deep Learning (Matrix Factorization)\n",
    "\n",
    "A popular method of collaborative filtering used that leverages the power of deep learning in Matrix Factorization. The idea is that the matrix representing the users rating for each item (or interaction score) can be factored into two matrix such that the dimension of all three matricies satsify (n x l) * (l x m) = (n x m). The n and m represent the number of users and items respectively, while the l represent the feature space which size we may choose. Since this is all based around linear algebra, its very natually can be formed into a trainable deep learning model. And whatsmore is additional hidden layers can be added. (This makes it go from General Matrix Factorization to Neural Matrix Factorization)\n",
    "\n",
    "Using the matrix made in the third notebook, a deep learning model will be trained for proof of concept. Since this will not be fully productionized, it will be built with keras, the convient python framework for deep learning that can be backend by tensorflow."
   ]
  },
  {
   "cell_type": "markdown",
   "metadata": {},
   "source": [
    "Sources\n",
    "\n",
    "[Functional API example](https://keras.io/guides/functional_api/)\n",
    "\n",
    "[Article example](https://towardsdatascience.com/neural-collaborative-filtering-96cef1009401)\n",
    "\n",
    "[Second simple example with PCA Viz](https://towardsdatascience.com/building-a-book-recommendation-system-using-keras-1fba34180699)"
   ]
  },
  {
   "cell_type": "code",
   "execution_count": 20,
   "metadata": {},
   "outputs": [
    {
     "name": "stdout",
     "output_type": "stream",
     "text": [
      "numpyy version:  1.17.5\n",
      "tensorflow version:  1.14.0\n",
      "keras version:  2.2.4-tf\n"
     ]
    }
   ],
   "source": [
    "import numpy as np\n",
    "import tensorflow as tf\n",
    "from tensorflow import keras\n",
    "from tensorflow.keras import layers\n",
    "\n",
    "print(\"numpyy version: \",np.__version__)\n",
    "print(\"tensorflow version: \", tf.__version__)\n",
    "print(\"keras version: \", keras.__version__)"
   ]
  },
  {
   "cell_type": "code",
   "execution_count": 41,
   "metadata": {},
   "outputs": [],
   "source": [
    "#Dummy Variables for constructing model\n",
    "num_users = 1000\n",
    "num_games = 500\n",
    "latent_dim = 100\n",
    "fc_dim = 50\n",
    "\n",
    "#note that they must be the same which is why they're assigned as such\n",
    "user_embedding_shape = game_embedding_shape = 50\n"
   ]
  },
  {
   "cell_type": "code",
   "execution_count": 44,
   "metadata": {},
   "outputs": [
    {
     "name": "stdout",
     "output_type": "stream",
     "text": [
      "Model: \"Matrix Factorization\"\n",
      "__________________________________________________________________________________________________\n",
      "Layer (type)                    Output Shape         Param #     Connected to                     \n",
      "==================================================================================================\n",
      "user (InputLayer)               [(None, 1)]          0                                            \n",
      "__________________________________________________________________________________________________\n",
      "game (InputLayer)               [(None, 1)]          0                                            \n",
      "__________________________________________________________________________________________________\n",
      "user_embedding (Embedding)      (None, 1, 100)       100000      user[0][0]                       \n",
      "__________________________________________________________________________________________________\n",
      "game_embedding (Embedding)      (None, 1, 100)       50000       game[0][0]                       \n",
      "__________________________________________________________________________________________________\n",
      "user_dropout (Dropout)          (None, 1, 100)       0           user_embedding[0][0]             \n",
      "__________________________________________________________________________________________________\n",
      "game_dropout (Dropout)          (None, 1, 100)       0           game_embedding[0][0]             \n",
      "__________________________________________________________________________________________________\n",
      "user_flatten (Flatten)          (None, 100)          0           user_dropout[0][0]               \n",
      "__________________________________________________________________________________________________\n",
      "game_flatten (Flatten)          (None, 100)          0           game_dropout[0][0]               \n",
      "__________________________________________________________________________________________________\n",
      "dot_product (Multiply)          (None, 100)          0           user_flatten[0][0]               \n",
      "                                                                 game_flatten[0][0]               \n",
      "__________________________________________________________________________________________________\n",
      "fully_connected (Dense)         (None, 50)           5050        dot_product[0][0]                \n",
      "__________________________________________________________________________________________________\n",
      "fc_dropout (Dropout)            (None, 50)           0           fully_connected[0][0]            \n",
      "__________________________________________________________________________________________________\n",
      "predicition (Dense)             (None, 1)            51          fc_dropout[0][0]                 \n",
      "==================================================================================================\n",
      "Total params: 155,101\n",
      "Trainable params: 155,101\n",
      "Non-trainable params: 0\n",
      "__________________________________________________________________________________________________\n"
     ]
    }
   ],
   "source": [
    "#design input layer\n",
    "user_input = keras.Input(shape = (1,), name=\"user\")\n",
    "game_input = keras.Input(shape = (1,), name=\"game\")\n",
    "\n",
    "#create embeddings for vector representing user and their games played\n",
    "user_embeddings = layers.Embedding(input_dim = num_users, output_dim = latent_dim, name = 'user_embedding',\n",
    "                                  embeddings_initializer=\"uniform\", input_length=1)(user_input)\n",
    "game_embeddings = layers.Embedding(input_dim = num_games, output_dim = latent_dim, name = 'game_embedding',\n",
    "                                  embeddings_initializer=\"uniform\", input_length=1)(game_input)\n",
    "\n",
    "#add dropout to both embedding layers\n",
    "user_dropout = layers.Dropout(rate=.5, name='user_dropout')(user_embeddings)\n",
    "game_dropout = layers.Dropout(rate=.5, name='game_dropout')(game_embeddings)\n",
    "\n",
    "#flatten out results into one dimension\n",
    "user_latent = layers.Flatten(name = \"user_flatten\")((user_dropout))\n",
    "game_latent = layers.Flatten(name = \"game_flatten\")((game_dropout))\n",
    "\n",
    "#dot product of these latent vectors\n",
    "predict_vector = layers.Multiply(name = \"dot_product\")([user_latent, game_latent])\n",
    "\n",
    "#one hidden fully connected layer after dot product\n",
    "dense_layer = layers.Dense(fc_dim, name = \"fully_connected\")(predict_vector)\n",
    "\n",
    "#dropout after fully connected to help against overfitting\n",
    "dense_dropout = layers.Dropout(rate=.5, name = \"fc_dropout\")(dense_layer)\n",
    "\n",
    "#final dense layer\n",
    "prediction = layers.Dense(1, activation= 'sigmoid', kernel_initializer= 'lecun_uniform', name = 'predicition')(dense_dropout)\n",
    "\n",
    "#Build the model\n",
    "model = keras.Model(inputs = [user_input, game_input], outputs = prediction, name='Matrix Factorization')\n",
    "\n",
    "#print summary\n",
    "model.summary()"
   ]
  },
  {
   "cell_type": "code",
   "execution_count": 17,
   "metadata": {},
   "outputs": [
    {
     "data": {
      "text/plain": [
       "[]"
      ]
     },
     "execution_count": 17,
     "metadata": {},
     "output_type": "execute_result"
    }
   ],
   "source": []
  },
  {
   "cell_type": "code",
   "execution_count": null,
   "metadata": {},
   "outputs": [],
   "source": []
  }
 ],
 "metadata": {
  "kernelspec": {
   "display_name": "Python [conda env:root] *",
   "language": "python",
   "name": "conda-root-py"
  },
  "language_info": {
   "codemirror_mode": {
    "name": "ipython",
    "version": 3
   },
   "file_extension": ".py",
   "mimetype": "text/x-python",
   "name": "python",
   "nbconvert_exporter": "python",
   "pygments_lexer": "ipython3",
   "version": "3.6.10"
  }
 },
 "nbformat": 4,
 "nbformat_minor": 4
}
