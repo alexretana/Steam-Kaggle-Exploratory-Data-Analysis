{
 "cells": [
  {
   "cell_type": "markdown",
   "metadata": {},
   "source": [
    "# Collaborative Filtering\n",
    "\n",
    "A popular recommendation system designed by Netflix which recommends items to user based on items that similar users enjoy is called Collaborative Filtering. Usually, value used to compare similarities are ratings provided by users. However, this dataset doesn't have any feedback like that. The most we have is the number of hours on played on each game, which although there isn't the best or direct insight still provides some information about how the user feels towards the game. Since its unclears how to turn play hours into a rating, multiple metrics will be created to act as the rating. \n",
    "\n",
    "Different Metrics to replace Rating:\n",
    "- Raw Hours played\n",
    "- Sigmoid of Z-score of hours played using user avg and std\n",
    "- Possion CDF score using game avg and std\n",
    "- 0-1 if they played it or not\n",
    "- 0-1 if they purchased it or not\n",
    "\n",
    "It'll also be good to experiment with combining the last two metrics somehow."
   ]
  },
  {
   "cell_type": "code",
   "execution_count": 2,
   "metadata": {},
   "outputs": [],
   "source": [
    "%matplotlib inline\n",
    "import pandas as pd\n",
    "import numpy as np\n",
    "import matplotlib.pyplot as plt\n",
    "from scipy import sparse\n",
    "from scipy.special import expit\n",
    "from timeit import default_timer\n",
    "\n",
    "dtype_dict_games = {'buyer-count': 'int64',\n",
    " 'player-count': 'int64',\n",
    " 'accumulated-hours-played': 'float64',\n",
    " 'player-frac-of-buyer': 'float64',\n",
    " 'avg-hours-played': 'float64',\n",
    " 'std-hours-played': 'float64'}\n",
    "\n",
    "dtype_dict_users = {'purchased-game-count': 'int64',\n",
    " 'played-game-count': 'int32',\n",
    " 'played-hours-count': 'float64',\n",
    " 'purhased-gametitles-list': 'object',\n",
    " 'played-gametitles-list': 'object',\n",
    " 'percent-library-played': 'float64',\n",
    " 'played-hours-avg': 'float64',\n",
    " 'played-hours-std': 'float64',\n",
    " 'played-hours-max': 'float64',\n",
    " 'most-played-game': 'object'}\n",
    "\n",
    "games_stats_df = pd.read_csv('./steam_game_aggregate_data.CSV', index_col= 0,dtype=dtype_dict_games)\n",
    "users_stats_df = pd.read_csv('./steam_user_aggregate_data.CSV', index_col= 0,dtype=dtype_dict_users)"
   ]
  },
  {
   "cell_type": "markdown",
   "metadata": {},
   "source": [
    "## 1. Raw Hours Played\n",
    "\n",
    "The original data is going to be needed to loop through and insert values into a sparse matrix. The matrix we're making will contain the information associated to a user's opinion of a game. Since most of the cells will be empty, it makes sense to loop through the played_df we made in an earlier notebook."
   ]
  },
  {
   "cell_type": "code",
   "execution_count": 3,
   "metadata": {},
   "outputs": [],
   "source": [
    "#names to assign to columns\n",
    "column_names = ['user-id','game-title','behavior-name','value']\n",
    "\n",
    "#dtypes to assign\n",
    "dtypes = {'user-id':int, 'game-title':str, 'behavior-name':'category', 'value':np.float64}\n",
    "\n",
    "#read in data from csv (please adjust path if you want to run this). Dropped last column because useless\n",
    "df = pd.read_csv('./steam-200k.csv', \n",
    "                usecols=[0,1,2,3],\n",
    "                names=column_names)\n",
    "\n",
    "play_mask = df['behavior-name'] == 'play'\n",
    "play_df = df[play_mask]"
   ]
  },
  {
   "cell_type": "markdown",
   "metadata": {},
   "source": [
    "The next cell creates a large empty dataframe that the size of (#ofUsers)x(#ofGames)."
   ]
  },
  {
   "cell_type": "code",
   "execution_count": 4,
   "metadata": {},
   "outputs": [],
   "source": [
    "full_game_list = games_stats_df.index.to_list()\n",
    "full_user_list = users_stats_df.index.to_list()\n",
    "hours_played_matrix = pd.DataFrame(columns=full_game_list, index=full_user_list, dtype=np.float64)"
   ]
  },
  {
   "cell_type": "markdown",
   "metadata": {},
   "source": [
    "Going through every recording of hours played on each game, we insert the number of hours into each cell accordingly"
   ]
  },
  {
   "cell_type": "code",
   "execution_count": 5,
   "metadata": {},
   "outputs": [],
   "source": [
    "for ind, row in play_df.iterrows():\n",
    "    hours_played_matrix.at[int(row['user-id']), row['game-title']] = row['value']    "
   ]
  },
  {
   "cell_type": "markdown",
   "metadata": {},
   "source": [
    "Next, cosine similarity is going to be calculated using a function in the scikit-learn machine learning library. This accepts sparse arrays created using scipy's csr_matrix() function (i.e, CSR = Compress Sparse Row)"
   ]
  },
  {
   "cell_type": "code",
   "execution_count": 6,
   "metadata": {},
   "outputs": [],
   "source": [
    "hours_played_matrix_sparse = sparse.csr_matrix(hours_played_matrix.fillna(0).values.T)"
   ]
  },
  {
   "cell_type": "code",
   "execution_count": 7,
   "metadata": {},
   "outputs": [],
   "source": [
    "from sklearn.metrics.pairwise import cosine_similarity\n",
    "\n",
    "similarities = cosine_similarity(hours_played_matrix_sparse)\n",
    "\n",
    "similarity_df = pd.DataFrame(similarities, columns=full_game_list, index=full_game_list)"
   ]
  },
  {
   "cell_type": "markdown",
   "metadata": {},
   "source": [
    "We're going to see what are the recommendation for popular valve game, 'Team Fortress 2\"."
   ]
  },
  {
   "cell_type": "code",
   "execution_count": 8,
   "metadata": {
    "scrolled": true
   },
   "outputs": [
    {
     "data": {
      "text/plain": [
       "Team Fortress 2                                   1.000000\n",
       "Poker Night at the Inventory                      0.166778\n",
       "Thief Town                                        0.140406\n",
       "Eidolon                                           0.140406\n",
       "Super Game Jam                                    0.140406\n",
       "                                                    ...   \n",
       "Planetside 2 Elite Soldier Bundle                 0.000000\n",
       "Planets Under Attack                              0.000000\n",
       "Planetary Annihilation - Original Soundtrack      0.000000\n",
       "Planetary Annihilation - Digital Deluxe Bundle    0.000000\n",
       "007 Legends                                       0.000000\n",
       "Name: Team Fortress 2, Length: 5155, dtype: float64"
      ]
     },
     "execution_count": 8,
     "metadata": {},
     "output_type": "execute_result"
    }
   ],
   "source": [
    "similarity_df['Team Fortress 2'].sort_values(ascending=False)"
   ]
  },
  {
   "cell_type": "markdown",
   "metadata": {},
   "source": [
    "The recommendation system didn't work well, but this is likely because raw hours were used instead of standardized values. Below a histogram of the hours values are shown, showing a deep skew right."
   ]
  },
  {
   "cell_type": "code",
   "execution_count": 9,
   "metadata": {},
   "outputs": [
    {
     "data": {
      "text/plain": [
       "<matplotlib.axes._subplots.AxesSubplot at 0x1cb320aa160>"
      ]
     },
     "execution_count": 9,
     "metadata": {},
     "output_type": "execute_result"
    },
    {
     "data": {
      "image/png": "[encoded data removed]",
      "text/plain": [
       "<Figure size 432x288 with 1 Axes>"
      ]
     },
     "metadata": {
      "needs_background": "light"
     },
     "output_type": "display_data"
    }
   ],
   "source": [
    "import seaborn as sns\n",
    "\n",
    "sns.distplot(play_df['value'])"
   ]
  },
  {
   "cell_type": "markdown",
   "metadata": {},
   "source": [
    "## 2.Sigmoid or Z-Scores (Calculated with User statistics)\n",
    "\n",
    "This next method is going to use a sigmoid function because we want to map a domain of [0,$\\infty$) to a domain of [0,1]. However, the middle score is at ln2(=0.693) hours, when it'd be better to have it at the mean hours that the user typical plays games.\n",
    "\n",
    "The idea here is if a user spent more time than they usually do playing game, they \"must\" have liked it, while a game that they quit quickly wasn't meant for them. The biggest short coming is that there are some games are designed to be beat in a short amount of time, but users would still rate the game well dispite the short playtime."
   ]
  },
  {
   "cell_type": "code",
   "execution_count": 10,
   "metadata": {},
   "outputs": [
    {
     "name": "stderr",
     "output_type": "stream",
     "text": [
      "C:\\Users\\alexr\\Anaconda3\\lib\\site-packages\\ipykernel_launcher.py:2: RuntimeWarning: invalid value encountered in double_scalars\n",
      "  \n",
      "C:\\Users\\alexr\\Anaconda3\\lib\\site-packages\\ipykernel_launcher.py:13: SettingWithCopyWarning: \n",
      "A value is trying to be set on a copy of a slice from a DataFrame.\n",
      "Try using .loc[row_indexer,col_indexer] = value instead\n",
      "\n",
      "See the caveats in the documentation: http://pandas.pydata.org/pandas-docs/stable/user_guide/indexing.html#returning-a-view-versus-a-copy\n",
      "  del sys.path[0]\n"
     ]
    }
   ],
   "source": [
    "def zScore(val, mean, std):\n",
    "    return (val-mean)/std\n",
    "\n",
    "def zigmoid(row):\n",
    "    user_stats = users_stats_df.loc[row['user-id']]\n",
    "    mean = user_stats['played-hours-avg']\n",
    "    std = user_stats['played-hours-std']\n",
    "    return expit(zScore(row['value'], mean, std))\n",
    "\n",
    "def zigTanh(row):\n",
    "    return 2.0*zigmoid(row) - 1.0\n",
    " \n",
    "play_df['zigmoid'] = play_df.apply(lambda x: zigTanh(x), axis=1)"
   ]
  },
  {
   "cell_type": "markdown",
   "metadata": {},
   "source": [
    "Displaying the distribution below with seaborn shows there still a strong skew to the right."
   ]
  },
  {
   "cell_type": "code",
   "execution_count": 11,
   "metadata": {
    "scrolled": true
   },
   "outputs": [
    {
     "data": {
      "text/plain": [
       "<matplotlib.axes._subplots.AxesSubplot at 0x1cb2c12e828>"
      ]
     },
     "execution_count": 11,
     "metadata": {},
     "output_type": "execute_result"
    },
    {
     "data": {
      "image/png": "[encoded data removed]",
      "text/plain": [
       "<Figure size 432x288 with 1 Axes>"
      ]
     },
     "metadata": {
      "needs_background": "light"
     },
     "output_type": "display_data"
    }
   ],
   "source": [
    "sns.distplot(play_df['zigmoid'])"
   ]
  },
  {
   "cell_type": "code",
   "execution_count": 12,
   "metadata": {},
   "outputs": [
    {
     "data": {
      "text/plain": [
       "count    63892.000000\n",
       "mean        -0.040597\n",
       "std          0.302212\n",
       "min         -0.777935\n",
       "25%         -0.212951\n",
       "50%         -0.134768\n",
       "75%         -0.021701\n",
       "max          1.000000\n",
       "Name: zigmoid, dtype: float64"
      ]
     },
     "execution_count": 12,
     "metadata": {},
     "output_type": "execute_result"
    }
   ],
   "source": [
    "play_df['zigmoid'].describe()"
   ]
  },
  {
   "cell_type": "markdown",
   "metadata": {},
   "source": [
    "Since its clear anything scoring over 60 is generally liked, and not necessarily liked more than a game scoring 80, thus a \"cieling\" will be put on 60."
   ]
  },
  {
   "cell_type": "code",
   "execution_count": 12,
   "metadata": {},
   "outputs": [],
   "source": [
    "hours_played_matrix_zig = pd.DataFrame(columns=full_game_list, index=full_user_list, dtype=np.float64)\n",
    "\n",
    "for ind, row in play_df.iterrows():\n",
    "    hours_played_matrix_zig.at[int(row['user-id']), row['game-title']] = row['zigmoid']"
   ]
  },
  {
   "cell_type": "code",
   "execution_count": 13,
   "metadata": {},
   "outputs": [],
   "source": [
    "#47.97 was average from distribution\n",
    "for ind, row in hours_played_matrix_zig.iterrows():\n",
    "    #impute_mean = users_stats_df['played-hours-avg'][ind]\n",
    "    row.fillna(0, inplace=True)"
   ]
  },
  {
   "cell_type": "code",
   "execution_count": 14,
   "metadata": {},
   "outputs": [],
   "source": [
    "hours_played_matrix_zig_sparse = sparse.csr_matrix(hours_played_matrix_zig.values.T)"
   ]
  },
  {
   "cell_type": "code",
   "execution_count": 15,
   "metadata": {},
   "outputs": [
    {
     "name": "stdout",
     "output_type": "stream",
     "text": [
      "Similarity df took 0.11 second(s) to compute\n"
     ]
    }
   ],
   "source": [
    "\n",
    "#this code takes a bit so I wanted to know how long for future testing\n",
    "start_time = default_timer()\n",
    "# code you want to evaluate\n",
    "elapsed = default_timer() - start_time\n",
    "#games_stats_df.loc[play_df.iloc[1]['game-title']]\n",
    "\n",
    "#creates array of similarity scores\n",
    "similarities = cosine_similarity(hours_played_matrix_zig_sparse)\n",
    "\n",
    "#puts array into pandas dataframe\n",
    "similarity_df = pd.DataFrame(similarities, columns=full_game_list, index=full_game_list)\n",
    "\n",
    "\n",
    "elapsed = default_timer() - start_time\n",
    "print(\"Similarity df took {:.2f} second(s) to compute\".format(elapsed))"
   ]
  },
  {
   "cell_type": "code",
   "execution_count": 16,
   "metadata": {},
   "outputs": [
    {
     "data": {
      "text/plain": [
       "Left 4 Dead 2                    1.000000\n",
       "Left 4 Dead                      0.181096\n",
       "Saints Row The Third             0.123025\n",
       "Bad Hotel                        0.111868\n",
       "Space Pirates and Zombies        0.111196\n",
       "Rebuild 3 Gangs of Deadsville    0.111025\n",
       "A.R.E.S. Extinction Agenda EX    0.109431\n",
       "Adventurer Manager               0.109431\n",
       "Hidden Object Bundle 4 in 1      0.108206\n",
       "Sleeping Dogs                    0.103616\n",
       "Name: Left 4 Dead 2, dtype: float64"
      ]
     },
     "execution_count": 16,
     "metadata": {},
     "output_type": "execute_result"
    }
   ],
   "source": [
    "similarity_df['Left 4 Dead 2'].sort_values(ascending=False)[:10]"
   ]
  },
  {
   "cell_type": "markdown",
   "metadata": {},
   "source": [
    "# 3.Possion CDF (Calculated with Game Statistics)\n",
    "\n",
    "In this approach, a possion cummulative distribution function (cdf) is used to rank if a game was played more than usual or less than usual (using game statistics)."
   ]
  },
  {
   "cell_type": "code",
   "execution_count": 31,
   "metadata": {},
   "outputs": [],
   "source": [
    "from scipy.stats import poisson\n",
    "\n",
    "def possionCDFScore(row):\n",
    "    game_stats = games_stats_df.loc[row['game-title']]\n",
    "    mean = game_stats['avg-hours-played']\n",
    "    return poisson.cdf(row['value'], mean)"
   ]
  },
  {
   "cell_type": "code",
   "execution_count": 32,
   "metadata": {},
   "outputs": [
    {
     "name": "stderr",
     "output_type": "stream",
     "text": [
      "C:\\Users\\alexr\\Anaconda3\\lib\\site-packages\\ipykernel_launcher.py:7: SettingWithCopyWarning: \n",
      "A value is trying to be set on a copy of a slice from a DataFrame.\n",
      "Try using .loc[row_indexer,col_indexer] = value instead\n",
      "\n",
      "See the caveats in the documentation: http://pandas.pydata.org/pandas-docs/stable/user_guide/indexing.html#returning-a-view-versus-a-copy\n",
      "  import sys\n"
     ]
    },
    {
     "name": "stdout",
     "output_type": "stream",
     "text": [
      "Possion column construction took 22.10 second(s) to compute\n"
     ]
    }
   ],
   "source": [
    "hours_played_matrix_pos = pd.DataFrame(columns=full_game_list, index=full_user_list, dtype=np.float64)\n",
    "\n",
    "\n",
    "#this code takes a bit so I wanted to know how long for future testing\n",
    "start_time = default_timer()\n",
    "\n",
    "play_df['possioncdf'] = play_df.apply(lambda row: possionCDFScore(row), axis=1)\n",
    "\n",
    "elapsed = default_timer() - start_time\n",
    "print(\"Possion column construction took {:.2f} second(s) to compute\".format(elapsed))\n",
    "\n",
    "for ind, row in play_df.iterrows():\n",
    "    hours_played_matrix_pos.at[int(row['user-id']), row['game-title']] = row['possioncdf']"
   ]
  },
  {
   "cell_type": "markdown",
   "metadata": {},
   "source": [
    "Checking out the distibution below actually reveals that the majority of scores returned were near 0 or near 1 with quite few values being in between."
   ]
  },
  {
   "cell_type": "code",
   "execution_count": 34,
   "metadata": {},
   "outputs": [
    {
     "data": {
      "text/plain": [
       "<matplotlib.axes._subplots.AxesSubplot at 0x29acddaa438>"
      ]
     },
     "execution_count": 34,
     "metadata": {},
     "output_type": "execute_result"
    },
    {
     "data": {
      "image/png": "[encoded data removed]",
      "text/plain": [
       "<Figure size 432x288 with 1 Axes>"
      ]
     },
     "metadata": {
      "needs_background": "light"
     },
     "output_type": "display_data"
    }
   ],
   "source": [
    "sns.distplot(play_df['possioncdf'])"
   ]
  },
  {
   "cell_type": "code",
   "execution_count": 33,
   "metadata": {},
   "outputs": [],
   "source": [
    "#47.97 was average from distribution\n",
    "for ind, row in hours_played_matrix_pos.iterrows():\n",
    "    #impute_mean = users_stats_df['played-hours-avg'][ind]\n",
    "    row.fillna(0, inplace=True)"
   ]
  },
  {
   "cell_type": "code",
   "execution_count": 36,
   "metadata": {},
   "outputs": [],
   "source": [
    "hours_played_matrix_pos_sparse = sparse.csr_matrix(hours_played_matrix_pos.values.T)"
   ]
  },
  {
   "cell_type": "code",
   "execution_count": 37,
   "metadata": {},
   "outputs": [
    {
     "name": "stdout",
     "output_type": "stream",
     "text": [
      "Similarity df took 0.11 second(s) to compute\n"
     ]
    }
   ],
   "source": [
    "from timeit import default_timer\n",
    "#this code takes a bit so I wanted to know how long for future testing\n",
    "start_time = default_timer()\n",
    "# code you want to evaluate\n",
    "elapsed = default_timer() - start_time\n",
    "#games_stats_df.loc[play_df.iloc[1]['game-title']]\n",
    "\n",
    "similarities = cosine_similarity(hours_played_matrix_pos_sparse)\n",
    "\n",
    "similarity_df = pd.DataFrame(similarities, columns=full_game_list, index=full_game_list)\n",
    "\n",
    "\n",
    "elapsed = default_timer() - start_time\n",
    "print(\"Similarity df took {:.2f} second(s) to compute\".format(elapsed))"
   ]
  },
  {
   "cell_type": "code",
   "execution_count": 38,
   "metadata": {},
   "outputs": [
    {
     "data": {
      "text/plain": [
       "Borderlands                     1.000000\n",
       "Borderlands 2                   0.358876\n",
       "Divinity II Developer's Cut     0.270248\n",
       "Frontlines Fuel of War          0.247579\n",
       "Talisman Digital Edition        0.237968\n",
       "Sanctum                         0.225719\n",
       "Space Trader Merchant Marine    0.222318\n",
       "Stormrise                       0.220525\n",
       "Portal                          0.220023\n",
       "Portal 2                        0.216129\n",
       "Name: Borderlands, dtype: float64"
      ]
     },
     "execution_count": 38,
     "metadata": {},
     "output_type": "execute_result"
    }
   ],
   "source": [
    "similarity_df['Borderlands'].sort_values(ascending=False)[:10]"
   ]
  },
  {
   "cell_type": "markdown",
   "metadata": {},
   "source": [
    "Looking At the distribution of values, it appears that using 0-1 encoding created the best recommendation engine, but it isn't great by any means. We can build a quick model using whether the user played a game or not."
   ]
  },
  {
   "cell_type": "code",
   "execution_count": 41,
   "metadata": {},
   "outputs": [
    {
     "name": "stdout",
     "output_type": "stream",
     "text": [
      "Possion column construction took 0.00 second(s) to compute\n"
     ]
    }
   ],
   "source": [
    "hours_played_matrix_oh = pd.DataFrame(columns=full_game_list, index=full_user_list, dtype=np.float64)\n",
    "\n",
    "for ind, row in play_df.iterrows():\n",
    "    hours_played_matrix_oh.at[int(row['user-id']), row['game-title']] = 1\n",
    "    \n",
    "#47.97 was average from distribution\n",
    "for ind, row in hours_played_matrix_oh.iterrows():\n",
    "    #impute_mean = users_stats_df['played-hours-avg'][ind]\n",
    "    row.fillna(0, inplace=True)\n",
    "    \n",
    "hours_played_matrix_oh_sparse = sparse.csr_matrix(hours_played_matrix_oh.values.T)"
   ]
  },
  {
   "cell_type": "code",
   "execution_count": 42,
   "metadata": {},
   "outputs": [
    {
     "name": "stdout",
     "output_type": "stream",
     "text": [
      "Similarity df took 0.10 second(s) to compute\n"
     ]
    }
   ],
   "source": [
    "similarities = cosine_similarity(hours_played_matrix_oh_sparse)\n",
    "\n",
    "similarity_df = pd.DataFrame(similarities, columns=full_game_list, index=full_game_list)\n",
    "\n",
    "\n",
    "elapsed = default_timer() - start_time\n",
    "print(\"Similarity df took {:.2f} second(s) to compute\".format(elapsed))"
   ]
  },
  {
   "cell_type": "code",
   "execution_count": 45,
   "metadata": {},
   "outputs": [
    {
     "data": {
      "text/plain": [
       "FTL Faster Than Light    1.000000\n",
       "XCOM Enemy Unknown       0.407221\n",
       "Bastion                  0.396169\n",
       "Prison Architect         0.377964\n",
       "Gunpoint                 0.361296\n",
       "Rogue Legacy             0.347941\n",
       "Hotline Miami            0.339979\n",
       "Mark of the Ninja        0.338326\n",
       "Frozen Synapse           0.331957\n",
       "The Stanley Parable      0.331283\n",
       "Name: FTL Faster Than Light, dtype: float64"
      ]
     },
     "execution_count": 45,
     "metadata": {},
     "output_type": "execute_result"
    }
   ],
   "source": [
    "similarity_df['FTL Faster Than Light'].sort_values(ascending=False)[:10]"
   ]
  },
  {
   "cell_type": "markdown",
   "metadata": {},
   "source": [
    "It turns out that not trying to complicate things worked out pretty well and requires very little time to compute comparatively. Since this isn't hard to build, another will be made using purchasing."
   ]
  },
  {
   "cell_type": "code",
   "execution_count": 24,
   "metadata": {},
   "outputs": [
    {
     "name": "stdout",
     "output_type": "stream",
     "text": [
      "Similarity df took 0.22 second(s) to compute\n"
     ]
    }
   ],
   "source": [
    "purch_mask = df['behavior-name'] == 'purchase'\n",
    "purch_df = df[purch_mask]\n",
    "\n",
    "hours_played_matrix_purch = pd.DataFrame(columns=full_game_list, index=full_user_list, dtype=np.float64)\n",
    "\n",
    "for ind, row in purch_df.iterrows():\n",
    "    hours_played_matrix_purch.at[int(row['user-id']), row['game-title']] = 1\n",
    "    \n",
    "for ind, row in hours_played_matrix_purch.iterrows():\n",
    "    row.fillna(0, inplace=True)\n",
    "    \n",
    "hours_played_matrix_purch_sparse = sparse.csr_matrix(hours_played_matrix_purch.values.T)\n",
    "\n",
    "start_time = default_timer()\n",
    "\n",
    "similarities = cosine_similarity(hours_played_matrix_purch_sparse)\n",
    "\n",
    "similarity_df = pd.DataFrame(similarities, columns=full_game_list, index=full_game_list)\n",
    "\n",
    "elapsed = default_timer() - start_time\n",
    "print(\"Similarity df took {:.2f} second(s) to compute\".format(elapsed))"
   ]
  },
  {
   "cell_type": "code",
   "execution_count": 33,
   "metadata": {},
   "outputs": [
    {
     "data": {
      "text/plain": [
       "Left 4 Dead 2                      1.000000\n",
       "Portal 2                           0.450459\n",
       "Left 4 Dead                        0.437185\n",
       "Borderlands 2                      0.402359\n",
       "Counter-Strike Global Offensive    0.396100\n",
       "Portal                             0.379786\n",
       "Garry's Mod                        0.369404\n",
       "Half-Life 2 Episode Two            0.368318\n",
       "Grand Theft Auto IV                0.365610\n",
       "Killing Floor                      0.362689\n",
       "Name: Left 4 Dead 2, dtype: float64"
      ]
     },
     "execution_count": 33,
     "metadata": {},
     "output_type": "execute_result"
    }
   ],
   "source": [
    "similarity_df['Left 4 Dead 2'].sort_values(ascending=False)[:10]"
   ]
  },
  {
   "cell_type": "markdown",
   "metadata": {},
   "source": [
    "The results turned out pretty good, similar to the one based on whether or not a user played a game. Although, free games are definetly more likely to recommend other free games using this model."
   ]
  },
  {
   "cell_type": "code",
   "execution_count": null,
   "metadata": {},
   "outputs": [],
   "source": []
  }
 ],
 "metadata": {
  "kernelspec": {
   "display_name": "Python [conda env:root] *",
   "language": "python",
   "name": "conda-root-py"
  },
  "language_info": {
   "codemirror_mode": {
    "name": "ipython",
    "version": 3
   },
   "file_extension": ".py",
   "mimetype": "text/x-python",
   "name": "python",
   "nbconvert_exporter": "python",
   "pygments_lexer": "ipython3",
   "version": "3.6.10"
  }
 },
 "nbformat": 4,
 "nbformat_minor": 4
}
