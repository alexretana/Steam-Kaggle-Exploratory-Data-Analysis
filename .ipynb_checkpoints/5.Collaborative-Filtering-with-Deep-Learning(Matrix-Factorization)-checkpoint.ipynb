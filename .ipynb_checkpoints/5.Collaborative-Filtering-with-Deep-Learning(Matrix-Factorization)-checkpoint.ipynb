{
 "cells": [
  {
   "cell_type": "markdown",
   "metadata": {},
   "source": [
    "# Collaborative Filtering with Deep Learning (Matrix Factorization)\n",
    "\n",
    "A popular method of collaborative filtering used that leverages the power of deep learning in Matrix Factorization. The idea is that the matrix representing the users rating for each item (or interaction score) can be factored into two matrix such that the dimension of all three matricies satsify (n x l) * (l x m) = (n x m). The n and m represent the number of users and items respectively, while the l represent the feature space which size we may choose. Since this is all based around linear algebra, its very natually can be formed into a trainable deep learning model. And whatsmore is additional hidden layers can be added. (This makes it go from General Matrix Factorization to Neural Matrix Factorization)\n",
    "\n",
    "Using the matrix made in the third notebook, a deep learning model will be trained for proof of concept. Since this will not be fully productionized, it will be built with keras, the convient python framework for deep learning that can be backend by tensorflow."
   ]
  },
  {
   "cell_type": "markdown",
   "metadata": {},
   "source": [
    "Sources\n",
    "\n",
    "[Functional API example](https://keras.io/guides/functional_api/)\n",
    "\n",
    "[Article example](https://towardsdatascience.com/neural-collaborative-filtering-96cef1009401)\n",
    "\n",
    "[Second simple example with PCA Viz](https://towardsdatascience.com/building-a-book-recommendation-system-using-keras-1fba34180699)"
   ]
  },
  {
   "cell_type": "code",
   "execution_count": 8,
   "metadata": {},
   "outputs": [
    {
     "name": "stdout",
     "output_type": "stream",
     "text": [
      "numpyy version:  1.19.1\n",
      "tensorflow version:  1.14.0\n",
      "keras version:  2.2.4-tf\n"
     ]
    }
   ],
   "source": [
    "import numpy as np\n",
    "import tensorflow as tf\n",
    "from tensorflow import keras\n",
    "from tensorflow.keras import layers\n",
    "\n",
    "print(\"numpyy version: \",np.__version__)\n",
    "print(\"tensorflow version: \", tf.__version__)\n",
    "print(\"keras version: \", keras.__version__)"
   ]
  },
  {
   "cell_type": "markdown",
   "metadata": {},
   "source": [
    "The spare matrix from the thrid notebook will be used for the Matrix Factorization(MF)"
   ]
  },
  {
   "cell_type": "code",
   "execution_count": 2,
   "metadata": {},
   "outputs": [],
   "source": [
    "%matplotlib inline\n",
    "import pandas as pd\n",
    "import numpy as np\n",
    "import matplotlib.pyplot as plt\n",
    "from scipy import sparse\n",
    "from scipy.special import expit\n",
    "from timeit import default_timer\n",
    "\n",
    "dtype_dict_games = {'buyer-count': 'int64',\n",
    " 'player-count': 'int64',\n",
    " 'accumulated-hours-played': 'float64',\n",
    " 'player-frac-of-buyer': 'float64',\n",
    " 'avg-hours-played': 'float64',\n",
    " 'std-hours-played': 'float64'}\n",
    "\n",
    "dtype_dict_users = {'purchased-game-count': 'int64',\n",
    " 'played-game-count': 'int32',\n",
    " 'played-hours-count': 'float64',\n",
    " 'purhased-gametitles-list': 'object',\n",
    " 'played-gametitles-list': 'object',\n",
    " 'percent-library-played': 'float64',\n",
    " 'played-hours-avg': 'float64',\n",
    " 'played-hours-std': 'float64',\n",
    " 'played-hours-max': 'float64',\n",
    " 'most-played-game': 'object'}\n",
    "\n",
    "games_stats_df = pd.read_csv('./steam_game_aggregate_data.CSV', index_col= 0,dtype=dtype_dict_games)\n",
    "users_stats_df = pd.read_csv('./steam_user_aggregate_data.CSV', index_col= 0,dtype=dtype_dict_users)\n",
    "\n",
    "\n",
    "#names to assign to columns\n",
    "column_names = ['user-id','game-title','behavior-name','value']\n",
    "\n",
    "#dtypes to assign\n",
    "dtypes = {'user-id':int, 'game-title':str, 'behavior-name':'category', 'value':np.float64}\n",
    "\n",
    "#read in data from csv (please adjust path if you want to run this). Dropped last column because useless\n",
    "df = pd.read_csv('./steam-200k.csv', \n",
    "                usecols=[0,1,2,3],\n",
    "                names=column_names)\n",
    "\n",
    "play_mask = df['behavior-name'] == 'play'\n",
    "play_df = df[play_mask]\n",
    "\n",
    "full_game_list = games_stats_df.index.to_list()\n",
    "full_user_list = users_stats_df.index.to_list()\n",
    "\n",
    "games_played_matrix = pd.DataFrame(columns=full_game_list, index=full_user_list, dtype=np.float64)\n",
    "\n",
    "for ind, row in play_df.iterrows():\n",
    "    games_played_matrix.at[int(row['user-id']), row['game-title']] = 1\n",
    "    \n",
    "#for ind, row in games_played_matrix.iterrows():\n",
    "#    row.fillna(0, inplace=True)\n",
    "    \n",
    "games_played_matrix_sparse = sparse.csr_matrix(games_played_matrix.values.T)"
   ]
  },
  {
   "cell_type": "code",
   "execution_count": 4,
   "metadata": {},
   "outputs": [
    {
     "data": {
      "text/plain": [
       "(5155, 12393)"
      ]
     },
     "execution_count": 4,
     "metadata": {},
     "output_type": "execute_result"
    }
   ],
   "source": [
    "games_played_matrix_sparse.shape"
   ]
  },
  {
   "cell_type": "code",
   "execution_count": 5,
   "metadata": {},
   "outputs": [
    {
     "ename": "NameError",
     "evalue": "name 'games_played_matix_spares' is not defined",
     "output_type": "error",
     "traceback": [
      "\u001b[1;31m---------------------------------------------------------------------------\u001b[0m",
      "\u001b[1;31mNameError\u001b[0m                                 Traceback (most recent call last)",
      "\u001b[1;32m<ipython-input-5-1c20eb590711>\u001b[0m in \u001b[0;36m<module>\u001b[1;34m\u001b[0m\n\u001b[0;32m      1\u001b[0m \u001b[1;31m#Constant parameters for model\u001b[0m\u001b[1;33m\u001b[0m\u001b[1;33m\u001b[0m\u001b[1;33m\u001b[0m\u001b[0m\n\u001b[1;32m----> 2\u001b[1;33m \u001b[0mnum_games\u001b[0m\u001b[1;33m,\u001b[0m \u001b[0mnum_users\u001b[0m \u001b[1;33m=\u001b[0m \u001b[0mgames_played_matix_spares\u001b[0m\u001b[1;33m.\u001b[0m\u001b[0mshape\u001b[0m\u001b[1;33m\u001b[0m\u001b[1;33m\u001b[0m\u001b[0m\n\u001b[0m\u001b[0;32m      3\u001b[0m \u001b[0mlatent_dim\u001b[0m \u001b[1;33m=\u001b[0m \u001b[1;36m100\u001b[0m\u001b[1;33m\u001b[0m\u001b[1;33m\u001b[0m\u001b[0m\n\u001b[0;32m      4\u001b[0m \u001b[0mfc_dim\u001b[0m \u001b[1;33m=\u001b[0m \u001b[1;36m50\u001b[0m\u001b[1;33m\u001b[0m\u001b[1;33m\u001b[0m\u001b[0m\n",
      "\u001b[1;31mNameError\u001b[0m: name 'games_played_matix_spares' is not defined"
     ]
    }
   ],
   "source": [
    "#Constant parameters for model\n",
    "num_games, num_users = games_played_matix_spares.shape\n",
    "latent_dim = 100\n",
    "fc_dim = 50\n"
   ]
  },
  {
   "cell_type": "code",
   "execution_count": 6,
   "metadata": {},
   "outputs": [
    {
     "ename": "NameError",
     "evalue": "name 'keras' is not defined",
     "output_type": "error",
     "traceback": [
      "\u001b[1;31m---------------------------------------------------------------------------\u001b[0m",
      "\u001b[1;31mNameError\u001b[0m                                 Traceback (most recent call last)",
      "\u001b[1;32m<ipython-input-6-3f436eeb4dc6>\u001b[0m in \u001b[0;36m<module>\u001b[1;34m\u001b[0m\n\u001b[0;32m      1\u001b[0m \u001b[1;31m#design input layer\u001b[0m\u001b[1;33m\u001b[0m\u001b[1;33m\u001b[0m\u001b[1;33m\u001b[0m\u001b[0m\n\u001b[1;32m----> 2\u001b[1;33m \u001b[0muser_input\u001b[0m \u001b[1;33m=\u001b[0m \u001b[0mkeras\u001b[0m\u001b[1;33m.\u001b[0m\u001b[0mInput\u001b[0m\u001b[1;33m(\u001b[0m\u001b[0mshape\u001b[0m \u001b[1;33m=\u001b[0m \u001b[1;33m(\u001b[0m\u001b[1;36m1\u001b[0m\u001b[1;33m,\u001b[0m\u001b[1;33m)\u001b[0m\u001b[1;33m,\u001b[0m \u001b[0mname\u001b[0m\u001b[1;33m=\u001b[0m\u001b[1;34m\"user\"\u001b[0m\u001b[1;33m)\u001b[0m\u001b[1;33m\u001b[0m\u001b[1;33m\u001b[0m\u001b[0m\n\u001b[0m\u001b[0;32m      3\u001b[0m \u001b[0mgame_input\u001b[0m \u001b[1;33m=\u001b[0m \u001b[0mkeras\u001b[0m\u001b[1;33m.\u001b[0m\u001b[0mInput\u001b[0m\u001b[1;33m(\u001b[0m\u001b[0mshape\u001b[0m \u001b[1;33m=\u001b[0m \u001b[1;33m(\u001b[0m\u001b[1;36m1\u001b[0m\u001b[1;33m,\u001b[0m\u001b[1;33m)\u001b[0m\u001b[1;33m,\u001b[0m \u001b[0mname\u001b[0m\u001b[1;33m=\u001b[0m\u001b[1;34m\"game\"\u001b[0m\u001b[1;33m)\u001b[0m\u001b[1;33m\u001b[0m\u001b[1;33m\u001b[0m\u001b[0m\n\u001b[0;32m      4\u001b[0m \u001b[1;33m\u001b[0m\u001b[0m\n\u001b[0;32m      5\u001b[0m \u001b[1;31m#create embeddings for vector representing user and their games played\u001b[0m\u001b[1;33m\u001b[0m\u001b[1;33m\u001b[0m\u001b[1;33m\u001b[0m\u001b[0m\n",
      "\u001b[1;31mNameError\u001b[0m: name 'keras' is not defined"
     ]
    }
   ],
   "source": [
    "#design input layer\n",
    "user_input = keras.Input(shape = (1,), name=\"user\")\n",
    "game_input = keras.Input(shape = (1,), name=\"game\")\n",
    "\n",
    "#create embeddings for vector representing user and their games played\n",
    "user_embeddings = layers.Embedding(input_dim = num_users, output_dim = latent_dim, name = 'user_embedding',\n",
    "                                  embeddings_initializer=\"uniform\", input_length=1)(user_input)\n",
    "game_embeddings = layers.Embedding(input_dim = num_games, output_dim = latent_dim, name = 'game_embedding',\n",
    "                                  embeddings_initializer=\"uniform\", input_length=1)(game_input)\n",
    "\n",
    "#add dropout to both embedding layers\n",
    "user_dropout = layers.Dropout(rate=.5, name='user_dropout')(user_embeddings)\n",
    "game_dropout = layers.Dropout(rate=.5, name='game_dropout')(game_embeddings)\n",
    "\n",
    "#flatten out results into one dimension\n",
    "user_latent = layers.Flatten(name = \"user_flatten\")((user_dropout))\n",
    "game_latent = layers.Flatten(name = \"game_flatten\")((game_dropout))\n",
    "\n",
    "#dot product of these latent vectors\n",
    "predict_vector = layers.Multiply(name = \"dot_product\")([user_latent, game_latent])\n",
    "\n",
    "#one hidden fully connected layer after dot product\n",
    "dense_layer = layers.Dense(fc_dim, name = \"fully_connected\")(predict_vector)\n",
    "\n",
    "#dropout after fully connected to help against overfitting\n",
    "dense_dropout = layers.Dropout(rate=.5, name = \"fc_dropout\")(dense_layer)\n",
    "\n",
    "#final dense layer\n",
    "prediction = layers.Dense(1, activation= 'sigmoid', kernel_initializer= 'lecun_uniform', name = 'predicition')(dense_dropout)\n",
    "\n",
    "#Build the model\n",
    "model = keras.Model(inputs = [user_input, game_input], outputs = prediction, name='Matrix Factorization')\n",
    "\n",
    "#print summary\n",
    "model.summary()"
   ]
  },
  {
   "cell_type": "code",
   "execution_count": 17,
   "metadata": {},
   "outputs": [
    {
     "data": {
      "text/plain": [
       "[]"
      ]
     },
     "execution_count": 17,
     "metadata": {},
     "output_type": "execute_result"
    }
   ],
   "source": []
  },
  {
   "cell_type": "code",
   "execution_count": null,
   "metadata": {},
   "outputs": [],
   "source": []
  }
 ],
 "metadata": {
  "kernelspec": {
   "display_name": "Python [conda env:root] *",
   "language": "python",
   "name": "conda-root-py"
  },
  "language_info": {
   "codemirror_mode": {
    "name": "ipython",
    "version": 3
   },
   "file_extension": ".py",
   "mimetype": "text/x-python",
   "name": "python",
   "nbconvert_exporter": "python",
   "pygments_lexer": "ipython3",
   "version": "3.6.10"
  }
 },
 "nbformat": 4,
 "nbformat_minor": 4
}
