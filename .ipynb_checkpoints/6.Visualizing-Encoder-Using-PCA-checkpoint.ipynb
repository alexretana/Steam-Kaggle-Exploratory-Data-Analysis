{
 "cells": [
  {
   "cell_type": "markdown",
   "metadata": {},
   "source": [
    "# Visualizing Encoder Using PCA\n",
    "\n",
    "Since the models in the last notebook don't take too long to train, a new model will be trained from scratch here. The objective in this notebook is to train this model as normal, but then attempt to create a visualization of the embedding vector. Ideally, this would allow the games and users to be catergorized by groups of interest.\n",
    "\n",
    "The project starts by importing data, and defining a function to build a model, most which is copied from the last notebook. "
   ]
  },
  {
   "cell_type": "code",
   "execution_count": 1,
   "metadata": {},
   "outputs": [
    {
     "name": "stderr",
     "output_type": "stream",
     "text": [
      "C:\\Users\\alexr\\Anaconda3\\lib\\site-packages\\numpy\\_distributor_init.py:32: UserWarning: loaded more than 1 DLL from .libs:\n",
      "C:\\Users\\alexr\\Anaconda3\\lib\\site-packages\\numpy\\.libs\\libopenblas.IPBC74C7KURV7CB2PKT5Z5FNR3SIBV4J.gfortran-win_amd64.dll\n",
      "C:\\Users\\alexr\\Anaconda3\\lib\\site-packages\\numpy\\.libs\\libopenblas.PYQHXLVVQ7VESDPUVUADXEVJOBGHJPAY.gfortran-win_amd64.dll\n",
      "  stacklevel=1)\n"
     ]
    },
    {
     "name": "stdout",
     "output_type": "stream",
     "text": [
      "numpyy version:  1.18.5\n",
      "tensorflow version:  2.3.0\n",
      "keras version:  2.4.0\n"
     ]
    }
   ],
   "source": [
    "%matplotlib inline\n",
    "import pickle\n",
    "import numpy as np\n",
    "import tensorflow as tf\n",
    "from tensorflow import keras\n",
    "from tensorflow.keras import layers\n",
    "from sklearn.model_selection import train_test_split\n",
    "from sklearn.preprocessing import LabelEncoder\n",
    "import pandas as pd\n",
    "import matplotlib.pyplot as plt\n",
    "import seaborn as sns\n",
    "from scipy import sparse\n",
    "from scipy.special import expit\n",
    "from timeit import default_timer\n",
    "from sklearn.decomposition import PCA\n",
    "\n",
    "\n",
    "print(\"numpyy version: \",np.__version__)\n",
    "print(\"tensorflow version: \", tf.__version__)\n",
    "print(\"keras version: \", keras.__version__)"
   ]
  },
  {
   "cell_type": "markdown",
   "metadata": {},
   "source": [
    "List available devices for tensorflow, to ensure GPU will be utilized (if you have one)"
   ]
  },
  {
   "cell_type": "code",
   "execution_count": 2,
   "metadata": {},
   "outputs": [
    {
     "data": {
      "text/plain": [
       "[PhysicalDevice(name='/physical_device:CPU:0', device_type='CPU'),\n",
       " PhysicalDevice(name='/physical_device:XLA_CPU:0', device_type='XLA_CPU'),\n",
       " PhysicalDevice(name='/physical_device:XLA_GPU:0', device_type='XLA_GPU')]"
      ]
     },
     "execution_count": 2,
     "metadata": {},
     "output_type": "execute_result"
    }
   ],
   "source": [
    "tf.config.experimental.list_physical_devices()"
   ]
  },
  {
   "cell_type": "markdown",
   "metadata": {},
   "source": [
    "Copied set up of data from last notebook."
   ]
  },
  {
   "cell_type": "code",
   "execution_count": 4,
   "metadata": {},
   "outputs": [],
   "source": [
    "dtype_dict_games = {'buyer-count': 'int64',\n",
    " 'player-count': 'int64',\n",
    " 'accumulated-hours-played': 'float64',\n",
    " 'player-frac-of-buyer': 'float64',\n",
    " 'avg-hours-played': 'float64',\n",
    " 'std-hours-played': 'float64'}\n",
    "\n",
    "dtype_dict_users = {'purchased-game-count': 'int64',\n",
    " 'played-game-count': 'int32',\n",
    " 'played-hours-count': 'float64',\n",
    " 'purhased-gametitles-list': 'object',\n",
    " 'played-gametitles-list': 'object',\n",
    " 'percent-library-played': 'float64',\n",
    " 'played-hours-avg': 'float64',\n",
    " 'played-hours-std': 'float64',\n",
    " 'played-hours-max': 'float64',\n",
    " 'most-played-game': 'object'}\n",
    "\n",
    "games_stats_df = pd.read_csv('./steam_game_aggregate_data.CSV', index_col= 0,dtype=dtype_dict_games)\n",
    "users_stats_df = pd.read_csv('./steam_user_aggregate_data.CSV', index_col= 0,dtype=dtype_dict_users)\n",
    "\n",
    "\n",
    "#names to assign to columns\n",
    "column_names = ['user-id','game-title','behavior-name','value']\n",
    "\n",
    "#dtypes to assign\n",
    "dtypes = {'user-id':int, 'game-title':str, 'behavior-name':'category', 'value':np.float64}\n",
    "\n",
    "#read in data from csv (please adjust path if you want to run this). Dropped last column because useless\n",
    "df = pd.read_csv('./steam-200k.csv', \n",
    "                usecols=[0,1,2,3],\n",
    "                names=column_names)\n",
    "\n",
    "#selects only play data (not purchase data)\n",
    "play_mask = df['behavior-name'] == 'play'\n",
    "play_df = df[play_mask]\n",
    "\n",
    "#turn the full game list into list object to feed functions later\n",
    "full_game_list = games_stats_df.index.to_list()\n",
    "full_user_list = users_stats_df.index.to_list()\n",
    "\n",
    "#instanciate label encoder\n",
    "le = LabelEncoder()\n",
    "\n",
    "#fit and transform the list of user-ids\n",
    "pseudo_users = le.fit_transform(full_user_list)\n",
    "\n",
    "#Store mapping into diction and dump content into pkl\n",
    "pseudo_user_map = dict(zip(pseudo_users, le.classes_))\n",
    "with open('./user_encoding_dict.pkl', 'wb') as file:\n",
    "    pickle.dump(pseudo_user_map, file)\n",
    "\n",
    "#repeat for games encoding\n",
    "pseudo_games = le.fit_transform(full_game_list)    \n",
    "pseudo_game_map = dict(zip(pseudo_games, le.classes_))\n",
    "with open('./game_encoding_dict.pkl', 'wb') as file:\n",
    "    pickle.dump(pseudo_game_map, file)\n",
    "\n",
    "games_played_matrix = pd.DataFrame(columns=full_game_list, index=full_user_list, dtype=np.float64)\n",
    "\n",
    "for ind, row in play_df.iterrows():\n",
    "    games_played_matrix.at[int(row['user-id']), row['game-title']] = 1\n",
    "\n",
    "#the labels are changed after inputing the values\n",
    "games_played_matrix.index = pseudo_users\n",
    "games_played_matrix.columns = pseudo_games\n",
    "\n",
    "#uplayed games get 0 value\n",
    "for ind, row in games_played_matrix.iterrows():\n",
    "    row.fillna(0, inplace=True)\n",
    "    \n",
    "#convert to scipy.sparse.dok_matrix\n",
    "games_played_matrix_sparse = sparse.dok_matrix(games_played_matrix.values)\n",
    "\n",
    "# Generate Training and Test data\n",
    "user_input_data, game_input_data, labels_data = [],[],[]\n",
    "num_users, num_games = games_played_matrix_sparse.shape\n",
    "for (u, i) in games_played_matrix_sparse.keys():\n",
    "    # positive instance\n",
    "    user_input_data.append(float(u))\n",
    "    game_input_data.append(float(i))\n",
    "    labels_data.append(1.0)\n",
    "    # negative instances, 4 choosen arbitrarily\n",
    "    for t in range(4):\n",
    "        j = np.random.randint(num_games)\n",
    "        while games_played_matrix_sparse[u, j] == 1:\n",
    "            j = np.random.randint(num_games)\n",
    "        user_input_data.append(float(u))\n",
    "        game_input_data.append(float(j))\n",
    "        labels_data.append(0.0)"
   ]
  },
  {
   "cell_type": "code",
   "execution_count": 7,
   "metadata": {},
   "outputs": [],
   "source": [
    "def get_model(name = \"\", latent_dim = 100, fc_dim = 50):\n",
    "    #Constant parameters for model\n",
    "    model_name = \"Neural_CF_\" + name\n",
    "    user_emb_name = \"User_Embedding_\" + name\n",
    "    game_emb_name = \"Game_Embedding_\" + name\n",
    "    latent_dim = 100\n",
    "    fc_dim = 50\n",
    "\n",
    "    #design input layer\n",
    "    user_input = keras.Input(shape = (1,), name=\"user\")\n",
    "    game_input = keras.Input(shape = (1,), name=\"game\")\n",
    "\n",
    "    #create embeddings for vector representing user and their games played\n",
    "    user_embeddings = layers.Embedding(input_dim = num_users, output_dim = latent_dim, name = 'user_embedding',\n",
    "                                  embeddings_initializer=\"uniform\", input_length=1)(user_input)\n",
    "    game_embeddings = layers.Embedding(input_dim = num_games, output_dim = latent_dim, name = 'game_embedding',\n",
    "                                  embeddings_initializer=\"uniform\", input_length=1)(game_input)\n",
    "\n",
    "    #add dropout to both embedding layers\n",
    "    user_dropout = layers.Dropout(rate=.5, name='user_dropout')(user_embeddings)\n",
    "    game_dropout = layers.Dropout(rate=.5, name='game_dropout')(game_embeddings)\n",
    "\n",
    "    #flatten out results into one dimension\n",
    "    user_latent = layers.Flatten(name = \"user_flatten\")((user_dropout))\n",
    "    game_latent = layers.Flatten(name = \"game_flatten\")((game_dropout))\n",
    "\n",
    "    #dot product of these latent vectors\n",
    "    predict_vector = layers.Multiply(name = \"dot_product\")([user_latent, game_latent])\n",
    "\n",
    "    #one hidden fully connected layer after dot product\n",
    "    dense_layer = layers.Dense(fc_dim, name = \"fully_connected\", kernel_initializer = 'lecun_uniform', activation = 'relu')(predict_vector)\n",
    "\n",
    "    #dropout after fully connected to help against overfitting\n",
    "    dense_dropout = layers.Dropout(rate=.5, name = \"fc_dropout\")(dense_layer)\n",
    "\n",
    "    #final dense layer\n",
    "    prediction = layers.Dense(1, activation= 'sigmoid', kernel_initializer= 'lecun_uniform', name = 'predicition')(dense_dropout)\n",
    "\n",
    "    #Build the model\n",
    "    model = keras.Model(inputs = [user_input, game_input], outputs = prediction, name=model_name)\n",
    "    user_emb = keras.Model(user_input, user_latent, name = user_emb_name)\n",
    "    game_emb = keras.Model(game_input, game_latent, name = game_emb_name)\n",
    "    \n",
    "    return model, user_emb, game_emb\n",
    "\n",
    "def train_model(model, batch_size = 100, epochs = 20, split = 0.2, verbose=1):\n",
    "    #Setting the training hyperparameters for the model\n",
    "    model.compile(loss='binary_crossentropy', \n",
    "                  optimizer = 'adam',\n",
    "                  metrics = [\"accuracy\"])\n",
    "\n",
    "    test_loss_scores = []\n",
    "    test_accuracy_scores = []\n",
    "    #Train the model\n",
    "    for epoch in range(epochs):\n",
    "        model.fit([np.array(user_train_input), np.array(game_train_input)],\n",
    "                  np.array(Y_train),\n",
    "                  batch_size = batch_size,\n",
    "                  epochs = 1,\n",
    "                  validation_split = split,\n",
    "                  verbose = verbose)\n",
    "\n",
    "        test_scores = model.evaluate([np.array(user_test_input), np.array(game_test_input)], np.array(Y_test), verbose = verbose)\n",
    "        test_loss_scores.append(test_scores[0])\n",
    "        test_accuracy_scores.append(test_scores[1])\n",
    "\n",
    "    training_scores_df = pd.DataFrame([test_loss_scores, test_accuracy_scores], index = ['test_loss_scores', 'test_accuracy_scores']).T\n",
    "    training_scores_df['epoch'] = training_scores_df.index\n",
    "\n",
    "    training_scores_df = pd.melt(training_scores_df, id_vars= 'epoch',\n",
    "            value_vars = ['test_loss_scores', 'test_accuracy_scores'],\n",
    "            var_name = 'score_type',\n",
    "            value_name = 'score')\n",
    "\n",
    "    sns.lineplot(x= 'epoch', y= 'score', hue = 'score_type', data = training_scores_df)\n",
    "    \n",
    "    return training_scores_df\n",
    "\n",
    "def printScoresTime(scores_df, start_time):\n",
    "    \n",
    "    #measure time difference and print\n",
    "    time_elapse = default_timer() - start_time\n",
    "    print(\"Training this model took \", time_elapse, \" second(s)\")\n",
    "    \n",
    "    #collect highest accurcy and lowest loss\n",
    "    best_loss = scores_df['score'].min()\n",
    "    best_accuracy = scores_df['score'].max()\n",
    "    print(\"With the best loss score being: \", best_loss)\n",
    "    print(\"With the best accuracy score being: \", best_accuracy)"
   ]
  },
  {
   "cell_type": "code",
   "execution_count": 9,
   "metadata": {},
   "outputs": [],
   "source": [
    "from sklearn.model_selection import train_test_split\n",
    "#zip user and game features together to allow train_test_split to split into training and testing data\n",
    "user_game_input_data = list(zip(user_input_data, game_input_data))\n",
    "\n",
    "#apply split\n",
    "X_train, X_test, Y_train, Y_test = train_test_split(user_game_input_data, labels_data, test_size=0.2, random_state=42)\n",
    "\n",
    "#split each X_train and X_test into user and game inputs again\n",
    "user_train_input, game_train_input = map(list, zip(*X_train))\n",
    "user_test_input, game_test_input = map(list, zip(*X_test))"
   ]
  },
  {
   "cell_type": "code",
   "execution_count": 10,
   "metadata": {},
   "outputs": [
    {
     "ename": "NameError",
     "evalue": "name 'start_time' is not defined",
     "output_type": "error",
     "traceback": [
      "\u001b[1;31m---------------------------------------------------------------------------\u001b[0m",
      "\u001b[1;31mNameError\u001b[0m                                 Traceback (most recent call last)",
      "\u001b[1;32m<ipython-input-10-46ee91bc0b23>\u001b[0m in \u001b[0;36m<module>\u001b[1;34m\u001b[0m\n\u001b[0;32m      3\u001b[0m \u001b[0mscores_df\u001b[0m \u001b[1;33m=\u001b[0m \u001b[0mtrain_model\u001b[0m\u001b[1;33m(\u001b[0m\u001b[0mmodel\u001b[0m\u001b[1;33m,\u001b[0m \u001b[0mbatch_size\u001b[0m \u001b[1;33m=\u001b[0m \u001b[1;36m50\u001b[0m\u001b[1;33m,\u001b[0m \u001b[0mverbose\u001b[0m \u001b[1;33m=\u001b[0m \u001b[1;36m0\u001b[0m\u001b[1;33m)\u001b[0m\u001b[1;33m\u001b[0m\u001b[1;33m\u001b[0m\u001b[0m\n\u001b[0;32m      4\u001b[0m \u001b[1;33m\u001b[0m\u001b[0m\n\u001b[1;32m----> 5\u001b[1;33m \u001b[0mprintScoresTime\u001b[0m\u001b[1;33m(\u001b[0m\u001b[0mscores_df\u001b[0m\u001b[1;33m,\u001b[0m \u001b[0mstart_time\u001b[0m\u001b[1;33m)\u001b[0m\u001b[1;33m\u001b[0m\u001b[1;33m\u001b[0m\u001b[0m\n\u001b[0m",
      "\u001b[1;31mNameError\u001b[0m: name 'start_time' is not defined"
     ]
    },
    {
     "data": {
      "image/png": "[encoded data removed]",
      "text/plain": [
       "<Figure size 432x288 with 1 Axes>"
      ]
     },
     "metadata": {
      "needs_background": "light"
     },
     "output_type": "display_data"
    }
   ],
   "source": [
    "model, user_emb, game_emb = get_model(\"4PCA\")\n",
    "\n",
    "scores_df = train_model(model, batch_size = 50, verbose = 0)\n",
    "\n",
    "printScoresTime(scores_df, start_time)"
   ]
  },
  {
   "cell_type": "code",
   "execution_count": 20,
   "metadata": {},
   "outputs": [
    {
     "name": "stdout",
     "output_type": "stream",
     "text": [
      "Model: \"User_Embedding_4PCA\"\n",
      "_________________________________________________________________\n",
      "Layer (type)                 Output Shape              Param #   \n",
      "=================================================================\n",
      "user (InputLayer)            [(None, 1)]               0         \n",
      "_________________________________________________________________\n",
      "user_embedding (Embedding)   (None, 1, 100)            1239300   \n",
      "_________________________________________________________________\n",
      "user_dropout (Dropout)       (None, 1, 100)            0         \n",
      "_________________________________________________________________\n",
      "user_flatten (Flatten)       (None, 100)               0         \n",
      "=================================================================\n",
      "Total params: 1,239,300\n",
      "Trainable params: 1,239,300\n",
      "Non-trainable params: 0\n",
      "_________________________________________________________________\n",
      "\n",
      "-=|=--=|=--=|=--=|=--=|=--=|=--=|=--=|=--=|=--=|=--=|=--=|=--=|=--=|=-\n",
      "\n",
      "Model: \"Game_Embedding_4PCA\"\n",
      "_________________________________________________________________\n",
      "Layer (type)                 Output Shape              Param #   \n",
      "=================================================================\n",
      "game (InputLayer)            [(None, 1)]               0         \n",
      "_________________________________________________________________\n",
      "game_embedding (Embedding)   (None, 1, 100)            515500    \n",
      "_________________________________________________________________\n",
      "game_dropout (Dropout)       (None, 1, 100)            0         \n",
      "_________________________________________________________________\n",
      "game_flatten (Flatten)       (None, 100)               0         \n",
      "=================================================================\n",
      "Total params: 515,500\n",
      "Trainable params: 515,500\n",
      "Non-trainable params: 0\n",
      "_________________________________________________________________\n"
     ]
    }
   ],
   "source": [
    "encoded_users = user_emb.predict(user_input_data)\n",
    "encoded_games = game_emb.predict(game_input_data)\n",
    "\n",
    "user_emb.summary()\n",
    "print(\"\"\"\n",
    "-=|=--=|=--=|=--=|=--=|=--=|=--=|=--=|=--=|=--=|=--=|=--=|=--=|=--=|=-\n",
    "\"\"\")\n",
    "game_emb.summary()"
   ]
  },
  {
   "cell_type": "code",
   "execution_count": 22,
   "metadata": {},
   "outputs": [
    {
     "data": {
      "text/plain": [
       "<matplotlib.axes._subplots.AxesSubplot at 0x2e8a3c93c88>"
      ]
     },
     "execution_count": 22,
     "metadata": {},
     "output_type": "execute_result"
    },
    {
     "data": {
      "image/png": "[encoded data removed]",
      "text/plain": [
       "<Figure size 432x288 with 1 Axes>"
      ]
     },
     "metadata": {
      "needs_background": "light"
     },
     "output_type": "display_data"
    }
   ],
   "source": [
    "pca = PCA(n_components= 2)\n",
    "pca.fit(encoded_users)\n",
    "user_vectors = pca.components_.T\n",
    "user_vec_df = pd.DataFrame(user_vectors, columns=['axis-1', 'axis-2'])\n",
    "\n",
    "sns.scatterplot(data=user_vec_df, x='axis-1', y='axis-2')"
   ]
  },
  {
   "cell_type": "code",
   "execution_count": 23,
   "metadata": {},
   "outputs": [
    {
     "data": {
      "text/plain": [
       "<matplotlib.axes._subplots.AxesSubplot at 0x2e8a3d056a0>"
      ]
     },
     "execution_count": 23,
     "metadata": {},
     "output_type": "execute_result"
    },
    {
     "data": {
      "image/png": "[encoded data removed]",
      "text/plain": [
       "<Figure size 432x288 with 1 Axes>"
      ]
     },
     "metadata": {
      "needs_background": "light"
     },
     "output_type": "display_data"
    }
   ],
   "source": [
    "pca = PCA(n_components= 2)\n",
    "pca.fit(encoded_games)\n",
    "game_vectors = pca.components_.T\n",
    "game_vec_df = pd.DataFrame(game_vectors, columns=['axis-1', 'axis-2'])\n",
    "\n",
    "sns.scatterplot(data=game_vec_df, x='axis-1', y='axis-2')"
   ]
  },
  {
   "cell_type": "code",
   "execution_count": 26,
   "metadata": {},
   "outputs": [
    {
     "ename": "MemoryError",
     "evalue": "Unable to allocate 463. GiB for an array with shape (352385, 352385) and data type float32",
     "output_type": "error",
     "traceback": [
      "\u001b[1;31m---------------------------------------------------------------------------\u001b[0m",
      "\u001b[1;31mMemoryError\u001b[0m                               Traceback (most recent call last)",
      "\u001b[1;32m<ipython-input-26-e82e755d6e5d>\u001b[0m in \u001b[0;36m<module>\u001b[1;34m\u001b[0m\n\u001b[0;32m      1\u001b[0m \u001b[1;32mfrom\u001b[0m \u001b[0msklearn\u001b[0m\u001b[1;33m.\u001b[0m\u001b[0mdecomposition\u001b[0m \u001b[1;32mimport\u001b[0m \u001b[0mKernelPCA\u001b[0m\u001b[1;33m\u001b[0m\u001b[1;33m\u001b[0m\u001b[0m\n\u001b[0;32m      2\u001b[0m \u001b[0mpca\u001b[0m \u001b[1;33m=\u001b[0m \u001b[0mKernelPCA\u001b[0m\u001b[1;33m(\u001b[0m\u001b[0mn_components\u001b[0m\u001b[1;33m=\u001b[0m \u001b[1;36m2\u001b[0m\u001b[1;33m)\u001b[0m\u001b[1;33m\u001b[0m\u001b[1;33m\u001b[0m\u001b[0m\n\u001b[1;32m----> 3\u001b[1;33m \u001b[0mpca\u001b[0m\u001b[1;33m.\u001b[0m\u001b[0mfit\u001b[0m\u001b[1;33m(\u001b[0m\u001b[0mencoded_users\u001b[0m\u001b[1;33m)\u001b[0m\u001b[1;33m\u001b[0m\u001b[1;33m\u001b[0m\u001b[0m\n\u001b[0m\u001b[0;32m      4\u001b[0m \u001b[0muser_vectors\u001b[0m \u001b[1;33m=\u001b[0m \u001b[0mpca\u001b[0m\u001b[1;33m.\u001b[0m\u001b[0mcomponents_\u001b[0m\u001b[1;33m.\u001b[0m\u001b[0mT\u001b[0m\u001b[1;33m\u001b[0m\u001b[1;33m\u001b[0m\u001b[0m\n\u001b[0;32m      5\u001b[0m \u001b[0muser_vec_df\u001b[0m \u001b[1;33m=\u001b[0m \u001b[0mpd\u001b[0m\u001b[1;33m.\u001b[0m\u001b[0mDataFrame\u001b[0m\u001b[1;33m(\u001b[0m\u001b[0muser_vectors\u001b[0m\u001b[1;33m,\u001b[0m \u001b[0mcolumns\u001b[0m\u001b[1;33m=\u001b[0m\u001b[1;33m[\u001b[0m\u001b[1;34m'axis-1'\u001b[0m\u001b[1;33m,\u001b[0m \u001b[1;34m'axis-2'\u001b[0m\u001b[1;33m]\u001b[0m\u001b[1;33m)\u001b[0m\u001b[1;33m\u001b[0m\u001b[1;33m\u001b[0m\u001b[0m\n",
      "\u001b[1;32m~\\Anaconda3\\lib\\site-packages\\sklearn\\decomposition\\_kernel_pca.py\u001b[0m in \u001b[0;36mfit\u001b[1;34m(self, X, y)\u001b[0m\n\u001b[0;32m    279\u001b[0m         \u001b[0mX\u001b[0m \u001b[1;33m=\u001b[0m \u001b[0mcheck_array\u001b[0m\u001b[1;33m(\u001b[0m\u001b[0mX\u001b[0m\u001b[1;33m,\u001b[0m \u001b[0maccept_sparse\u001b[0m\u001b[1;33m=\u001b[0m\u001b[1;34m'csr'\u001b[0m\u001b[1;33m,\u001b[0m \u001b[0mcopy\u001b[0m\u001b[1;33m=\u001b[0m\u001b[0mself\u001b[0m\u001b[1;33m.\u001b[0m\u001b[0mcopy_X\u001b[0m\u001b[1;33m)\u001b[0m\u001b[1;33m\u001b[0m\u001b[1;33m\u001b[0m\u001b[0m\n\u001b[0;32m    280\u001b[0m         \u001b[0mself\u001b[0m\u001b[1;33m.\u001b[0m\u001b[0m_centerer\u001b[0m \u001b[1;33m=\u001b[0m \u001b[0mKernelCenterer\u001b[0m\u001b[1;33m(\u001b[0m\u001b[1;33m)\u001b[0m\u001b[1;33m\u001b[0m\u001b[1;33m\u001b[0m\u001b[0m\n\u001b[1;32m--> 281\u001b[1;33m         \u001b[0mK\u001b[0m \u001b[1;33m=\u001b[0m \u001b[0mself\u001b[0m\u001b[1;33m.\u001b[0m\u001b[0m_get_kernel\u001b[0m\u001b[1;33m(\u001b[0m\u001b[0mX\u001b[0m\u001b[1;33m)\u001b[0m\u001b[1;33m\u001b[0m\u001b[1;33m\u001b[0m\u001b[0m\n\u001b[0m\u001b[0;32m    282\u001b[0m         \u001b[0mself\u001b[0m\u001b[1;33m.\u001b[0m\u001b[0m_fit_transform\u001b[0m\u001b[1;33m(\u001b[0m\u001b[0mK\u001b[0m\u001b[1;33m)\u001b[0m\u001b[1;33m\u001b[0m\u001b[1;33m\u001b[0m\u001b[0m\n\u001b[0;32m    283\u001b[0m \u001b[1;33m\u001b[0m\u001b[0m\n",
      "\u001b[1;32m~\\Anaconda3\\lib\\site-packages\\sklearn\\decomposition\\_kernel_pca.py\u001b[0m in \u001b[0;36m_get_kernel\u001b[1;34m(self, X, Y)\u001b[0m\n\u001b[0;32m    179\u001b[0m         return pairwise_kernels(X, Y, metric=self.kernel,\n\u001b[0;32m    180\u001b[0m                                 \u001b[0mfilter_params\u001b[0m\u001b[1;33m=\u001b[0m\u001b[1;32mTrue\u001b[0m\u001b[1;33m,\u001b[0m \u001b[0mn_jobs\u001b[0m\u001b[1;33m=\u001b[0m\u001b[0mself\u001b[0m\u001b[1;33m.\u001b[0m\u001b[0mn_jobs\u001b[0m\u001b[1;33m,\u001b[0m\u001b[1;33m\u001b[0m\u001b[1;33m\u001b[0m\u001b[0m\n\u001b[1;32m--> 181\u001b[1;33m                                 **params)\n\u001b[0m\u001b[0;32m    182\u001b[0m \u001b[1;33m\u001b[0m\u001b[0m\n\u001b[0;32m    183\u001b[0m     \u001b[1;32mdef\u001b[0m \u001b[0m_fit_transform\u001b[0m\u001b[1;33m(\u001b[0m\u001b[0mself\u001b[0m\u001b[1;33m,\u001b[0m \u001b[0mK\u001b[0m\u001b[1;33m)\u001b[0m\u001b[1;33m:\u001b[0m\u001b[1;33m\u001b[0m\u001b[1;33m\u001b[0m\u001b[0m\n",
      "\u001b[1;32m~\\Anaconda3\\lib\\site-packages\\sklearn\\metrics\\pairwise.py\u001b[0m in \u001b[0;36mpairwise_kernels\u001b[1;34m(X, Y, metric, filter_params, n_jobs, **kwds)\u001b[0m\n\u001b[0;32m   1907\u001b[0m         \u001b[1;32mraise\u001b[0m \u001b[0mValueError\u001b[0m\u001b[1;33m(\u001b[0m\u001b[1;34m\"Unknown kernel %r\"\u001b[0m \u001b[1;33m%\u001b[0m \u001b[0mmetric\u001b[0m\u001b[1;33m)\u001b[0m\u001b[1;33m\u001b[0m\u001b[1;33m\u001b[0m\u001b[0m\n\u001b[0;32m   1908\u001b[0m \u001b[1;33m\u001b[0m\u001b[0m\n\u001b[1;32m-> 1909\u001b[1;33m     \u001b[1;32mreturn\u001b[0m \u001b[0m_parallel_pairwise\u001b[0m\u001b[1;33m(\u001b[0m\u001b[0mX\u001b[0m\u001b[1;33m,\u001b[0m \u001b[0mY\u001b[0m\u001b[1;33m,\u001b[0m \u001b[0mfunc\u001b[0m\u001b[1;33m,\u001b[0m \u001b[0mn_jobs\u001b[0m\u001b[1;33m,\u001b[0m \u001b[1;33m**\u001b[0m\u001b[0mkwds\u001b[0m\u001b[1;33m)\u001b[0m\u001b[1;33m\u001b[0m\u001b[1;33m\u001b[0m\u001b[0m\n\u001b[0m",
      "\u001b[1;32m~\\Anaconda3\\lib\\site-packages\\sklearn\\metrics\\pairwise.py\u001b[0m in \u001b[0;36m_parallel_pairwise\u001b[1;34m(X, Y, func, n_jobs, **kwds)\u001b[0m\n\u001b[0;32m   1346\u001b[0m \u001b[1;33m\u001b[0m\u001b[0m\n\u001b[0;32m   1347\u001b[0m     \u001b[1;32mif\u001b[0m \u001b[0meffective_n_jobs\u001b[0m\u001b[1;33m(\u001b[0m\u001b[0mn_jobs\u001b[0m\u001b[1;33m)\u001b[0m \u001b[1;33m==\u001b[0m \u001b[1;36m1\u001b[0m\u001b[1;33m:\u001b[0m\u001b[1;33m\u001b[0m\u001b[1;33m\u001b[0m\u001b[0m\n\u001b[1;32m-> 1348\u001b[1;33m         \u001b[1;32mreturn\u001b[0m \u001b[0mfunc\u001b[0m\u001b[1;33m(\u001b[0m\u001b[0mX\u001b[0m\u001b[1;33m,\u001b[0m \u001b[0mY\u001b[0m\u001b[1;33m,\u001b[0m \u001b[1;33m**\u001b[0m\u001b[0mkwds\u001b[0m\u001b[1;33m)\u001b[0m\u001b[1;33m\u001b[0m\u001b[1;33m\u001b[0m\u001b[0m\n\u001b[0m\u001b[0;32m   1349\u001b[0m \u001b[1;33m\u001b[0m\u001b[0m\n\u001b[0;32m   1350\u001b[0m     \u001b[1;31m# enforce a threading backend to prevent data communication overhead\u001b[0m\u001b[1;33m\u001b[0m\u001b[1;33m\u001b[0m\u001b[1;33m\u001b[0m\u001b[0m\n",
      "\u001b[1;32m~\\Anaconda3\\lib\\site-packages\\sklearn\\metrics\\pairwise.py\u001b[0m in \u001b[0;36mlinear_kernel\u001b[1;34m(X, Y, dense_output)\u001b[0m\n\u001b[0;32m    990\u001b[0m     \"\"\"\n\u001b[0;32m    991\u001b[0m     \u001b[0mX\u001b[0m\u001b[1;33m,\u001b[0m \u001b[0mY\u001b[0m \u001b[1;33m=\u001b[0m \u001b[0mcheck_pairwise_arrays\u001b[0m\u001b[1;33m(\u001b[0m\u001b[0mX\u001b[0m\u001b[1;33m,\u001b[0m \u001b[0mY\u001b[0m\u001b[1;33m)\u001b[0m\u001b[1;33m\u001b[0m\u001b[1;33m\u001b[0m\u001b[0m\n\u001b[1;32m--> 992\u001b[1;33m     \u001b[1;32mreturn\u001b[0m \u001b[0msafe_sparse_dot\u001b[0m\u001b[1;33m(\u001b[0m\u001b[0mX\u001b[0m\u001b[1;33m,\u001b[0m \u001b[0mY\u001b[0m\u001b[1;33m.\u001b[0m\u001b[0mT\u001b[0m\u001b[1;33m,\u001b[0m \u001b[0mdense_output\u001b[0m\u001b[1;33m=\u001b[0m\u001b[0mdense_output\u001b[0m\u001b[1;33m)\u001b[0m\u001b[1;33m\u001b[0m\u001b[1;33m\u001b[0m\u001b[0m\n\u001b[0m\u001b[0;32m    993\u001b[0m \u001b[1;33m\u001b[0m\u001b[0m\n\u001b[0;32m    994\u001b[0m \u001b[1;33m\u001b[0m\u001b[0m\n",
      "\u001b[1;32m~\\Anaconda3\\lib\\site-packages\\sklearn\\utils\\extmath.py\u001b[0m in \u001b[0;36msafe_sparse_dot\u001b[1;34m(a, b, dense_output)\u001b[0m\n\u001b[0;32m    149\u001b[0m             \u001b[0mret\u001b[0m \u001b[1;33m=\u001b[0m \u001b[0mnp\u001b[0m\u001b[1;33m.\u001b[0m\u001b[0mdot\u001b[0m\u001b[1;33m(\u001b[0m\u001b[0ma\u001b[0m\u001b[1;33m,\u001b[0m \u001b[0mb\u001b[0m\u001b[1;33m)\u001b[0m\u001b[1;33m\u001b[0m\u001b[1;33m\u001b[0m\u001b[0m\n\u001b[0;32m    150\u001b[0m     \u001b[1;32melse\u001b[0m\u001b[1;33m:\u001b[0m\u001b[1;33m\u001b[0m\u001b[1;33m\u001b[0m\u001b[0m\n\u001b[1;32m--> 151\u001b[1;33m         \u001b[0mret\u001b[0m \u001b[1;33m=\u001b[0m \u001b[0ma\u001b[0m \u001b[1;33m@\u001b[0m \u001b[0mb\u001b[0m\u001b[1;33m\u001b[0m\u001b[1;33m\u001b[0m\u001b[0m\n\u001b[0m\u001b[0;32m    152\u001b[0m \u001b[1;33m\u001b[0m\u001b[0m\n\u001b[0;32m    153\u001b[0m     if (sparse.issparse(a) and sparse.issparse(b)\n",
      "\u001b[1;31mMemoryError\u001b[0m: Unable to allocate 463. GiB for an array with shape (352385, 352385) and data type float32"
     ]
    }
   ],
   "source": [
    "from sklearn.decomposition import KernelPCA\n",
    "pca = KernelPCA(n_components= 2)\n",
    "pca.fit(encoded_users)\n",
    "user_vectors = pca.components_.T\n",
    "user_vec_df = pd.DataFrame(user_vectors, columns=['axis-1', 'axis-2'])\n",
    "\n",
    "sns.scatterplot(data=user_vec_df, x='axis-1', y='axis-2')"
   ]
  },
  {
   "cell_type": "code",
   "execution_count": 34,
   "metadata": {},
   "outputs": [
    {
     "data": {
      "text/plain": [
       "12393"
      ]
     },
     "execution_count": 34,
     "metadata": {},
     "output_type": "execute_result"
    }
   ],
   "source": [
    "len(pseudo_users)"
   ]
  },
  {
   "cell_type": "code",
   "execution_count": 32,
   "metadata": {},
   "outputs": [
    {
     "data": {
      "text/plain": [
       "array([    0,     1,     2, ..., 12390, 12391, 12392], dtype=int64)"
      ]
     },
     "execution_count": 32,
     "metadata": {},
     "output_type": "execute_result"
    }
   ],
   "source": [
    "pseudo_users"
   ]
  },
  {
   "cell_type": "code",
   "execution_count": null,
   "metadata": {},
   "outputs": [],
   "source": []
  }
 ],
 "metadata": {
  "kernelspec": {
   "display_name": "Python [conda env:root] *",
   "language": "python",
   "name": "conda-root-py"
  },
  "language_info": {
   "codemirror_mode": {
    "name": "ipython",
    "version": 3
   },
   "file_extension": ".py",
   "mimetype": "text/x-python",
   "name": "python",
   "nbconvert_exporter": "python",
   "pygments_lexer": "ipython3",
   "version": "3.6.10"
  }
 },
 "nbformat": 4,
 "nbformat_minor": 4
}
