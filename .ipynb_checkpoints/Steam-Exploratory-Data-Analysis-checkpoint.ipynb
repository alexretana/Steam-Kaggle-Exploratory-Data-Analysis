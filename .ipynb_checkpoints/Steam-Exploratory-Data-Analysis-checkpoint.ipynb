{
 "cells": [
  {
   "cell_type": "markdown",
   "metadata": {},
   "source": [
    "# Steam User Interaction: Exploratory Data Analysis\n",
    "\n",
    "Using this [dataset found from kaggle](https://www.kaggle.com/tamber/steam-video-games/data), which includes about 200,000 interactions from Steam users, which includes purchasing and playtime data. The dataset is a bit limited because it only discloses which products were purchased and how many hours of gameplay the user has, but no information about when any of these actions occur."
   ]
  },
  {
   "cell_type": "code",
   "execution_count": 1,
   "metadata": {},
   "outputs": [],
   "source": [
    "%matplotlib inline\n",
    "import pandas as pd\n",
    "import numpy as np\n",
    "import matplotlib.pyplot as plt"
   ]
  },
  {
   "cell_type": "markdown",
   "metadata": {},
   "source": [
    "We begin our exploration by utilizing pandas to extract the data from the csv and allow us to flexily manipulate this data.\n",
    "\n",
    "The columns didn't have a header, so the column names were added according to the kaggle page. Also, note that the final column is only comprise of 0's, and has no significance, so it was dropped."
   ]
  },
  {
   "cell_type": "code",
   "execution_count": 2,
   "metadata": {},
   "outputs": [],
   "source": [
    "#names to assign to columns\n",
    "column_names = ['user-id','game-title','behavior-name','value']\n",
    "\n",
    "#dtypes to assign\n",
    "dtypes = {'user-id':int, 'game-title':str, 'behavior-name':'category', 'value':np.float64}\n",
    "\n",
    "#read in data from csv (please adjust path if you want to run this). Dropped last column because useless\n",
    "df = pd.read_csv('./steam-200k.csv', \n",
    "                usecols=[0,1,2,3],\n",
    "                names=column_names)"
   ]
  },
  {
   "cell_type": "code",
   "execution_count": 3,
   "metadata": {},
   "outputs": [
    {
     "data": {
      "text/html": [
       "<div>\n",
       "<style scoped>\n",
       "    .dataframe tbody tr th:only-of-type {\n",
       "        vertical-align: middle;\n",
       "    }\n",
       "\n",
       "    .dataframe tbody tr th {\n",
       "        vertical-align: top;\n",
       "    }\n",
       "\n",
       "    .dataframe thead th {\n",
       "        text-align: right;\n",
       "    }\n",
       "</style>\n",
       "<table border=\"1\" class=\"dataframe\">\n",
       "  <thead>\n",
       "    <tr style=\"text-align: right;\">\n",
       "      <th></th>\n",
       "      <th>user-id</th>\n",
       "      <th>game-title</th>\n",
       "      <th>behavior-name</th>\n",
       "      <th>value</th>\n",
       "    </tr>\n",
       "  </thead>\n",
       "  <tbody>\n",
       "    <tr>\n",
       "      <th>0</th>\n",
       "      <td>151603712</td>\n",
       "      <td>The Elder Scrolls V Skyrim</td>\n",
       "      <td>purchase</td>\n",
       "      <td>1.0</td>\n",
       "    </tr>\n",
       "    <tr>\n",
       "      <th>1</th>\n",
       "      <td>151603712</td>\n",
       "      <td>The Elder Scrolls V Skyrim</td>\n",
       "      <td>play</td>\n",
       "      <td>273.0</td>\n",
       "    </tr>\n",
       "    <tr>\n",
       "      <th>2</th>\n",
       "      <td>151603712</td>\n",
       "      <td>Fallout 4</td>\n",
       "      <td>purchase</td>\n",
       "      <td>1.0</td>\n",
       "    </tr>\n",
       "    <tr>\n",
       "      <th>3</th>\n",
       "      <td>151603712</td>\n",
       "      <td>Fallout 4</td>\n",
       "      <td>play</td>\n",
       "      <td>87.0</td>\n",
       "    </tr>\n",
       "    <tr>\n",
       "      <th>4</th>\n",
       "      <td>151603712</td>\n",
       "      <td>Spore</td>\n",
       "      <td>purchase</td>\n",
       "      <td>1.0</td>\n",
       "    </tr>\n",
       "  </tbody>\n",
       "</table>\n",
       "</div>"
      ],
      "text/plain": [
       "     user-id                  game-title behavior-name  value\n",
       "0  151603712  The Elder Scrolls V Skyrim      purchase    1.0\n",
       "1  151603712  The Elder Scrolls V Skyrim          play  273.0\n",
       "2  151603712                   Fallout 4      purchase    1.0\n",
       "3  151603712                   Fallout 4          play   87.0\n",
       "4  151603712                       Spore      purchase    1.0"
      ]
     },
     "execution_count": 3,
     "metadata": {},
     "output_type": "execute_result"
    }
   ],
   "source": [
    "df.head()"
   ]
  },
  {
   "cell_type": "markdown",
   "metadata": {},
   "source": [
    "I want to clear up some things about this dataset; the first I'm curious about, \"does every play behavior HAVE to have a purchase behavior?\"\n",
    "\n",
    "We'll do this for one user and then iterate amoungst all users."
   ]
  },
  {
   "cell_type": "code",
   "execution_count": 4,
   "metadata": {},
   "outputs": [
    {
     "name": "stdout",
     "output_type": "stream",
     "text": [
      "True\n",
      "[True, True, True, True, True, True, True, True, True, True, True, True, True, True, True, True, True, True, True, True, True, True, True, True, True, True]\n"
     ]
    }
   ],
   "source": [
    "#boolean mask to extract only for one user\n",
    "user_mask = df['user-id'] == 151603712\n",
    "\n",
    "#dataframe is filter according to the mask above (i.e.) only transactions from user: 151603712\n",
    "ind_user_df = df[user_mask]\n",
    "\n",
    "#creates masks to seperate purchase and play data\n",
    "purchase_only = ind_user_df['behavior-name'] == 'purchase'\n",
    "play_only = ind_user_df['behavior-name'] == 'play'\n",
    "\n",
    "#uses masks to split\n",
    "ind_purch_df= ind_user_df[purchase_only]\n",
    "ind_play_df = ind_user_df[play_only]\n",
    "\n",
    "#creates list of unique values\n",
    "ind_purch_list = list(ind_purch_df['game-title'].unique())\n",
    "ind_play_list = list(ind_play_df['game-title'].unique())\n",
    "\n",
    "#Is every game played purchased?\n",
    "check = [game in ind_purch_list for game in ind_play_list]\n",
    "print(all(check))\n",
    "print(check)"
   ]
  },
  {
   "cell_type": "markdown",
   "metadata": {},
   "source": [
    "It appears that for the user in question, all games that they played have a corresponding purchased entry. In the next cell, the code is converted into a function, and the cell following iterates through all users."
   ]
  },
  {
   "cell_type": "code",
   "execution_count": 5,
   "metadata": {},
   "outputs": [],
   "source": [
    "def allplayedpurchased(userid):    \n",
    "    \n",
    "    #boolean mask to extract only for one user\n",
    "    user_mask = df['user-id'] == userid\n",
    "\n",
    "    #dataframe is filter according to the mask above (i.e.) only transactions from user: 151603712\n",
    "    ind_user_df = df[user_mask]\n",
    "\n",
    "    #creates masks to seperate purchase and play data\n",
    "    purchase_only = ind_user_df['behavior-name'] == 'purchase'\n",
    "    play_only = ind_user_df['behavior-name'] == 'play'\n",
    "\n",
    "    #uses masks to split\n",
    "    ind_purch_df= ind_user_df[purchase_only]\n",
    "    ind_play_df = ind_user_df[play_only]\n",
    "\n",
    "    #creates list of unique values\n",
    "    ind_purch_list = list(ind_purch_df['game-title'].unique())\n",
    "    ind_play_list = list(ind_play_df['game-title'].unique())\n",
    "\n",
    "    #Is every game played purchased?\n",
    "    check = all(game in ind_purch_list for game in ind_play_list)\n",
    "    return check"
   ]
  },
  {
   "cell_type": "code",
   "execution_count": 6,
   "metadata": {},
   "outputs": [
    {
     "name": "stdout",
     "output_type": "stream",
     "text": [
      "True\n"
     ]
    }
   ],
   "source": [
    "unique_user_ids = list(df['user-id'].unique())\n",
    "\n",
    "confirmed_users = {}\n",
    "for user in unique_user_ids:\n",
    "    confirmed_users[user] = allplayedpurchased(user)\n",
    "\n",
    "print(all(confirmed_users))"
   ]
  },
  {
   "cell_type": "markdown",
   "metadata": {},
   "source": [
    "Our function confirmed that every played game will have a corresponding purchased data entry. The converse is of courese not true, because plenty of people have game in steam that they haven't played."
   ]
  },
  {
   "cell_type": "markdown",
   "metadata": {},
   "source": [
    "Next, lets create new tables which split the data into more useful views:\n",
    "\n",
    "-a table with user stats based off data, splitting up the columns to describe habits in both\n",
    "\n",
    "-a table with game stats based off data, one based on purchases, another based on play\n",
    "\n",
    "First, we'll create the user-based tables:"
   ]
  },
  {
   "cell_type": "code",
   "execution_count": 7,
   "metadata": {},
   "outputs": [
    {
     "data": {
      "text/html": [
       "<div>\n",
       "<style scoped>\n",
       "    .dataframe tbody tr th:only-of-type {\n",
       "        vertical-align: middle;\n",
       "    }\n",
       "\n",
       "    .dataframe tbody tr th {\n",
       "        vertical-align: top;\n",
       "    }\n",
       "\n",
       "    .dataframe thead th {\n",
       "        text-align: right;\n",
       "    }\n",
       "</style>\n",
       "<table border=\"1\" class=\"dataframe\">\n",
       "  <thead>\n",
       "    <tr style=\"text-align: right;\">\n",
       "      <th></th>\n",
       "      <th>user-id</th>\n",
       "      <th>game-title</th>\n",
       "      <th>behavior-name</th>\n",
       "      <th>value</th>\n",
       "    </tr>\n",
       "  </thead>\n",
       "  <tbody>\n",
       "    <tr>\n",
       "      <th>0</th>\n",
       "      <td>151603712</td>\n",
       "      <td>The Elder Scrolls V Skyrim</td>\n",
       "      <td>purchase</td>\n",
       "      <td>1.0</td>\n",
       "    </tr>\n",
       "    <tr>\n",
       "      <th>2</th>\n",
       "      <td>151603712</td>\n",
       "      <td>Fallout 4</td>\n",
       "      <td>purchase</td>\n",
       "      <td>1.0</td>\n",
       "    </tr>\n",
       "    <tr>\n",
       "      <th>4</th>\n",
       "      <td>151603712</td>\n",
       "      <td>Spore</td>\n",
       "      <td>purchase</td>\n",
       "      <td>1.0</td>\n",
       "    </tr>\n",
       "    <tr>\n",
       "      <th>6</th>\n",
       "      <td>151603712</td>\n",
       "      <td>Fallout New Vegas</td>\n",
       "      <td>purchase</td>\n",
       "      <td>1.0</td>\n",
       "    </tr>\n",
       "    <tr>\n",
       "      <th>8</th>\n",
       "      <td>151603712</td>\n",
       "      <td>Left 4 Dead 2</td>\n",
       "      <td>purchase</td>\n",
       "      <td>1.0</td>\n",
       "    </tr>\n",
       "    <tr>\n",
       "      <th>...</th>\n",
       "      <td>...</td>\n",
       "      <td>...</td>\n",
       "      <td>...</td>\n",
       "      <td>...</td>\n",
       "    </tr>\n",
       "    <tr>\n",
       "      <th>199990</th>\n",
       "      <td>128470551</td>\n",
       "      <td>Fallen Earth</td>\n",
       "      <td>purchase</td>\n",
       "      <td>1.0</td>\n",
       "    </tr>\n",
       "    <tr>\n",
       "      <th>199992</th>\n",
       "      <td>128470551</td>\n",
       "      <td>Magic Duels</td>\n",
       "      <td>purchase</td>\n",
       "      <td>1.0</td>\n",
       "    </tr>\n",
       "    <tr>\n",
       "      <th>199994</th>\n",
       "      <td>128470551</td>\n",
       "      <td>Titan Souls</td>\n",
       "      <td>purchase</td>\n",
       "      <td>1.0</td>\n",
       "    </tr>\n",
       "    <tr>\n",
       "      <th>199996</th>\n",
       "      <td>128470551</td>\n",
       "      <td>Grand Theft Auto Vice City</td>\n",
       "      <td>purchase</td>\n",
       "      <td>1.0</td>\n",
       "    </tr>\n",
       "    <tr>\n",
       "      <th>199998</th>\n",
       "      <td>128470551</td>\n",
       "      <td>RUSH</td>\n",
       "      <td>purchase</td>\n",
       "      <td>1.0</td>\n",
       "    </tr>\n",
       "  </tbody>\n",
       "</table>\n",
       "<p>129511 rows × 4 columns</p>\n",
       "</div>"
      ],
      "text/plain": [
       "          user-id                  game-title behavior-name  value\n",
       "0       151603712  The Elder Scrolls V Skyrim      purchase    1.0\n",
       "2       151603712                   Fallout 4      purchase    1.0\n",
       "4       151603712                       Spore      purchase    1.0\n",
       "6       151603712           Fallout New Vegas      purchase    1.0\n",
       "8       151603712               Left 4 Dead 2      purchase    1.0\n",
       "...           ...                         ...           ...    ...\n",
       "199990  128470551                Fallen Earth      purchase    1.0\n",
       "199992  128470551                 Magic Duels      purchase    1.0\n",
       "199994  128470551                 Titan Souls      purchase    1.0\n",
       "199996  128470551  Grand Theft Auto Vice City      purchase    1.0\n",
       "199998  128470551                        RUSH      purchase    1.0\n",
       "\n",
       "[129511 rows x 4 columns]"
      ]
     },
     "execution_count": 7,
     "metadata": {},
     "output_type": "execute_result"
    }
   ],
   "source": [
    "#create masks to split purchases and play\n",
    "purch_mask = df['behavior-name'] == 'purchase'\n",
    "play_mask = df['behavior-name'] == 'play'\n",
    "\n",
    "#creates 2 new dataframes by splitting original\n",
    "purch_df = df[purch_mask]\n",
    "play_df = df[play_mask]\n",
    "\n",
    "purch_df"
   ]
  },
  {
   "cell_type": "markdown",
   "metadata": {},
   "source": [
    "We'll likely be interested in know how many games each user bought as well as how many games they've played and how many hours they have total. This next cell will prepare these columns as pandas.series"
   ]
  },
  {
   "cell_type": "code",
   "execution_count": 32,
   "metadata": {},
   "outputs": [],
   "source": [
    "#number of games purchased aggregated per user-id\n",
    "purchased_game_count = purch_df.groupby('user-id').count()['game-title'].rename('purchased-game-count')\n",
    "\n",
    "#number of unique games played, and total hours played amoungst all games\n",
    "played_game_count = play_df.groupby('user-id').count()['game-title'].rename('played-game-count')\n",
    "played_hours_count = play_df.groupby('user-id')['value'].sum().rename('played-hours-count')\n"
   ]
  },
  {
   "cell_type": "code",
   "execution_count": 25,
   "metadata": {},
   "outputs": [],
   "source": [
    "#makes a list of all games purchased\n",
    "purchased_gametitle_list = purch_df.groupby('user-id').apply(lambda x: list(x['game-title'])).rename('purhased-gametitles-list')\n",
    "\n",
    "#makes a list of all games played at least once\n",
    "play_gametitle_list = play_df.groupby('user-id').apply(lambda x: list(x['game-title'])).rename('played-gametitles-list')"
   ]
  },
  {
   "cell_type": "code",
   "execution_count": 26,
   "metadata": {},
   "outputs": [],
   "source": [
    "#This two lines create column with fraction of games played out of purchased. then fills Nan with 0%\n",
    "percent_library_played = (played_game_count/purchased_game_count).rename('percent-library-played')\n",
    "percent_library_played.fillna(0, inplace=True)"
   ]
  },
  {
   "cell_type": "code",
   "execution_count": 18,
   "metadata": {},
   "outputs": [],
   "source": [
    "#the averge number of hours per game for the user, and the standard deviation\n",
    "\n",
    "played_hours_avg = play_df.groupby('user-id')['value'].mean().rename('played-hours-avg')\n",
    "played_hours_std = play_df.groupby('user-id')['value'].std().rename('played-hours-std').fillna(0)\n",
    "played_hours_max = play_df.groupby('user-id')['value'].max().rename('played-hours-max').fillna(0)"
   ]
  },
  {
   "cell_type": "code",
   "execution_count": 12,
   "metadata": {},
   "outputs": [],
   "source": [
    "#the most played game for the user\n",
    "most_played_game_idx = play_df.groupby('user-id')['value'].idxmax()\n",
    "\n",
    "user_index = most_played_game_idx.index"
   ]
  },
  {
   "cell_type": "code",
   "execution_count": 13,
   "metadata": {},
   "outputs": [],
   "source": [
    "most_played_game = pd.Series(name='most_played_game', index=user_index)\n",
    "for user, idx in most_played_game_idx.items():\n",
    "    most_played_game[user] = df.iloc[idx, 1]"
   ]
  },
  {
   "cell_type": "code",
   "execution_count": 38,
   "metadata": {},
   "outputs": [],
   "source": [
    "columns_to_join_users = [purchased_game_count,\n",
    "                         played_game_count,\n",
    "                         played_hours_count,\n",
    "                         purchased_gametitle_list,\n",
    "                         play_gametitle_list,\n",
    "                         percent_library_played,\n",
    "                         played_hours_avg,\n",
    "                         played_hours_std,\n",
    "                         played_hours_max,\n",
    "                         most_played_game]\n",
    "\n",
    "users_stats_df = pd.concat(columns_to_join_users, axis=1)"
   ]
  },
  {
   "cell_type": "code",
   "execution_count": 34,
   "metadata": {},
   "outputs": [
    {
     "data": {
      "text/plain": [
       "user-id\n",
       "5250          6\n",
       "76767        20\n",
       "86540        15\n",
       "144736        1\n",
       "181212        2\n",
       "             ..\n",
       "309434439     1\n",
       "309554670     1\n",
       "309626088     1\n",
       "309824202     1\n",
       "309903146     1\n",
       "Name: played-game-count, Length: 11350, dtype: int32"
      ]
     },
     "execution_count": 34,
     "metadata": {},
     "output_type": "execute_result"
    }
   ],
   "source": [
    "fillna_dict_users = {'played-game-count':0,\n",
    "                    'played-hours-count':0,\n",
    "                    'played-gametitles-list':[]\n",
    "                    'played-hours-avg':0,\n",
    "                    'played-hours-std':0,\n",
    "                    'played-hours-max':0,\n",
    "                    'most_played_game': ''}\n",
    "\n",
    "users_stats_df = "
   ]
  },
  {
   "cell_type": "code",
   "execution_count": 40,
   "metadata": {},
   "outputs": [
    {
     "name": "stdout",
     "output_type": "stream",
     "text": [
      "<class 'pandas.core.frame.DataFrame'>\n",
      "Int64Index: 12393 entries, 5250 to 309903146\n",
      "Data columns (total 10 columns):\n",
      "purchased-game-count        12393 non-null int64\n",
      "played-game-count           11350 non-null float64\n",
      "played-hours-count          11350 non-null float64\n",
      "purhased-gametitles-list    12393 non-null object\n",
      "played-gametitles-list      11350 non-null object\n",
      "percent-library-played      12393 non-null float64\n",
      "played-hours-avg            11350 non-null float64\n",
      "played-hours-std            11350 non-null float64\n",
      "played-hours-max            11350 non-null float64\n",
      "most_played_game            11350 non-null object\n",
      "dtypes: float64(6), int64(1), object(3)\n",
      "memory usage: 1.0+ MB\n"
     ]
    }
   ],
   "source": [
    "users_stats_df.info()"
   ]
  },
  {
   "cell_type": "code",
   "execution_count": null,
   "metadata": {},
   "outputs": [],
   "source": []
  }
 ],
 "metadata": {
  "kernelspec": {
   "display_name": "Python [conda env:root] *",
   "language": "python",
   "name": "conda-root-py"
  },
  "language_info": {
   "codemirror_mode": {
    "name": "ipython",
    "version": 3
   },
   "file_extension": ".py",
   "mimetype": "text/x-python",
   "name": "python",
   "nbconvert_exporter": "python",
   "pygments_lexer": "ipython3",
   "version": "3.6.10"
  }
 },
 "nbformat": 4,
 "nbformat_minor": 4
}
