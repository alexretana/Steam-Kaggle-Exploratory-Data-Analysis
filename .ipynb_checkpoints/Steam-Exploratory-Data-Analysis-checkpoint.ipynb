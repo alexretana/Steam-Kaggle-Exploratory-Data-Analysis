{
 "cells": [
  {
   "cell_type": "markdown",
   "metadata": {},
   "source": [
    "# Steam User Interaction: Exploratory Data Analysis\n",
    "\n",
    "Using this [dataset found from kaggle](https://www.kaggle.com/tamber/steam-video-games/data), which includes about 200,000 interactions from Steam users, which includes purchasing and playtime data. The dataset is a bit limited because it only discloses which products were purchased and how many hours of gameplay the user has, but no information about when any of these actions occur."
   ]
  },
  {
   "cell_type": "code",
   "execution_count": 1,
   "metadata": {},
   "outputs": [],
   "source": [
    "%matplotlib inline\n",
    "import pandas as pd\n",
    "import numpy as np\n",
    "import matplotlib.pyplot as plt"
   ]
  },
  {
   "cell_type": "markdown",
   "metadata": {},
   "source": [
    "We begin our exploration by utilizing pandas to extract the data from the csv and allow us to flexily manipulate this data.\n",
    "\n",
    "The columns didn't have a header, so the column names were added according to the kaggle page. Also, note that the final column is only comprise of 0's, and has no significance, so it was dropped."
   ]
  },
  {
   "cell_type": "code",
   "execution_count": 52,
   "metadata": {},
   "outputs": [],
   "source": [
    "#names to assign to columns\n",
    "column_names = ['user-id','game-title','behavior-name','value']\n",
    "\n",
    "#dtypes to assign\n",
    "dtypes = {'user-id':int, 'game-title':str, 'behavior-name':'category', 'value':np.float64}\n",
    "\n",
    "#read in data from csv (please adjust path if you want to run this). Dropped last column because useless\n",
    "df = pd.read_csv('D:/alexr/Capstone-Project/SteamDataFromKaggle/915_1720_compressed_steam-200k.csv/steam-200k.csv', \n",
    "                usecols=[0,1,2,3],\n",
    "                names=column_names)"
   ]
  },
  {
   "cell_type": "code",
   "execution_count": 53,
   "metadata": {},
   "outputs": [
    {
     "data": {
      "text/html": [
       "<div>\n",
       "<style scoped>\n",
       "    .dataframe tbody tr th:only-of-type {\n",
       "        vertical-align: middle;\n",
       "    }\n",
       "\n",
       "    .dataframe tbody tr th {\n",
       "        vertical-align: top;\n",
       "    }\n",
       "\n",
       "    .dataframe thead th {\n",
       "        text-align: right;\n",
       "    }\n",
       "</style>\n",
       "<table border=\"1\" class=\"dataframe\">\n",
       "  <thead>\n",
       "    <tr style=\"text-align: right;\">\n",
       "      <th></th>\n",
       "      <th>user-id</th>\n",
       "      <th>game-title</th>\n",
       "      <th>behavior-name</th>\n",
       "      <th>value</th>\n",
       "    </tr>\n",
       "  </thead>\n",
       "  <tbody>\n",
       "    <tr>\n",
       "      <th>0</th>\n",
       "      <td>151603712</td>\n",
       "      <td>The Elder Scrolls V Skyrim</td>\n",
       "      <td>purchase</td>\n",
       "      <td>1.0</td>\n",
       "    </tr>\n",
       "    <tr>\n",
       "      <th>1</th>\n",
       "      <td>151603712</td>\n",
       "      <td>The Elder Scrolls V Skyrim</td>\n",
       "      <td>play</td>\n",
       "      <td>273.0</td>\n",
       "    </tr>\n",
       "    <tr>\n",
       "      <th>2</th>\n",
       "      <td>151603712</td>\n",
       "      <td>Fallout 4</td>\n",
       "      <td>purchase</td>\n",
       "      <td>1.0</td>\n",
       "    </tr>\n",
       "    <tr>\n",
       "      <th>3</th>\n",
       "      <td>151603712</td>\n",
       "      <td>Fallout 4</td>\n",
       "      <td>play</td>\n",
       "      <td>87.0</td>\n",
       "    </tr>\n",
       "    <tr>\n",
       "      <th>4</th>\n",
       "      <td>151603712</td>\n",
       "      <td>Spore</td>\n",
       "      <td>purchase</td>\n",
       "      <td>1.0</td>\n",
       "    </tr>\n",
       "  </tbody>\n",
       "</table>\n",
       "</div>"
      ],
      "text/plain": [
       "     user-id                  game-title behavior-name  value\n",
       "0  151603712  The Elder Scrolls V Skyrim      purchase    1.0\n",
       "1  151603712  The Elder Scrolls V Skyrim          play  273.0\n",
       "2  151603712                   Fallout 4      purchase    1.0\n",
       "3  151603712                   Fallout 4          play   87.0\n",
       "4  151603712                       Spore      purchase    1.0"
      ]
     },
     "execution_count": 53,
     "metadata": {},
     "output_type": "execute_result"
    }
   ],
   "source": [
    "df.head()"
   ]
  },
  {
   "cell_type": "markdown",
   "metadata": {},
   "source": [
    "I want to clear up some things about this dataset; the first I'm curious about, \"does every play behavior HAVE to have a purchase behavior?\"\n",
    "\n",
    "We'll do this for one user and then iterate amoungst all users."
   ]
  },
  {
   "cell_type": "code",
   "execution_count": 54,
   "metadata": {},
   "outputs": [
    {
     "name": "stdout",
     "output_type": "stream",
     "text": [
      "True\n",
      "[True, True, True, True, True, True, True, True, True, True, True, True, True, True, True, True, True, True, True, True, True, True, True, True, True, True]\n"
     ]
    }
   ],
   "source": [
    "#boolean mask to extract only for one user\n",
    "user_mask = df['user-id'] == 151603712\n",
    "\n",
    "#dataframe is filter according to the mask above (i.e.) only transactions from user: 151603712\n",
    "ind_user_df = df[user_mask]\n",
    "\n",
    "#creates masks to seperate purchase and play data\n",
    "purchase_only = ind_user_df['behavior-name'] == 'purchase'\n",
    "play_only = ind_user_df['behavior-name'] == 'play'\n",
    "\n",
    "#uses masks to split\n",
    "ind_purch_df= ind_user_df[purchase_only]\n",
    "ind_play_df = ind_user_df[play_only]\n",
    "\n",
    "#creates list of unique values\n",
    "ind_purch_list = list(ind_purch_df['game-title'].unique())\n",
    "ind_play_list = list(ind_play_df['game-title'].unique())\n",
    "\n",
    "#Is every game played purchased?\n",
    "check = [game in ind_purch_list for game in ind_play_list]\n",
    "print(all(check))\n",
    "print(check)"
   ]
  },
  {
   "cell_type": "markdown",
   "metadata": {},
   "source": [
    "It appears that for the user in question, all games that they played have a corresponding purchased entry. In the next cell, the code is converted into a function, and the cell following iterates through all users."
   ]
  },
  {
   "cell_type": "code",
   "execution_count": 55,
   "metadata": {},
   "outputs": [],
   "source": [
    "def allplayedpurchased(userid):    \n",
    "    \n",
    "    #boolean mask to extract only for one user\n",
    "    user_mask = df['user-id'] == userid\n",
    "\n",
    "    #dataframe is filter according to the mask above (i.e.) only transactions from user: 151603712\n",
    "    ind_user_df = df[user_mask]\n",
    "\n",
    "    #creates masks to seperate purchase and play data\n",
    "    purchase_only = ind_user_df['behavior-name'] == 'purchase'\n",
    "    play_only = ind_user_df['behavior-name'] == 'play'\n",
    "\n",
    "    #uses masks to split\n",
    "    ind_purch_df= ind_user_df[purchase_only]\n",
    "    ind_play_df = ind_user_df[play_only]\n",
    "\n",
    "    #creates list of unique values\n",
    "    ind_purch_list = list(ind_purch_df['game-title'].unique())\n",
    "    ind_play_list = list(ind_play_df['game-title'].unique())\n",
    "\n",
    "    #Is every game played purchased?\n",
    "    check = all(game in ind_purch_list for game in ind_play_list)\n",
    "    return check"
   ]
  },
  {
   "cell_type": "code",
   "execution_count": 56,
   "metadata": {},
   "outputs": [
    {
     "name": "stdout",
     "output_type": "stream",
     "text": [
      "True\n"
     ]
    }
   ],
   "source": [
    "unique_user_ids = list(df['user-id'].unique())\n",
    "\n",
    "confirmed_users = {}\n",
    "for user in unique_user_ids:\n",
    "    confirmed_users[user] = allplayedpurchased(user)\n",
    "\n",
    "print(all(confirmed_users))"
   ]
  },
  {
   "cell_type": "markdown",
   "metadata": {},
   "source": [
    "Our function confirmed that every played game will have a corresponding purchased data entry. The converse is of courese not true, because plenty of people have game in steam that they haven't played."
   ]
  },
  {
   "cell_type": "markdown",
   "metadata": {},
   "source": [
    "Next, lets create new tables which split the data into more useful views:\n",
    "\n",
    "-2 table with user stats based off data, one based on purchases, another based on play\n",
    "\n",
    "-2 table with game stats based off data, one based on purchases, another based on play\n",
    "\n",
    "First, we'll create the user-based tables:"
   ]
  },
  {
   "cell_type": "code",
   "execution_count": 61,
   "metadata": {},
   "outputs": [
    {
     "data": {
      "text/html": [
       "<div>\n",
       "<style scoped>\n",
       "    .dataframe tbody tr th:only-of-type {\n",
       "        vertical-align: middle;\n",
       "    }\n",
       "\n",
       "    .dataframe tbody tr th {\n",
       "        vertical-align: top;\n",
       "    }\n",
       "\n",
       "    .dataframe thead th {\n",
       "        text-align: right;\n",
       "    }\n",
       "</style>\n",
       "<table border=\"1\" class=\"dataframe\">\n",
       "  <thead>\n",
       "    <tr style=\"text-align: right;\">\n",
       "      <th></th>\n",
       "      <th>user-id</th>\n",
       "      <th>game-title</th>\n",
       "      <th>behavior-name</th>\n",
       "      <th>value</th>\n",
       "    </tr>\n",
       "  </thead>\n",
       "  <tbody>\n",
       "    <tr>\n",
       "      <th>0</th>\n",
       "      <td>151603712</td>\n",
       "      <td>The Elder Scrolls V Skyrim</td>\n",
       "      <td>purchase</td>\n",
       "      <td>1.0</td>\n",
       "    </tr>\n",
       "    <tr>\n",
       "      <th>2</th>\n",
       "      <td>151603712</td>\n",
       "      <td>Fallout 4</td>\n",
       "      <td>purchase</td>\n",
       "      <td>1.0</td>\n",
       "    </tr>\n",
       "    <tr>\n",
       "      <th>4</th>\n",
       "      <td>151603712</td>\n",
       "      <td>Spore</td>\n",
       "      <td>purchase</td>\n",
       "      <td>1.0</td>\n",
       "    </tr>\n",
       "    <tr>\n",
       "      <th>6</th>\n",
       "      <td>151603712</td>\n",
       "      <td>Fallout New Vegas</td>\n",
       "      <td>purchase</td>\n",
       "      <td>1.0</td>\n",
       "    </tr>\n",
       "    <tr>\n",
       "      <th>8</th>\n",
       "      <td>151603712</td>\n",
       "      <td>Left 4 Dead 2</td>\n",
       "      <td>purchase</td>\n",
       "      <td>1.0</td>\n",
       "    </tr>\n",
       "    <tr>\n",
       "      <th>...</th>\n",
       "      <td>...</td>\n",
       "      <td>...</td>\n",
       "      <td>...</td>\n",
       "      <td>...</td>\n",
       "    </tr>\n",
       "    <tr>\n",
       "      <th>199990</th>\n",
       "      <td>128470551</td>\n",
       "      <td>Fallen Earth</td>\n",
       "      <td>purchase</td>\n",
       "      <td>1.0</td>\n",
       "    </tr>\n",
       "    <tr>\n",
       "      <th>199992</th>\n",
       "      <td>128470551</td>\n",
       "      <td>Magic Duels</td>\n",
       "      <td>purchase</td>\n",
       "      <td>1.0</td>\n",
       "    </tr>\n",
       "    <tr>\n",
       "      <th>199994</th>\n",
       "      <td>128470551</td>\n",
       "      <td>Titan Souls</td>\n",
       "      <td>purchase</td>\n",
       "      <td>1.0</td>\n",
       "    </tr>\n",
       "    <tr>\n",
       "      <th>199996</th>\n",
       "      <td>128470551</td>\n",
       "      <td>Grand Theft Auto Vice City</td>\n",
       "      <td>purchase</td>\n",
       "      <td>1.0</td>\n",
       "    </tr>\n",
       "    <tr>\n",
       "      <th>199998</th>\n",
       "      <td>128470551</td>\n",
       "      <td>RUSH</td>\n",
       "      <td>purchase</td>\n",
       "      <td>1.0</td>\n",
       "    </tr>\n",
       "  </tbody>\n",
       "</table>\n",
       "<p>129511 rows × 4 columns</p>\n",
       "</div>"
      ],
      "text/plain": [
       "          user-id                  game-title behavior-name  value\n",
       "0       151603712  The Elder Scrolls V Skyrim      purchase    1.0\n",
       "2       151603712                   Fallout 4      purchase    1.0\n",
       "4       151603712                       Spore      purchase    1.0\n",
       "6       151603712           Fallout New Vegas      purchase    1.0\n",
       "8       151603712               Left 4 Dead 2      purchase    1.0\n",
       "...           ...                         ...           ...    ...\n",
       "199990  128470551                Fallen Earth      purchase    1.0\n",
       "199992  128470551                 Magic Duels      purchase    1.0\n",
       "199994  128470551                 Titan Souls      purchase    1.0\n",
       "199996  128470551  Grand Theft Auto Vice City      purchase    1.0\n",
       "199998  128470551                        RUSH      purchase    1.0\n",
       "\n",
       "[129511 rows x 4 columns]"
      ]
     },
     "execution_count": 61,
     "metadata": {},
     "output_type": "execute_result"
    }
   ],
   "source": [
    "#create masks to split purchases and play\n",
    "purch_mask = df['behavior-name'] == 'purchase'\n",
    "play_mask = df['behavior-name'] == 'play'\n",
    "\n",
    "#creates 2 new dataframes by splitting original\n",
    "purch_df = df[purch_mask]\n",
    "play_df = df[play_mask]\n",
    "\n",
    "purch_df"
   ]
  },
  {
   "cell_type": "markdown",
   "metadata": {},
   "source": [
    "We'll likely be interested in know how many games each user bought as well as how many games they've played and how many hours they have total. This next cell will prepare these columns as pandas.series"
   ]
  },
  {
   "cell_type": "code",
   "execution_count": 78,
   "metadata": {},
   "outputs": [],
   "source": [
    "#number of games purchased aggregated per user-id\n",
    "purchased_game_count = purch_df.groupby('user-id').count()['game-title'].rename('purchased-game-count')\n",
    "\n",
    "played_game_count = play_df.groupby('user-id').count()['game-title'].rename('played-game-count')\n",
    "played_hours_count = play_df.groupby('user-id')['value'].sum().rename('played-hours-count')\n"
   ]
  },
  {
   "cell_type": "code",
   "execution_count": 71,
   "metadata": {},
   "outputs": [
    {
     "data": {
      "text/plain": [
       "user-id\n",
       "5250          6\n",
       "76767        20\n",
       "86540        15\n",
       "144736        1\n",
       "181212        2\n",
       "             ..\n",
       "309434439     1\n",
       "309554670     1\n",
       "309626088     1\n",
       "309824202     1\n",
       "309903146     1\n",
       "Name: purchased-game-count, Length: 11350, dtype: int64"
      ]
     },
     "execution_count": 71,
     "metadata": {},
     "output_type": "execute_result"
    }
   ],
   "source": [
    "play_df.groupby('user-id').count()['game-title'].rename('purchased-game-count')"
   ]
  },
  {
   "cell_type": "code",
   "execution_count": 76,
   "metadata": {},
   "outputs": [
    {
     "data": {
      "text/plain": [
       "user-id\n",
       "5250          225.5\n",
       "76767        1227.0\n",
       "86540         255.0\n",
       "144736          0.1\n",
       "181212          2.2\n",
       "              ...  \n",
       "309434439       0.8\n",
       "309554670       5.9\n",
       "309626088       6.7\n",
       "309824202       0.7\n",
       "309903146       0.2\n",
       "Name: played-hours-count, Length: 11350, dtype: float64"
      ]
     },
     "execution_count": 76,
     "metadata": {},
     "output_type": "execute_result"
    }
   ],
   "source": [
    "played_hours_count"
   ]
  },
  {
   "cell_type": "code",
   "execution_count": null,
   "metadata": {},
   "outputs": [],
   "source": []
  }
 ],
 "metadata": {
  "kernelspec": {
   "display_name": "Python [conda env:root] *",
   "language": "python",
   "name": "conda-root-py"
  },
  "language_info": {
   "codemirror_mode": {
    "name": "ipython",
    "version": 3
   },
   "file_extension": ".py",
   "mimetype": "text/x-python",
   "name": "python",
   "nbconvert_exporter": "python",
   "pygments_lexer": "ipython3",
   "version": "3.6.10"
  }
 },
 "nbformat": 4,
 "nbformat_minor": 4
}
