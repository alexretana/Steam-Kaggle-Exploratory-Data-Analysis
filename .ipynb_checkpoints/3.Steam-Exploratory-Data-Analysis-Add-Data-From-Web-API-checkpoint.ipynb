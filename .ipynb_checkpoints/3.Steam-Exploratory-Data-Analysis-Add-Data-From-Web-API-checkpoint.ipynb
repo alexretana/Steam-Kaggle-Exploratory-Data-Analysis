{
 "cells": [
  {
   "cell_type": "markdown",
   "metadata": {},
   "source": [
    "# Pulling data from Steam Web API\n",
    "\n",
    "After looking at the documentation for the [storefront API](https://wiki.teamfortress.com/wiki/User:RJackson/StorefrontAPI) (which can return store page information for each game), it requires each games' appid. Our data doesn't have these appids included, however, a second API found through [this thread](https://stackoverflow.com/questions/57441606/how-to-get-the-steam-appid-by-appname-in-steam-webapi) allows us to retrieve a list of game appids to their corresponding title. \n",
    "\n",
    "Since the engine to be built will be content based\n",
    "\n",
    "Since this process takes several minutes, I decided to add the [tdqm](https://github.com/tqdm/tqdm) wrapper on my loop."
   ]
  },
  {
   "cell_type": "code",
   "execution_count": 1,
   "metadata": {},
   "outputs": [],
   "source": [
    "#inline graphing just in case, and libraries to be used\n",
    "%matplotlib inline\n",
    "import pandas as pd\n",
    "import numpy as np\n",
    "import matplotlib.pyplot as plt\n",
    "import requests\n",
    "from tqdm import tqdm\n",
    "from bs4 import BeautifulSoup"
   ]
  },
  {
   "cell_type": "markdown",
   "metadata": {},
   "source": [
    "After looking at the documentation for the [storefront API](https://wiki.teamfortress.com/wiki/User:RJackson/StorefrontAPI) (which can return store page information for each game), it requires each games' appid. Our data doesn't have these appids included, however, a second API found through [this thread](https://stackoverflow.com/questions/57441606/how-to-get-the-steam-appid-by-appname-in-steam-webapi) allows us to retrieve a list of game appids to their corresponding title. \n",
    "\n",
    "Since the API returns a json, it will be easier to first move it into a DataFrame before merging it with our other table.\n",
    "\n",
    "Since this process takes several minutes, I decided to add the [tdqm](https://github.com/tqdm/tqdm) wrapper on my loop."
   ]
  },
  {
   "cell_type": "code",
   "execution_count": 2,
   "metadata": {},
   "outputs": [
    {
     "name": "stderr",
     "output_type": "stream",
     "text": [
      "100%|██████████| 100000/100000 [13:39<00:00, 121.96it/s]\n"
     ]
    },
    {
     "data": {
      "text/html": [
       "<div>\n",
       "<style scoped>\n",
       "    .dataframe tbody tr th:only-of-type {\n",
       "        vertical-align: middle;\n",
       "    }\n",
       "\n",
       "    .dataframe tbody tr th {\n",
       "        vertical-align: top;\n",
       "    }\n",
       "\n",
       "    .dataframe thead th {\n",
       "        text-align: right;\n",
       "    }\n",
       "</style>\n",
       "<table border=\"1\" class=\"dataframe\">\n",
       "  <thead>\n",
       "    <tr style=\"text-align: right;\">\n",
       "      <th></th>\n",
       "      <th>appid</th>\n",
       "      <th>name</th>\n",
       "    </tr>\n",
       "  </thead>\n",
       "  <tbody>\n",
       "    <tr>\n",
       "      <th>0</th>\n",
       "      <td>216938</td>\n",
       "      <td>Pieterw test app76 ( 216938 )</td>\n",
       "    </tr>\n",
       "    <tr>\n",
       "      <th>1</th>\n",
       "      <td>660010</td>\n",
       "      <td>test2</td>\n",
       "    </tr>\n",
       "    <tr>\n",
       "      <th>2</th>\n",
       "      <td>660130</td>\n",
       "      <td>test3</td>\n",
       "    </tr>\n",
       "    <tr>\n",
       "      <th>3</th>\n",
       "      <td>1346400</td>\n",
       "      <td>Battle Engine Aquila</td>\n",
       "    </tr>\n",
       "    <tr>\n",
       "      <th>4</th>\n",
       "      <td>1346420</td>\n",
       "      <td>Transpire</td>\n",
       "    </tr>\n",
       "  </tbody>\n",
       "</table>\n",
       "</div>"
      ],
      "text/plain": [
       "     appid                           name\n",
       "0   216938  Pieterw test app76 ( 216938 )\n",
       "1   660010                          test2\n",
       "2   660130                          test3\n",
       "3  1346400           Battle Engine Aquila\n",
       "4  1346420                      Transpire"
      ]
     },
     "execution_count": 2,
     "metadata": {},
     "output_type": "execute_result"
    }
   ],
   "source": [
    "#using requests modules to send a GET requestion\n",
    "r = requests.get('http://api.steampowered.com/ISteamApps/GetAppList/v2')\n",
    "\n",
    "#assign the relevant information from the json return to the variable 'app_json'\n",
    "app_json = r.json()['applist']['apps']\n",
    "\n",
    "#Create empty DataFrame with two columns, loop through each dict in the list, add both values to DataFrame\n",
    "appid_df = pd.DataFrame(columns=['appid', 'name'])\n",
    "for app in tqdm(app_json):\n",
    "    appid_df = appid_df.append(app, ignore_index=True)\n",
    "\n",
    "#print head to confirm results\n",
    "appid_df.head()"
   ]
  },
  {
   "cell_type": "markdown",
   "metadata": {},
   "source": [
    "Now that all the app names and correspond appid are stored in a data frame, information about each app can be queried from the storefront API.\n",
    "\n",
    "To understand what to pull from this API, the json response will be loaded into a DataFrame to explore. It is also good to cross refrerence the description of the data from the documentation linked above. Since the API call requires an appid to test out, the appid for 'PAY DAY 2' was used."
   ]
  },
  {
   "cell_type": "code",
   "execution_count": 5,
   "metadata": {
    "scrolled": true
   },
   "outputs": [
    {
     "data": {
      "text/html": [
       "<div>\n",
       "<style scoped>\n",
       "    .dataframe tbody tr th:only-of-type {\n",
       "        vertical-align: middle;\n",
       "    }\n",
       "\n",
       "    .dataframe tbody tr th {\n",
       "        vertical-align: top;\n",
       "    }\n",
       "\n",
       "    .dataframe thead th {\n",
       "        text-align: right;\n",
       "    }\n",
       "</style>\n",
       "<table border=\"1\" class=\"dataframe\">\n",
       "  <thead>\n",
       "    <tr style=\"text-align: right;\">\n",
       "      <th></th>\n",
       "      <th>success</th>\n",
       "      <th>data</th>\n",
       "    </tr>\n",
       "  </thead>\n",
       "  <tbody>\n",
       "    <tr>\n",
       "      <th>about_the_game</th>\n",
       "      <td>True</td>\n",
       "      <td>&lt;strong&gt;&lt;a href=\"https://store.steampowered.co...</td>\n",
       "    </tr>\n",
       "    <tr>\n",
       "      <th>achievements</th>\n",
       "      <td>True</td>\n",
       "      <td>{'total': 1207, 'highlighted': [{'name': 'Comi...</td>\n",
       "    </tr>\n",
       "    <tr>\n",
       "      <th>background</th>\n",
       "      <td>True</td>\n",
       "      <td>https://steamcdn-a.akamaihd.net/steam/apps/218...</td>\n",
       "    </tr>\n",
       "    <tr>\n",
       "      <th>categories</th>\n",
       "      <td>True</td>\n",
       "      <td>[{'id': 2, 'description': 'Single-player'}, {'...</td>\n",
       "    </tr>\n",
       "    <tr>\n",
       "      <th>content_descriptors</th>\n",
       "      <td>True</td>\n",
       "      <td>{'ids': [], 'notes': None}</td>\n",
       "    </tr>\n",
       "    <tr>\n",
       "      <th>controller_support</th>\n",
       "      <td>True</td>\n",
       "      <td>full</td>\n",
       "    </tr>\n",
       "    <tr>\n",
       "      <th>detailed_description</th>\n",
       "      <td>True</td>\n",
       "      <td>&lt;strong&gt;&lt;a href=\"https://store.steampowered.co...</td>\n",
       "    </tr>\n",
       "    <tr>\n",
       "      <th>developers</th>\n",
       "      <td>True</td>\n",
       "      <td>[OVERKILL - a Starbreeze Studio.]</td>\n",
       "    </tr>\n",
       "    <tr>\n",
       "      <th>dlc</th>\n",
       "      <td>True</td>\n",
       "      <td>[1347750, 1347751, 1351060, 1252200, 1255151, ...</td>\n",
       "    </tr>\n",
       "    <tr>\n",
       "      <th>genres</th>\n",
       "      <td>True</td>\n",
       "      <td>[{'id': '1', 'description': 'Action'}, {'id': ...</td>\n",
       "    </tr>\n",
       "    <tr>\n",
       "      <th>header_image</th>\n",
       "      <td>True</td>\n",
       "      <td>https://steamcdn-a.akamaihd.net/steam/apps/218...</td>\n",
       "    </tr>\n",
       "    <tr>\n",
       "      <th>is_free</th>\n",
       "      <td>True</td>\n",
       "      <td>False</td>\n",
       "    </tr>\n",
       "    <tr>\n",
       "      <th>legal_notice</th>\n",
       "      <td>True</td>\n",
       "      <td>\"PAYDAY 2 ®” and \"OVERKILL A STARBREEZE STUDIO...</td>\n",
       "    </tr>\n",
       "    <tr>\n",
       "      <th>linux_requirements</th>\n",
       "      <td>True</td>\n",
       "      <td>{'minimum': '&lt;strong&gt;Minimum:&lt;/strong&gt;&lt;br&gt;&lt;ul ...</td>\n",
       "    </tr>\n",
       "    <tr>\n",
       "      <th>mac_requirements</th>\n",
       "      <td>True</td>\n",
       "      <td>[]</td>\n",
       "    </tr>\n",
       "    <tr>\n",
       "      <th>metacritic</th>\n",
       "      <td>True</td>\n",
       "      <td>{'score': 79, 'url': 'https://www.metacritic.c...</td>\n",
       "    </tr>\n",
       "    <tr>\n",
       "      <th>movies</th>\n",
       "      <td>True</td>\n",
       "      <td>[{'id': 256766497, 'name': 'PAYDAY 2: Legacy C...</td>\n",
       "    </tr>\n",
       "    <tr>\n",
       "      <th>name</th>\n",
       "      <td>True</td>\n",
       "      <td>PAYDAY 2</td>\n",
       "    </tr>\n",
       "    <tr>\n",
       "      <th>package_groups</th>\n",
       "      <td>True</td>\n",
       "      <td>[{'name': 'default', 'title': 'Buy PAYDAY 2', ...</td>\n",
       "    </tr>\n",
       "    <tr>\n",
       "      <th>packages</th>\n",
       "      <td>True</td>\n",
       "      <td>[30182]</td>\n",
       "    </tr>\n",
       "    <tr>\n",
       "      <th>pc_requirements</th>\n",
       "      <td>True</td>\n",
       "      <td>{'minimum': '&lt;strong&gt;Minimum:&lt;/strong&gt;&lt;br&gt;&lt;ul ...</td>\n",
       "    </tr>\n",
       "    <tr>\n",
       "      <th>platforms</th>\n",
       "      <td>True</td>\n",
       "      <td>{'windows': True, 'mac': False, 'linux': True}</td>\n",
       "    </tr>\n",
       "    <tr>\n",
       "      <th>price_overview</th>\n",
       "      <td>True</td>\n",
       "      <td>{'currency': 'USD', 'initial': 999, 'final': 9...</td>\n",
       "    </tr>\n",
       "    <tr>\n",
       "      <th>publishers</th>\n",
       "      <td>True</td>\n",
       "      <td>[Starbreeze Publishing AB]</td>\n",
       "    </tr>\n",
       "    <tr>\n",
       "      <th>recommendations</th>\n",
       "      <td>True</td>\n",
       "      <td>{'total': 272240}</td>\n",
       "    </tr>\n",
       "    <tr>\n",
       "      <th>release_date</th>\n",
       "      <td>True</td>\n",
       "      <td>{'coming_soon': False, 'date': 'Aug 13, 2013'}</td>\n",
       "    </tr>\n",
       "    <tr>\n",
       "      <th>required_age</th>\n",
       "      <td>True</td>\n",
       "      <td>18</td>\n",
       "    </tr>\n",
       "    <tr>\n",
       "      <th>screenshots</th>\n",
       "      <td>True</td>\n",
       "      <td>[{'id': 0, 'path_thumbnail': 'https://steamcdn...</td>\n",
       "    </tr>\n",
       "    <tr>\n",
       "      <th>short_description</th>\n",
       "      <td>True</td>\n",
       "      <td>PAYDAY 2 is an action-packed, four-player co-o...</td>\n",
       "    </tr>\n",
       "    <tr>\n",
       "      <th>steam_appid</th>\n",
       "      <td>True</td>\n",
       "      <td>218620</td>\n",
       "    </tr>\n",
       "    <tr>\n",
       "      <th>support_info</th>\n",
       "      <td>True</td>\n",
       "      <td>{'url': 'http://steamcommunity.com/app/218620/...</td>\n",
       "    </tr>\n",
       "    <tr>\n",
       "      <th>supported_languages</th>\n",
       "      <td>True</td>\n",
       "      <td>English&lt;strong&gt;*&lt;/strong&gt;, German, French, Ita...</td>\n",
       "    </tr>\n",
       "    <tr>\n",
       "      <th>type</th>\n",
       "      <td>True</td>\n",
       "      <td>game</td>\n",
       "    </tr>\n",
       "    <tr>\n",
       "      <th>website</th>\n",
       "      <td>True</td>\n",
       "      <td>http://www.overkillsoftware.com/</td>\n",
       "    </tr>\n",
       "  </tbody>\n",
       "</table>\n",
       "</div>"
      ],
      "text/plain": [
       "                      success  \\\n",
       "about_the_game           True   \n",
       "achievements             True   \n",
       "background               True   \n",
       "categories               True   \n",
       "content_descriptors      True   \n",
       "controller_support       True   \n",
       "detailed_description     True   \n",
       "developers               True   \n",
       "dlc                      True   \n",
       "genres                   True   \n",
       "header_image             True   \n",
       "is_free                  True   \n",
       "legal_notice             True   \n",
       "linux_requirements       True   \n",
       "mac_requirements         True   \n",
       "metacritic               True   \n",
       "movies                   True   \n",
       "name                     True   \n",
       "package_groups           True   \n",
       "packages                 True   \n",
       "pc_requirements          True   \n",
       "platforms                True   \n",
       "price_overview           True   \n",
       "publishers               True   \n",
       "recommendations          True   \n",
       "release_date             True   \n",
       "required_age             True   \n",
       "screenshots              True   \n",
       "short_description        True   \n",
       "steam_appid              True   \n",
       "support_info             True   \n",
       "supported_languages      True   \n",
       "type                     True   \n",
       "website                  True   \n",
       "\n",
       "                                                                   data  \n",
       "about_the_game        <strong><a href=\"https://store.steampowered.co...  \n",
       "achievements          {'total': 1207, 'highlighted': [{'name': 'Comi...  \n",
       "background            https://steamcdn-a.akamaihd.net/steam/apps/218...  \n",
       "categories            [{'id': 2, 'description': 'Single-player'}, {'...  \n",
       "content_descriptors                          {'ids': [], 'notes': None}  \n",
       "controller_support                                                 full  \n",
       "detailed_description  <strong><a href=\"https://store.steampowered.co...  \n",
       "developers                            [OVERKILL - a Starbreeze Studio.]  \n",
       "dlc                   [1347750, 1347751, 1351060, 1252200, 1255151, ...  \n",
       "genres                [{'id': '1', 'description': 'Action'}, {'id': ...  \n",
       "header_image          https://steamcdn-a.akamaihd.net/steam/apps/218...  \n",
       "is_free                                                           False  \n",
       "legal_notice          \"PAYDAY 2 ®” and \"OVERKILL A STARBREEZE STUDIO...  \n",
       "linux_requirements    {'minimum': '<strong>Minimum:</strong><br><ul ...  \n",
       "mac_requirements                                                     []  \n",
       "metacritic            {'score': 79, 'url': 'https://www.metacritic.c...  \n",
       "movies                [{'id': 256766497, 'name': 'PAYDAY 2: Legacy C...  \n",
       "name                                                           PAYDAY 2  \n",
       "package_groups        [{'name': 'default', 'title': 'Buy PAYDAY 2', ...  \n",
       "packages                                                        [30182]  \n",
       "pc_requirements       {'minimum': '<strong>Minimum:</strong><br><ul ...  \n",
       "platforms                {'windows': True, 'mac': False, 'linux': True}  \n",
       "price_overview        {'currency': 'USD', 'initial': 999, 'final': 9...  \n",
       "publishers                                   [Starbreeze Publishing AB]  \n",
       "recommendations                                       {'total': 272240}  \n",
       "release_date             {'coming_soon': False, 'date': 'Aug 13, 2013'}  \n",
       "required_age                                                         18  \n",
       "screenshots           [{'id': 0, 'path_thumbnail': 'https://steamcdn...  \n",
       "short_description     PAYDAY 2 is an action-packed, four-player co-o...  \n",
       "steam_appid                                                      218620  \n",
       "support_info          {'url': 'http://steamcommunity.com/app/218620/...  \n",
       "supported_languages   English<strong>*</strong>, German, French, Ita...  \n",
       "type                                                               game  \n",
       "website                                http://www.overkillsoftware.com/  "
      ]
     },
     "execution_count": 5,
     "metadata": {},
     "output_type": "execute_result"
    }
   ],
   "source": [
    "#make GET request for page front content of Pay Day 2\n",
    "app_info = requests.get('https://store.steampowered.com/api/appdetails?appids=218620')\n",
    "\n",
    "#assign app_data for testing in the next few cells\n",
    "app_data = app_info.json()['218620']['data']\n",
    "\n",
    "#load to DataFrame to view\n",
    "pd.DataFrame(app_info.json()['218620'])"
   ]
  },
  {
   "cell_type": "markdown",
   "metadata": {},
   "source": [
    "After looking through the json, it seems like the data that will be most useful for a our recommendation system is in the description values, such as \"about_the_game\", \"detailed_description\", \"short_description\", and it wouldn't hurt to add the words from \"genres\" and \"categories\", too.\n",
    "\n",
    "Below are functions defined to properly extract the strings from each of theses values."
   ]
  },
  {
   "cell_type": "code",
   "execution_count": 6,
   "metadata": {},
   "outputs": [
    {
     "data": {
      "text/plain": [
       "' Single-player Multi-player Co-op Online Co-op Steam Achievements Full controller support Steam Trading Cards In-App Purchases Steam Cloud Remote Play on Phone Remote Play on Tablet Remote Play on TV'"
      ]
     },
     "execution_count": 6,
     "metadata": {},
     "output_type": "execute_result"
    }
   ],
   "source": [
    "def get_categories(app_data):\n",
    "    try:\n",
    "        categories = app_data['categories']\n",
    "    except KeyError:\n",
    "        return \"\"\n",
    "    else:\n",
    "        category_string = \"\"\n",
    "        for cat in app_data['categories']:\n",
    "            category_string = category_string + \" \" + cat['description']\n",
    "\n",
    "        return category_string\n",
    "\n",
    "get_categories(app_data)"
   ]
  },
  {
   "cell_type": "code",
   "execution_count": 7,
   "metadata": {},
   "outputs": [
    {
     "data": {
      "text/plain": [
       "' Action RPG'"
      ]
     },
     "execution_count": 7,
     "metadata": {},
     "output_type": "execute_result"
    }
   ],
   "source": [
    "def get_genres(app_data):\n",
    "    try:\n",
    "        genres = app_data['genres']\n",
    "    except KeyError:\n",
    "        return \"\"\n",
    "    else:\n",
    "        genres_string = \"\"\n",
    "        for gen in genres:\n",
    "            genres_string = genres_string + \" \" + gen['description']\n",
    "    \n",
    "        return genres_string\n",
    "\n",
    "get_genres(app_data)"
   ]
  },
  {
   "cell_type": "markdown",
   "metadata": {},
   "source": [
    "Since all the descriptions are HTML formatted strings, utilizing BeautifulSoup library to parse the text will save us a lot of work of cleaning the tags ourselves. This last function parses all three descriptive HTML strings into one long string."
   ]
  },
  {
   "cell_type": "code",
   "execution_count": 8,
   "metadata": {
    "scrolled": true
   },
   "outputs": [
    {
     "data": {
      "text/plain": [
       "'Looking for the San Martín Bundle? Click here!PAYDAY 2 is an action-packed, four-player co-op shooter that once again lets gamers don the masks of the original PAYDAY crew - Dallas, Hoxton, Wolf and Chains - as they descend on Washington DC for an epic crime spree. The CRIMENET network offers a huge range of dynamic contracts, and players are free to choose anything from small-time convenience store hits or kidnappings, to big league cyber-crime or emptying out major bank vaults for that epic PAYDAY. While in DC, why not participate in the local community, and run a few political errands?Up to four friends co-operate on the hits, and as the crew progresses the jobs become bigger, better and more rewarding. Along with earning more money and becoming a legendary criminal comes a character customization and crafting system that lets crews build and customize their own guns and gear.Key FeaturesRob Banks, Get Paid – Players must choose their crew carefully, because when the job goes down they will need the right mix of skills on their side.CRIMENET – The dynamic contract database lets gamers pick and choose from available jobs by connecting with local contacts such as Vlad the Ukrainian, shady politician \"The Elephant\", and South American drug trafficker Hector, all with their own agenda and best interests in mind.PAYDAY Gunplay and Mechanics on a New Level – Firing weapons and zip tying civilians never felt so good.Dynamic Scenarios – No heist ever plays out the same way twice. Every single scenario has random geometry or even rare events.Choose Your Skills – As players progress they can invest in any of five special Skill Trees: Mastermind, Enforcer, Ghost, Technician and Fugitive. Each features a deep customization tree of associated skills and equipment to master, and they can be mixed and matched to create the ultimate heister.More Masks than Ever – PAYDAY 2 features a completely new mask system, giving players the ability to craft their own unique mask with a pattern and color of their choice, resulting in millions of different combinations.  Weapons and Modifications – A brand new arsenal for the serious heister, covering everything from sniper and assault rifles to compact PDWs and SMGs. Once you\\'ve settled for a favorite, you can modify it with optics, suppressors, fore grips, reticles, barrels, frames, stocks and more, all of which will affect the performance of your weapon. There are also purely aesthetic enhancements - why not go for the drug lord look with polished walnut grips for your nine?Play It Your Way – Each job allows for multiple approaches, such as slow and stealthy ambushes or running in guns blazing. Hit the target any way you want, each approach will provide a different experience.A Long History of Additional Content – More than 70 updates since release, including new heists, characters, weapons and other gameplay features like driving cars and forklifts. Looking for the San Martín Bundle? Click here!PAYDAY 2 is an action-packed, four-player co-op shooter that once again lets gamers don the masks of the original PAYDAY crew - Dallas, Hoxton, Wolf and Chains - as they descend on Washington DC for an epic crime spree. The CRIMENET network offers a huge range of dynamic contracts, and players are free to choose anything from small-time convenience store hits or kidnappings, to big league cyber-crime or emptying out major bank vaults for that epic PAYDAY. While in DC, why not participate in the local community, and run a few political errands?Up to four friends co-operate on the hits, and as the crew progresses the jobs become bigger, better and more rewarding. Along with earning more money and becoming a legendary criminal comes a character customization and crafting system that lets crews build and customize their own guns and gear.Key FeaturesRob Banks, Get Paid – Players must choose their crew carefully, because when the job goes down they will need the right mix of skills on their side.CRIMENET – The dynamic contract database lets gamers pick and choose from available jobs by connecting with local contacts such as Vlad the Ukrainian, shady politician \"The Elephant\", and South American drug trafficker Hector, all with their own agenda and best interests in mind.PAYDAY Gunplay and Mechanics on a New Level – Firing weapons and zip tying civilians never felt so good.Dynamic Scenarios – No heist ever plays out the same way twice. Every single scenario has random geometry or even rare events.Choose Your Skills – As players progress they can invest in any of five special Skill Trees: Mastermind, Enforcer, Ghost, Technician and Fugitive. Each features a deep customization tree of associated skills and equipment to master, and they can be mixed and matched to create the ultimate heister.More Masks than Ever – PAYDAY 2 features a completely new mask system, giving players the ability to craft their own unique mask with a pattern and color of their choice, resulting in millions of different combinations.  Weapons and Modifications – A brand new arsenal for the serious heister, covering everything from sniper and assault rifles to compact PDWs and SMGs. Once you\\'ve settled for a favorite, you can modify it with optics, suppressors, fore grips, reticles, barrels, frames, stocks and more, all of which will affect the performance of your weapon. There are also purely aesthetic enhancements - why not go for the drug lord look with polished walnut grips for your nine?Play It Your Way – Each job allows for multiple approaches, such as slow and stealthy ambushes or running in guns blazing. Hit the target any way you want, each approach will provide a different experience.A Long History of Additional Content – More than 70 updates since release, including new heists, characters, weapons and other gameplay features like driving cars and forklifts. PAYDAY 2 is an action-packed, four-player co-op shooter that once again lets gamers don the masks of the original PAYDAY crew - Dallas, Hoxton, Wolf and Chains - as they descend on Washington DC for an epic crime spree.'"
      ]
     },
     "execution_count": 8,
     "metadata": {},
     "output_type": "execute_result"
    }
   ],
   "source": [
    "def html_parser(html_string):\n",
    "    soup = BeautifulSoup(html_string, 'html.parser')\n",
    "    return soup.get_text()\n",
    "\n",
    "def get_all_descriptions(app_data):\n",
    "    try:\n",
    "        detailed_description = html_parser(app_data['detailed_description']\n",
    "        about_the_game = html_parser(app_data['about_the_game']\n",
    "        short_description =  html_parser(app_data['short_description']\n",
    "        return \" \".join([detailed_description, about_the_game, short_description])\n",
    "    \n",
    "    except:\n",
    "        return \" \"\n",
    "    else:\n",
    "        return \" \".join([detailed_description, about_the_game, short_description])\n",
    "                                         \n",
    "get_all_descriptions(app_data)"
   ]
  },
  {
   "cell_type": "markdown",
   "metadata": {},
   "source": [
    "Final function puts everything together to return one string with descriptions, genres, and categories. Not the conditional if-statement to deal with -1 values."
   ]
  },
  {
   "cell_type": "code",
   "execution_count": 27,
   "metadata": {
    "scrolled": true
   },
   "outputs": [
    {
     "data": {
      "text/plain": [
       "' Single-player Multi-player Co-op Online Co-op Steam Achievements Full controller support Steam Trading Cards In-App Purchases Steam Cloud Remote Play on Phone Remote Play on Tablet Remote Play on TV Action RPG Looking for the San Martín Bundle? Click here!PAYDAY 2 is an action-packed, four-player co-op shooter that once again lets gamers don the masks of the original PAYDAY crew - Dallas, Hoxton, Wolf and Chains - as they descend on Washington DC for an epic crime spree. The CRIMENET network offers a huge range of dynamic contracts, and players are free to choose anything from small-time convenience store hits or kidnappings, to big league cyber-crime or emptying out major bank vaults for that epic PAYDAY. While in DC, why not participate in the local community, and run a few political errands?Up to four friends co-operate on the hits, and as the crew progresses the jobs become bigger, better and more rewarding. Along with earning more money and becoming a legendary criminal comes a character customization and crafting system that lets crews build and customize their own guns and gear.Key FeaturesRob Banks, Get Paid – Players must choose their crew carefully, because when the job goes down they will need the right mix of skills on their side.CRIMENET – The dynamic contract database lets gamers pick and choose from available jobs by connecting with local contacts such as Vlad the Ukrainian, shady politician \"The Elephant\", and South American drug trafficker Hector, all with their own agenda and best interests in mind.PAYDAY Gunplay and Mechanics on a New Level – Firing weapons and zip tying civilians never felt so good.Dynamic Scenarios – No heist ever plays out the same way twice. Every single scenario has random geometry or even rare events.Choose Your Skills – As players progress they can invest in any of five special Skill Trees: Mastermind, Enforcer, Ghost, Technician and Fugitive. Each features a deep customization tree of associated skills and equipment to master, and they can be mixed and matched to create the ultimate heister.More Masks than Ever – PAYDAY 2 features a completely new mask system, giving players the ability to craft their own unique mask with a pattern and color of their choice, resulting in millions of different combinations.  Weapons and Modifications – A brand new arsenal for the serious heister, covering everything from sniper and assault rifles to compact PDWs and SMGs. Once you\\'ve settled for a favorite, you can modify it with optics, suppressors, fore grips, reticles, barrels, frames, stocks and more, all of which will affect the performance of your weapon. There are also purely aesthetic enhancements - why not go for the drug lord look with polished walnut grips for your nine?Play It Your Way – Each job allows for multiple approaches, such as slow and stealthy ambushes or running in guns blazing. Hit the target any way you want, each approach will provide a different experience.A Long History of Additional Content – More than 70 updates since release, including new heists, characters, weapons and other gameplay features like driving cars and forklifts. Looking for the San Martín Bundle? Click here!PAYDAY 2 is an action-packed, four-player co-op shooter that once again lets gamers don the masks of the original PAYDAY crew - Dallas, Hoxton, Wolf and Chains - as they descend on Washington DC for an epic crime spree. The CRIMENET network offers a huge range of dynamic contracts, and players are free to choose anything from small-time convenience store hits or kidnappings, to big league cyber-crime or emptying out major bank vaults for that epic PAYDAY. While in DC, why not participate in the local community, and run a few political errands?Up to four friends co-operate on the hits, and as the crew progresses the jobs become bigger, better and more rewarding. Along with earning more money and becoming a legendary criminal comes a character customization and crafting system that lets crews build and customize their own guns and gear.Key FeaturesRob Banks, Get Paid – Players must choose their crew carefully, because when the job goes down they will need the right mix of skills on their side.CRIMENET – The dynamic contract database lets gamers pick and choose from available jobs by connecting with local contacts such as Vlad the Ukrainian, shady politician \"The Elephant\", and South American drug trafficker Hector, all with their own agenda and best interests in mind.PAYDAY Gunplay and Mechanics on a New Level – Firing weapons and zip tying civilians never felt so good.Dynamic Scenarios – No heist ever plays out the same way twice. Every single scenario has random geometry or even rare events.Choose Your Skills – As players progress they can invest in any of five special Skill Trees: Mastermind, Enforcer, Ghost, Technician and Fugitive. Each features a deep customization tree of associated skills and equipment to master, and they can be mixed and matched to create the ultimate heister.More Masks than Ever – PAYDAY 2 features a completely new mask system, giving players the ability to craft their own unique mask with a pattern and color of their choice, resulting in millions of different combinations.  Weapons and Modifications – A brand new arsenal for the serious heister, covering everything from sniper and assault rifles to compact PDWs and SMGs. Once you\\'ve settled for a favorite, you can modify it with optics, suppressors, fore grips, reticles, barrels, frames, stocks and more, all of which will affect the performance of your weapon. There are also purely aesthetic enhancements - why not go for the drug lord look with polished walnut grips for your nine?Play It Your Way – Each job allows for multiple approaches, such as slow and stealthy ambushes or running in guns blazing. Hit the target any way you want, each approach will provide a different experience.A Long History of Additional Content – More than 70 updates since release, including new heists, characters, weapons and other gameplay features like driving cars and forklifts. PAYDAY 2 is an action-packed, four-player co-op shooter that once again lets gamers don the masks of the original PAYDAY crew - Dallas, Hoxton, Wolf and Chains - as they descend on Washington DC for an epic crime spree.'"
      ]
     },
     "execution_count": 27,
     "metadata": {},
     "output_type": "execute_result"
    }
   ],
   "source": [
    "def collect_descriptions(app_data):\n",
    "    return get_categories(app_data) + get_genres(app_data) + \" \" + get_all_descriptions(app_data)\n",
    "\n",
    "collect_descriptions(app_data)"
   ]
  },
  {
   "cell_type": "markdown",
   "metadata": {},
   "source": [
    "For each row in the DataFrame, we have to create the querystring and add it to the URL for the GET request. One more function will be written to complete this."
   ]
  },
  {
   "cell_type": "code",
   "execution_count": 28,
   "metadata": {},
   "outputs": [],
   "source": [
    "def getDescrFromAPI(appid):\n",
    "    if appid == -1:\n",
    "        return \"\"\n",
    "    else:\n",
    "        url_string = 'https://store.steampowered.com/api/appdetails?appids=' + str(appid)\n",
    "        try:\n",
    "            app_json = requests.get(url_string).json()\n",
    "            app_data = app_json[str(appid)]['data']\n",
    "        except:\n",
    "            return \"\"\n",
    "        else:    \n",
    "            return collect_descriptions(app_data)"
   ]
  },
  {
   "cell_type": "code",
   "execution_count": 29,
   "metadata": {},
   "outputs": [],
   "source": [
    "games_stats_df['all-descriptions'] = games_stats_df['appid'].apply(getDescrFromAPI)"
   ]
  },
  {
   "cell_type": "code",
   "execution_count": 33,
   "metadata": {},
   "outputs": [
    {
     "data": {
      "text/plain": [
       "0RBITALIS                                                      Single-player Steam Achievements Steam Tradin...\n",
       "1... 2... 3... KICK IT! (Drop That Beat Like an Ugly Baby)     Single-player Steam Achievements Steam Tradin...\n",
       "10 Second Ninja                                                Single-player Steam Achievements Steam Tradin...\n",
       "10,000,000                                                     Single-player Steam Achievements Steam Tradin...\n",
       "100% Orange Juice                                              Single-player Multi-player PvP Online PvP Co-...\n",
       "                                                                                    ...                        \n",
       "Angels Fall First                                              Single-player Multi-player PvP Online PvP LAN...\n",
       "Angry Birds Space                                              Single-player Steam Achievements Steam Tradin...\n",
       "Angry Video Game Nerd Adventures                               Single-player Steam Achievements Full control...\n",
       "Angvik                                                         Single-player Partial Controller Support Acti...\n",
       "Anna - Extended Edition                                        Single-player Steam Achievements Steam Tradin...\n",
       "Name: all-descriptions, Length: 159, dtype: object"
      ]
     },
     "execution_count": 33,
     "metadata": {},
     "output_type": "execute_result"
    }
   ],
   "source": [
    "games_stats_df[games_stats_df['all-descriptions'] != \"\" ]['all-descriptions']"
   ]
  },
  {
   "cell_type": "code",
   "execution_count": 35,
   "metadata": {},
   "outputs": [],
   "source": [
    "games_stats_df_webdata = pd.concat([games_stats_df['appid'], games_stats_df['all-descriptions']],axis=1)"
   ]
  },
  {
   "cell_type": "code",
   "execution_count": 36,
   "metadata": {},
   "outputs": [],
   "source": [
    "games_stats_df_webdata.to_csv('./steam_game_aggregate_data_bonus_webdata.CSV')"
   ]
  },
  {
   "cell_type": "code",
   "execution_count": null,
   "metadata": {},
   "outputs": [],
   "source": []
  }
 ],
 "metadata": {
  "kernelspec": {
   "display_name": "Python 3",
   "language": "python",
   "name": "python3"
  },
  "language_info": {
   "codemirror_mode": {
    "name": "ipython",
    "version": 3
   },
   "file_extension": ".py",
   "mimetype": "text/x-python",
   "name": "python",
   "nbconvert_exporter": "python",
   "pygments_lexer": "ipython3",
   "version": "3.6.10"
  }
 },
 "nbformat": 4,
 "nbformat_minor": 4
}
