{
 "cells": [
  {
   "cell_type": "markdown",
   "metadata": {},
   "source": [
    "# Collaborative Filtering with Deep Learning (Neural CF)\n",
    "\n",
    "A popular method of collaborative filtering used that leverages the power of deep learning in Matrix Factorization. The idea is that the matrix representing the users rating for each item (or interaction score) can be factored into two matrix such that the dimension of all three matricies satsify (n x l) * (l x m) = (n x m). The n and m represent the number of users and items respectively, while the l represent the feature space which size we may choose. Since this is all based around linear algebra, its very natually can be formed into a trainable deep learning model. And whatsmore is additional hidden layers can be added. (This makes it go from General Matrix Factorization to Neural Matrix Factorization)\n",
    "\n",
    "Using the matrix made in the third notebook, a deep learning model will be trained for proof of concept. Since this will not be fully productionized, it will be built with keras, the convient python framework for deep learning that can be backend by tensorflow."
   ]
  },
  {
   "cell_type": "markdown",
   "metadata": {},
   "source": [
    "Sources\n",
    "\n",
    "[Functional API example](https://keras.io/guides/functional_api/)\n",
    "\n",
    "[Article example](https://towardsdatascience.com/neural-collaborative-filtering-96cef1009401)\n",
    "\n",
    "[Second simple example with PCA Viz](https://towardsdatascience.com/building-a-book-recommendation-system-using-keras-1fba34180699)"
   ]
  },
  {
   "cell_type": "code",
   "execution_count": 1,
   "metadata": {},
   "outputs": [
    {
     "name": "stderr",
     "output_type": "stream",
     "text": [
      "C:\\Users\\alexr\\Anaconda3\\lib\\site-packages\\numpy\\_distributor_init.py:32: UserWarning: loaded more than 1 DLL from .libs:\n",
      "C:\\Users\\alexr\\Anaconda3\\lib\\site-packages\\numpy\\.libs\\libopenblas.IPBC74C7KURV7CB2PKT5Z5FNR3SIBV4J.gfortran-win_amd64.dll\n",
      "C:\\Users\\alexr\\Anaconda3\\lib\\site-packages\\numpy\\.libs\\libopenblas.PYQHXLVVQ7VESDPUVUADXEVJOBGHJPAY.gfortran-win_amd64.dll\n",
      "  stacklevel=1)\n"
     ]
    },
    {
     "name": "stdout",
     "output_type": "stream",
     "text": [
      "numpyy version:  1.18.5\n",
      "tensorflow version:  2.3.0\n",
      "keras version:  2.4.0\n"
     ]
    }
   ],
   "source": [
    "%matplotlib inline\n",
    "import pickle\n",
    "import numpy as np\n",
    "import tensorflow as tf\n",
    "from tensorflow import keras\n",
    "from tensorflow.keras import layers\n",
    "from sklearn.model_selection import train_test_split\n",
    "from sklearn.preprocessing import LabelEncoder\n",
    "import pandas as pd\n",
    "import matplotlib.pyplot as plt\n",
    "import seaborn as sns\n",
    "from scipy import sparse\n",
    "from scipy.special import expit\n",
    "from timeit import default_timer\n",
    "\n",
    "\n",
    "print(\"numpyy version: \",np.__version__)\n",
    "print(\"tensorflow version: \", tf.__version__)\n",
    "print(\"keras version: \", keras.__version__)"
   ]
  },
  {
   "cell_type": "markdown",
   "metadata": {},
   "source": [
    "List available devices for tensorflow"
   ]
  },
  {
   "cell_type": "code",
   "execution_count": 2,
   "metadata": {},
   "outputs": [
    {
     "data": {
      "text/plain": [
       "[PhysicalDevice(name='/physical_device:CPU:0', device_type='CPU'),\n",
       " PhysicalDevice(name='/physical_device:XLA_CPU:0', device_type='XLA_CPU'),\n",
       " PhysicalDevice(name='/physical_device:XLA_GPU:0', device_type='XLA_GPU')]"
      ]
     },
     "execution_count": 2,
     "metadata": {},
     "output_type": "execute_result"
    }
   ],
   "source": [
    "tf.config.experimental.list_physical_devices()"
   ]
  },
  {
   "cell_type": "markdown",
   "metadata": {},
   "source": [
    "The spare matrix from the thrid notebook will be used for the Matrix Factorization(MF)"
   ]
  },
  {
   "cell_type": "code",
   "execution_count": 3,
   "metadata": {},
   "outputs": [],
   "source": [
    "dtype_dict_games = {'buyer-count': 'int64',\n",
    " 'player-count': 'int64',\n",
    " 'accumulated-hours-played': 'float64',\n",
    " 'player-frac-of-buyer': 'float64',\n",
    " 'avg-hours-played': 'float64',\n",
    " 'std-hours-played': 'float64'}\n",
    "\n",
    "dtype_dict_users = {'purchased-game-count': 'int64',\n",
    " 'played-game-count': 'int32',\n",
    " 'played-hours-count': 'float64',\n",
    " 'purhased-gametitles-list': 'object',\n",
    " 'played-gametitles-list': 'object',\n",
    " 'percent-library-played': 'float64',\n",
    " 'played-hours-avg': 'float64',\n",
    " 'played-hours-std': 'float64',\n",
    " 'played-hours-max': 'float64',\n",
    " 'most-played-game': 'object'}\n",
    "\n",
    "games_stats_df = pd.read_csv('./steam_game_aggregate_data.CSV', index_col= 0,dtype=dtype_dict_games)\n",
    "users_stats_df = pd.read_csv('./steam_user_aggregate_data.CSV', index_col= 0,dtype=dtype_dict_users)\n",
    "\n",
    "\n",
    "#names to assign to columns\n",
    "column_names = ['user-id','game-title','behavior-name','value']\n",
    "\n",
    "#dtypes to assign\n",
    "dtypes = {'user-id':int, 'game-title':str, 'behavior-name':'category', 'value':np.float64}\n",
    "\n",
    "#read in data from csv (please adjust path if you want to run this). Dropped last column because useless\n",
    "df = pd.read_csv('./steam-200k.csv', \n",
    "                usecols=[0,1,2,3],\n",
    "                names=column_names)\n",
    "\n",
    "#selects only play data (not purchase data)\n",
    "play_mask = df['behavior-name'] == 'play'\n",
    "play_df = df[play_mask]\n",
    "\n",
    "#turn the full game list into list object to feed functions later\n",
    "full_game_list = games_stats_df.index.to_list()\n",
    "full_user_list = users_stats_df.index.to_list()\n",
    "\n",
    "#instanciate label encoder\n",
    "le = LabelEncoder()\n",
    "\n",
    "#fit and transform the list of user-ids\n",
    "pseudo_users = le.fit_transform(full_user_list)\n",
    "\n",
    "#Store mapping into diction and dump content into pkl\n",
    "pseudo_user_map = dict(zip(pseudo_users, le.classes_))\n",
    "with open('./user_encoding_dict.pkl', 'wb') as file:\n",
    "    pickle.dump(pseudo_user_map, file)\n",
    "\n",
    "#repeat for games encoding\n",
    "pseudo_games = le.fit_transform(full_game_list)    \n",
    "pseudo_game_map = dict(zip(pseudo_games, le.classes_))\n",
    "with open('./game_encoding_dict.pkl', 'wb') as file:\n",
    "    pickle.dump(pseudo_game_map, file)\n",
    "\n",
    "games_played_matrix = pd.DataFrame(columns=full_game_list, index=full_user_list, dtype=np.float64)\n",
    "\n",
    "for ind, row in play_df.iterrows():\n",
    "    games_played_matrix.at[int(row['user-id']), row['game-title']] = 1\n",
    "\n",
    "#the labels are changed after inputing the values\n",
    "games_played_matrix.index = pseudo_users\n",
    "games_played_matrix.columns = pseudo_games\n",
    "\n",
    "for ind, row in games_played_matrix.iterrows():\n",
    "    row.fillna(0, inplace=True)\n",
    "    \n",
    "games_played_matrix_sparse = sparse.dok_matrix(games_played_matrix.values)"
   ]
  },
  {
   "cell_type": "markdown",
   "metadata": {},
   "source": [
    "To create the traning data and labels, this loop will create list of values from the matrix, and then randomly create 0 values for games a user hasn't played."
   ]
  },
  {
   "cell_type": "code",
   "execution_count": 39,
   "metadata": {},
   "outputs": [],
   "source": [
    "user_input_data, game_input_data, labels_data = [],[],[]\n",
    "num_users, num_games = games_played_matrix_sparse.shape\n",
    "for (u, i) in games_played_matrix_sparse.keys():\n",
    "    # positive instance\n",
    "    user_input_data.append(float(u))\n",
    "    game_input_data.append(float(i))\n",
    "    labels_data.append(1.0)\n",
    "    # negative instances, 4 choosen arbitrarily\n",
    "    for t in range(4):\n",
    "        j = np.random.randint(num_games)\n",
    "        while games_played_matrix_sparse[u, j] == 1:\n",
    "            j = np.random.randint(num_games)\n",
    "        user_input_data.append(float(u))\n",
    "        game_input_data.append(float(j))\n",
    "        labels_data.append(0.0)"
   ]
  },
  {
   "cell_type": "markdown",
   "metadata": {},
   "source": [
    "The games and items will be label encoded and the mapping will be stored inside a pkl file. The pseudo_users and pseudo_games will be input into the Input Layer of the model."
   ]
  },
  {
   "cell_type": "code",
   "execution_count": 43,
   "metadata": {},
   "outputs": [
    {
     "name": "stdout",
     "output_type": "stream",
     "text": [
      "Model: \"Neural_CF\"\n",
      "__________________________________________________________________________________________________\n",
      "Layer (type)                    Output Shape         Param #     Connected to                     \n",
      "==================================================================================================\n",
      "user (InputLayer)               [(None, 1)]          0                                            \n",
      "__________________________________________________________________________________________________\n",
      "game (InputLayer)               [(None, 1)]          0                                            \n",
      "__________________________________________________________________________________________________\n",
      "user_embedding (Embedding)      (None, 1, 100)       1239300     user[0][0]                       \n",
      "__________________________________________________________________________________________________\n",
      "game_embedding (Embedding)      (None, 1, 100)       515500      game[0][0]                       \n",
      "__________________________________________________________________________________________________\n",
      "user_dropout (Dropout)          (None, 1, 100)       0           user_embedding[0][0]             \n",
      "__________________________________________________________________________________________________\n",
      "game_dropout (Dropout)          (None, 1, 100)       0           game_embedding[0][0]             \n",
      "__________________________________________________________________________________________________\n",
      "user_flatten (Flatten)          (None, 100)          0           user_dropout[0][0]               \n",
      "__________________________________________________________________________________________________\n",
      "game_flatten (Flatten)          (None, 100)          0           game_dropout[0][0]               \n",
      "__________________________________________________________________________________________________\n",
      "dot_product (Multiply)          (None, 100)          0           user_flatten[0][0]               \n",
      "                                                                 game_flatten[0][0]               \n",
      "__________________________________________________________________________________________________\n",
      "fully_connected (Dense)         (None, 50)           5050        dot_product[0][0]                \n",
      "__________________________________________________________________________________________________\n",
      "fc_dropout (Dropout)            (None, 50)           0           fully_connected[0][0]            \n",
      "__________________________________________________________________________________________________\n",
      "predicition (Dense)             (None, 1)            51          fc_dropout[0][0]                 \n",
      "==================================================================================================\n",
      "Total params: 1,759,901\n",
      "Trainable params: 1,759,901\n",
      "Non-trainable params: 0\n",
      "__________________________________________________________________________________________________\n"
     ]
    }
   ],
   "source": [
    "#Constant parameters for model\n",
    "latent_dim = 100\n",
    "fc_dim = 50\n",
    "\n",
    "#design input layer\n",
    "user_input = keras.Input(shape = (1,), name=\"user\")\n",
    "game_input = keras.Input(shape = (1,), name=\"game\")\n",
    "\n",
    "#create embeddings for vector representing user and their games played\n",
    "user_embeddings = layers.Embedding(input_dim = num_users, output_dim = latent_dim, name = 'user_embedding',\n",
    "                                  embeddings_initializer=\"uniform\", input_length=1)(user_input)\n",
    "game_embeddings = layers.Embedding(input_dim = num_games, output_dim = latent_dim, name = 'game_embedding',\n",
    "                                  embeddings_initializer=\"uniform\", input_length=1)(game_input)\n",
    "\n",
    "#add dropout to both embedding layers\n",
    "user_dropout = layers.Dropout(rate=.5, name='user_dropout')(user_embeddings)\n",
    "game_dropout = layers.Dropout(rate=.5, name='game_dropout')(game_embeddings)\n",
    "\n",
    "#flatten out results into one dimension\n",
    "user_latent = layers.Flatten(name = \"user_flatten\")((user_dropout))\n",
    "game_latent = layers.Flatten(name = \"game_flatten\")((game_dropout))\n",
    "\n",
    "#dot product of these latent vectors\n",
    "predict_vector = layers.Multiply(name = \"dot_product\")([user_latent, game_latent])\n",
    "\n",
    "#one hidden fully connected layer after dot product\n",
    "dense_layer = layers.Dense(fc_dim, name = \"fully_connected\", kernel_initializer = 'lecun_uniform')(predict_vector)\n",
    "\n",
    "#dropout after fully connected to help against overfitting\n",
    "dense_dropout = layers.Dropout(rate=.5, name = \"fc_dropout\")(dense_layer)\n",
    "\n",
    "#final dense layer\n",
    "prediction = layers.Dense(1, activation= 'sigmoid', kernel_initializer= 'lecun_uniform', name = 'predicition')(dense_dropout)\n",
    "\n",
    "#Build the model\n",
    "model = keras.Model(inputs = [user_input, game_input], outputs = prediction, name='Neural_CF')\n",
    "\n",
    "#print summary\n",
    "model.summary()"
   ]
  },
  {
   "cell_type": "code",
   "execution_count": 44,
   "metadata": {},
   "outputs": [
    {
     "data": {
      "image/png": "[encoded data removed]",
      "text/plain": [
       "<IPython.core.display.Image object>"
      ]
     },
     "execution_count": 44,
     "metadata": {},
     "output_type": "execute_result"
    }
   ],
   "source": [
    "keras.utils.plot_model(model, \"Neural CF.png\", show_shapes=True)"
   ]
  },
  {
   "cell_type": "code",
   "execution_count": 45,
   "metadata": {},
   "outputs": [],
   "source": [
    "from sklearn.model_selection import train_test_split\n",
    "#zip user and game features together to allow train_test_split to split into training and testing data\n",
    "user_game_input_data = list(zip(user_input_data, game_input_data))\n",
    "\n",
    "#apply split\n",
    "X_train, X_test, Y_train, Y_test = train_test_split(user_game_input_data, labels_data, test_size=0.2, random_state=42)\n",
    "\n",
    "#split each X_train and X_test into user and game inputs again\n",
    "user_train_input, game_train_input = map(list, zip(*X_train))\n",
    "user_test_input, game_test_input = map(list, zip(*X_test))\n"
   ]
  },
  {
   "cell_type": "code",
   "execution_count": 50,
   "metadata": {},
   "outputs": [
    {
     "name": "stdout",
     "output_type": "stream",
     "text": [
      "2256/2256 [==============================] - 43s 19ms/step - loss: 0.1781 - accuracy: 0.9297 - val_loss: 0.2805 - val_accuracy: 0.8909\n",
      "2203/2203 [==============================] - 1s 484us/step - loss: 0.2803 - accuracy: 0.8901\n",
      "2256/2256 [==============================] - 43s 19ms/step - loss: 0.1723 - accuracy: 0.9312 - val_loss: 0.2807 - val_accuracy: 0.8916\n",
      "2203/2203 [==============================] - 1s 467us/step - loss: 0.2793 - accuracy: 0.8911\n",
      "2256/2256 [==============================] - 43s 19ms/step - loss: 0.1609 - accuracy: 0.9362 - val_loss: 0.2797 - val_accuracy: 0.8912\n",
      "2203/2203 [==============================] - 1s 481us/step - loss: 0.2790 - accuracy: 0.8915\n",
      "2256/2256 [==============================] - 43s 19ms/step - loss: 0.1524 - accuracy: 0.9392 - val_loss: 0.2819 - val_accuracy: 0.8918\n",
      "2203/2203 [==============================] - 1s 491us/step - loss: 0.2816 - accuracy: 0.8916\n",
      "2256/2256 [==============================] - 44s 20ms/step - loss: 0.1456 - accuracy: 0.9416 - val_loss: 0.2821 - val_accuracy: 0.8919\n",
      "2203/2203 [==============================] - 1s 513us/step - loss: 0.2816 - accuracy: 0.8920\n",
      "2256/2256 [==============================] - 44s 20ms/step - loss: 0.1408 - accuracy: 0.9437 - val_loss: 0.2857 - val_accuracy: 0.8923\n",
      "2203/2203 [==============================] - 1s 476us/step - loss: 0.2856 - accuracy: 0.8920\n",
      "2256/2256 [==============================] - 44s 19ms/step - loss: 0.1357 - accuracy: 0.9455 - val_loss: 0.2819 - val_accuracy: 0.8916\n",
      "2203/2203 [==============================] - 1s 484us/step - loss: 0.2812 - accuracy: 0.8921\n",
      "2256/2256 [==============================] - 44s 19ms/step - loss: 0.1317 - accuracy: 0.9469 - val_loss: 0.2860 - val_accuracy: 0.8915\n",
      "2203/2203 [==============================] - 1s 476us/step - loss: 0.2845 - accuracy: 0.8924\n",
      "2256/2256 [==============================] - 43s 19ms/step - loss: 0.1278 - accuracy: 0.9491 - val_loss: 0.2890 - val_accuracy: 0.8920\n",
      "2203/2203 [==============================] - 1s 493us/step - loss: 0.2874 - accuracy: 0.8927\n",
      "2256/2256 [==============================] - 44s 19ms/step - loss: 0.1238 - accuracy: 0.9501 - val_loss: 0.2919 - val_accuracy: 0.8923\n",
      "2203/2203 [==============================] - 1s 484us/step - loss: 0.2911 - accuracy: 0.8921\n",
      "2256/2256 [==============================] - 44s 19ms/step - loss: 0.1211 - accuracy: 0.9514 - val_loss: 0.2971 - val_accuracy: 0.8928\n",
      "   1/2203 [..............................] - ETA: 0s - loss: 0.2029 - accuracy: 0.8750WARNING:tensorflow:Callbacks method `on_test_batch_end` is slow compared to the batch time (batch time: 0.0000s vs `on_test_batch_end` time: 0.0010s). Check your callbacks.\n",
      "2203/2203 [==============================] - 1s 487us/step - loss: 0.2963 - accuracy: 0.8925\n",
      "2256/2256 [==============================] - 43s 19ms/step - loss: 0.1186 - accuracy: 0.9522 - val_loss: 0.2936 - val_accuracy: 0.8920\n",
      "2203/2203 [==============================] - 1s 481us/step - loss: 0.2928 - accuracy: 0.8927\n",
      "2256/2256 [==============================] - 44s 19ms/step - loss: 0.1164 - accuracy: 0.9529 - val_loss: 0.2889 - val_accuracy: 0.8923\n",
      "2203/2203 [==============================] - 1s 481us/step - loss: 0.2873 - accuracy: 0.8937\n",
      "2256/2256 [==============================] - 43s 19ms/step - loss: 0.1143 - accuracy: 0.9541 - val_loss: 0.2932 - val_accuracy: 0.8936\n",
      "2203/2203 [==============================] - 1s 472us/step - loss: 0.2918 - accuracy: 0.8937\n",
      "2256/2256 [==============================] - 44s 19ms/step - loss: 0.1114 - accuracy: 0.9554 - val_loss: 0.2944 - val_accuracy: 0.8938\n",
      "2203/2203 [==============================] - 1s 487us/step - loss: 0.2930 - accuracy: 0.8938\n",
      "2256/2256 [==============================] - 43s 19ms/step - loss: 0.1101 - accuracy: 0.9555 - val_loss: 0.2993 - val_accuracy: 0.8936\n",
      "2203/2203 [==============================] - 1s 479us/step - loss: 0.2982 - accuracy: 0.8945\n",
      "2256/2256 [==============================] - 43s 19ms/step - loss: 0.1089 - accuracy: 0.9559 - val_loss: 0.3048 - val_accuracy: 0.8934\n",
      "2203/2203 [==============================] - 1s 480us/step - loss: 0.3036 - accuracy: 0.8943\n",
      "2256/2256 [==============================] - 43s 19ms/step - loss: 0.1049 - accuracy: 0.9575 - val_loss: 0.3095 - val_accuracy: 0.8929\n",
      "2203/2203 [==============================] - 1s 484us/step - loss: 0.3089 - accuracy: 0.8944\n",
      "2256/2256 [==============================] - 44s 19ms/step - loss: 0.1050 - accuracy: 0.9575 - val_loss: 0.3064 - val_accuracy: 0.8931\n",
      "2203/2203 [==============================] - 1s 477us/step - loss: 0.3050 - accuracy: 0.8941\n",
      "2256/2256 [==============================] - 43s 19ms/step - loss: 0.1043 - accuracy: 0.9575 - val_loss: 0.3052 - val_accuracy: 0.8933\n",
      "2203/2203 [==============================] - 1s 492us/step - loss: 0.3040 - accuracy: 0.8942\n",
      "2256/2256 [==============================] - 44s 19ms/step - loss: 0.1018 - accuracy: 0.9587 - val_loss: 0.3083 - val_accuracy: 0.8935\n",
      "2203/2203 [==============================] - 1s 562us/step - loss: 0.3072 - accuracy: 0.8941\n",
      "2256/2256 [==============================] - 44s 20ms/step - loss: 0.1002 - accuracy: 0.9594 - val_loss: 0.3170 - val_accuracy: 0.8934\n",
      "2203/2203 [==============================] - 1s 491us/step - loss: 0.3152 - accuracy: 0.8946\n",
      "2256/2256 [==============================] - 43s 19ms/step - loss: 0.1008 - accuracy: 0.9599 - val_loss: 0.3101 - val_accuracy: 0.8939\n",
      "2203/2203 [==============================] - 1s 459us/step - loss: 0.3098 - accuracy: 0.8944\n",
      "2256/2256 [==============================] - 39s 17ms/step - loss: 0.1001 - accuracy: 0.9599 - val_loss: 0.2990 - val_accuracy: 0.8940\n",
      "2203/2203 [==============================] - 1s 452us/step - loss: 0.2985 - accuracy: 0.8947\n",
      "2256/2256 [==============================] - 39s 17ms/step - loss: 0.0975 - accuracy: 0.9609 - val_loss: 0.3120 - val_accuracy: 0.8937\n",
      "2203/2203 [==============================] - 1s 455us/step - loss: 0.3112 - accuracy: 0.8949\n",
      "2256/2256 [==============================] - 39s 18ms/step - loss: 0.0981 - accuracy: 0.9606 - val_loss: 0.3140 - val_accuracy: 0.8939\n",
      "2203/2203 [==============================] - 1s 456us/step - loss: 0.3130 - accuracy: 0.8952\n",
      "2256/2256 [==============================] - 39s 17ms/step - loss: 0.0955 - accuracy: 0.9616 - val_loss: 0.3086 - val_accuracy: 0.8941\n",
      "2203/2203 [==============================] - 1s 451us/step - loss: 0.3084 - accuracy: 0.8950\n",
      "2256/2256 [==============================] - 39s 17ms/step - loss: 0.0953 - accuracy: 0.9615 - val_loss: 0.3097 - val_accuracy: 0.8943\n",
      "2203/2203 [==============================] - 1s 449us/step - loss: 0.3095 - accuracy: 0.8950\n",
      "2256/2256 [==============================] - 40s 18ms/step - loss: 0.0944 - accuracy: 0.9617 - val_loss: 0.3127 - val_accuracy: 0.8945\n",
      "2203/2203 [==============================] - 1s 451us/step - loss: 0.3121 - accuracy: 0.8958\n",
      "2256/2256 [==============================] - 39s 17ms/step - loss: 0.0945 - accuracy: 0.9621 - val_loss: 0.3147 - val_accuracy: 0.8942\n",
      "2203/2203 [==============================] - 1s 463us/step - loss: 0.3136 - accuracy: 0.8954\n"
     ]
    }
   ],
   "source": [
    "#Setting the training hyperparameters for the model\n",
    "model.compile(loss='binary_crossentropy', \n",
    "              optimizer = 'adam',\n",
    "              metrics = [\"accuracy\"])\n",
    "\n",
    "#Training Parameters\n",
    "epochs = 30  #number of iteration to run all the data through\n",
    "batch_size = 100\n",
    "split = 0.2\n",
    "\n",
    "test_loss_scores = []\n",
    "test_accuracy_scores = []\n",
    "#Train the model\n",
    "for epoch in range(epochs):\n",
    "    model.fit([np.array(user_train_input), np.array(game_train_input)],\n",
    "              np.array(Y_train),\n",
    "              batch_size = batch_size,\n",
    "              epochs = 1,\n",
    "              validation_split = split)\n",
    "    \n",
    "    test_scores = model.evaluate([np.array(user_test_input), np.array(game_test_input)], np.array(Y_test))\n",
    "    test_loss_scores.append(test_scores[0])\n",
    "    test_accuracy_scores.append(test_scores[1])"
   ]
  },
  {
   "cell_type": "code",
   "execution_count": null,
   "metadata": {},
   "outputs": [],
   "source": [
    "import seaborn as sns\n",
    "training_scores_df = pd.DataFrame([test_loss_scores, test_accuracy_scores], columns = ['test_loss_scores', 'test_accuracy_scores'])\n",
    "training_scores_df['epoch'] = training_scores_df.index\n",
    "\n",
    "training_scores_df.head(10)\n",
    "\n",
    "sns.lineplot('epoch','test_loss_scores',data = training_scores_df)"
   ]
  }
 ],
 "metadata": {
  "kernelspec": {
   "display_name": "Python [conda env:root] *",
   "language": "python",
   "name": "conda-root-py"
  },
  "language_info": {
   "codemirror_mode": {
    "name": "ipython",
    "version": 3
   },
   "file_extension": ".py",
   "mimetype": "text/x-python",
   "name": "python",
   "nbconvert_exporter": "python",
   "pygments_lexer": "ipython3",
   "version": "3.6.10"
  }
 },
 "nbformat": 4,
 "nbformat_minor": 4
}
