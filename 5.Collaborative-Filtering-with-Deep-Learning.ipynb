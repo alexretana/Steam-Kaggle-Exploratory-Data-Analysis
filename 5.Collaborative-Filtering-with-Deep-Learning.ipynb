{
 "cells": [
  {
   "cell_type": "markdown",
   "metadata": {},
   "source": [
    "# Collaborative Filtering with Deep Learning (Neural CF)\n",
    "\n",
    "A popular method of collaborative filtering used that leverages the power of deep learning in Matrix Factorization. The idea is that the matrix representing the users rating for each item (or interaction score) can be factored into two matrix such that the dimension of all three matricies satsify (n x l) * (l x m) = (n x m). The n and m represent the number of users and items respectively, while the l represent the feature space which size we may choose. Since this is all based around linear algebra, its very natually can be formed into a trainable deep learning model. And whatsmore is additional hidden layers can be added. (This makes it go from General Matrix Factorization to Neural Matrix Factorization)\n",
    "\n",
    "Using the matrix made in the third notebook, a deep learning model will be trained for proof of concept. Since this will not be fully productionized, it will be built with keras, the convient python framework for deep learning that can be backend by tensorflow."
   ]
  },
  {
   "cell_type": "markdown",
   "metadata": {},
   "source": [
    "Sources\n",
    "\n",
    "[Functional API example](https://keras.io/guides/functional_api/)\n",
    "\n",
    "[Article example](https://towardsdatascience.com/neural-collaborative-filtering-96cef1009401)\n",
    "\n",
    "[Second simple example with PCA Viz](https://towardsdatascience.com/building-a-book-recommendation-system-using-keras-1fba34180699)"
   ]
  },
  {
   "cell_type": "code",
   "execution_count": 3,
   "metadata": {},
   "outputs": [
    {
     "name": "stdout",
     "output_type": "stream",
     "text": [
      "numpyy version:  1.18.5\n",
      "tensorflow version:  2.3.0\n",
      "keras version:  2.4.0\n"
     ]
    }
   ],
   "source": [
    "%matplotlib inline\n",
    "import pickle\n",
    "import numpy as np\n",
    "import tensorflow as tf\n",
    "from tensorflow import keras\n",
    "from tensorflow.keras import layers\n",
    "from sklearn.preprocessing import LabelEncoder\n",
    "import pandas as pd\n",
    "import matplotlib.pyplot as plt\n",
    "from scipy import sparse\n",
    "from scipy.special import expit\n",
    "from timeit import default_timer\n",
    "\n",
    "\n",
    "print(\"numpyy version: \",np.__version__)\n",
    "print(\"tensorflow version: \", tf.__version__)\n",
    "print(\"keras version: \", keras.__version__)"
   ]
  },
  {
   "cell_type": "markdown",
   "metadata": {},
   "source": [
    "List available devices for tensorflow"
   ]
  },
  {
   "cell_type": "code",
   "execution_count": 7,
   "metadata": {},
   "outputs": [
    {
     "data": {
      "text/plain": [
       "[PhysicalDevice(name='/physical_device:CPU:0', device_type='CPU'),\n",
       " PhysicalDevice(name='/physical_device:XLA_CPU:0', device_type='XLA_CPU'),\n",
       " PhysicalDevice(name='/physical_device:XLA_GPU:0', device_type='XLA_GPU')]"
      ]
     },
     "execution_count": 7,
     "metadata": {},
     "output_type": "execute_result"
    }
   ],
   "source": [
    "tf.config.experimental.list_physical_devices()"
   ]
  },
  {
   "cell_type": "markdown",
   "metadata": {},
   "source": [
    "The spare matrix from the thrid notebook will be used for the Matrix Factorization(MF)"
   ]
  },
  {
   "cell_type": "code",
   "execution_count": 66,
   "metadata": {},
   "outputs": [],
   "source": [
    "dtype_dict_games = {'buyer-count': 'int64',\n",
    " 'player-count': 'int64',\n",
    " 'accumulated-hours-played': 'float64',\n",
    " 'player-frac-of-buyer': 'float64',\n",
    " 'avg-hours-played': 'float64',\n",
    " 'std-hours-played': 'float64'}\n",
    "\n",
    "dtype_dict_users = {'purchased-game-count': 'int64',\n",
    " 'played-game-count': 'int32',\n",
    " 'played-hours-count': 'float64',\n",
    " 'purhased-gametitles-list': 'object',\n",
    " 'played-gametitles-list': 'object',\n",
    " 'percent-library-played': 'float64',\n",
    " 'played-hours-avg': 'float64',\n",
    " 'played-hours-std': 'float64',\n",
    " 'played-hours-max': 'float64',\n",
    " 'most-played-game': 'object'}\n",
    "\n",
    "games_stats_df = pd.read_csv('./steam_game_aggregate_data.CSV', index_col= 0,dtype=dtype_dict_games)\n",
    "users_stats_df = pd.read_csv('./steam_user_aggregate_data.CSV', index_col= 0,dtype=dtype_dict_users)\n",
    "\n",
    "\n",
    "#names to assign to columns\n",
    "column_names = ['user-id','game-title','behavior-name','value']\n",
    "\n",
    "#dtypes to assign\n",
    "dtypes = {'user-id':int, 'game-title':str, 'behavior-name':'category', 'value':np.float64}\n",
    "\n",
    "#read in data from csv (please adjust path if you want to run this). Dropped last column because useless\n",
    "df = pd.read_csv('./steam-200k.csv', \n",
    "                usecols=[0,1,2,3],\n",
    "                names=column_names)\n",
    "\n",
    "play_mask = df['behavior-name'] == 'play'\n",
    "play_df = df[play_mask]\n",
    "\n",
    "full_game_list = games_stats_df.index.to_list()\n",
    "full_user_list = users_stats_df.index.to_list()\n",
    "\n",
    "#instanciate label encoder\n",
    "le = LabelEncoder()\n",
    "\n",
    "#fit and transform the list of user-ids\n",
    "pseudo_users = le.fit_transform(full_user_list)\n",
    "\n",
    "#Store mapping into diction and dump content into pkl\n",
    "pseudo_user_map = dict(zip(pseudo_users, le.classes_))\n",
    "with open('./user_encoding_dict.pkl', 'wb') as file:\n",
    "    pickle.dump(pseudo_user_map, file)\n",
    "\n",
    "#repeat for games encoding\n",
    "pseudo_games = le.fit_transform(full_game_list)    \n",
    "pseudo_game_map = dict(zip(pseudo_games, le.classes_))\n",
    "with open('./game_encoding_dict.pkl', 'wb') as file:\n",
    "    pickle.dump(pseudo_game_map, file)\n",
    "\n",
    "games_played_matrix = pd.DataFrame(columns=full_game_list, index=full_user_list, dtype=np.float64)\n",
    "\n",
    "for ind, row in play_df.iterrows():\n",
    "    games_played_matrix.at[int(row['user-id']), row['game-title']] = 1\n",
    "\n",
    "#the labels are changed after inputing the values\n",
    "games_played_matrix.index = pseudo_users\n",
    "games_played_matrix.columns = pseudo_games\n",
    "\n",
    "for ind, row in games_played_matrix.iterrows():\n",
    "    row.fillna(0, inplace=True)\n",
    "    \n",
    "games_played_matrix_sparse = sparse.dok_matrix(games_played_matrix.values)"
   ]
  },
  {
   "cell_type": "markdown",
   "metadata": {},
   "source": [
    "To create the traning data and labels, this loop will create list of values from the matrix, and then randomly create 0 values for games a user hasn't played."
   ]
  },
  {
   "cell_type": "code",
   "execution_count": 68,
   "metadata": {},
   "outputs": [],
   "source": [
    "user_input, item_input, labels = [],[],[]\n",
    "num_users, num_games = games_played_matrix_sparse.shape\n",
    "for (u, i) in games_played_matrix_sparse.keys():\n",
    "    # positive instance\n",
    "    user_input.append(u)\n",
    "    item_input.append(i)\n",
    "    labels.append(1)\n",
    "    # negative instances, 4 choosen arbitrarily\n",
    "    for t in range(4):\n",
    "        j = np.random.randint(num_games)\n",
    "        while games_played_matrix_sparse[u, j] == 1:\n",
    "            j = np.random.randint(num_games)\n",
    "        user_input.append(u)\n",
    "        item_input.append(j)\n",
    "        labels.append(0)"
   ]
  },
  {
   "cell_type": "markdown",
   "metadata": {},
   "source": [
    "The games and items will be label encoded and the mapping will be stored inside a pkl file. The pseudo_users and pseudo_games will be input into the Input Layer of the model."
   ]
  },
  {
   "cell_type": "code",
   "execution_count": 12,
   "metadata": {},
   "outputs": [
    {
     "name": "stdout",
     "output_type": "stream",
     "text": [
      "Model: \"Matrix Factorization\"\n",
      "__________________________________________________________________________________________________\n",
      "Layer (type)                    Output Shape         Param #     Connected to                     \n",
      "==================================================================================================\n",
      "user (InputLayer)               [(None, 1)]          0                                            \n",
      "__________________________________________________________________________________________________\n",
      "game (InputLayer)               [(None, 1)]          0                                            \n",
      "__________________________________________________________________________________________________\n",
      "user_embedding (Embedding)      (None, 1, 100)       1239300     user[0][0]                       \n",
      "__________________________________________________________________________________________________\n",
      "game_embedding (Embedding)      (None, 1, 100)       515500      game[0][0]                       \n",
      "__________________________________________________________________________________________________\n",
      "user_dropout (Dropout)          (None, 1, 100)       0           user_embedding[0][0]             \n",
      "__________________________________________________________________________________________________\n",
      "game_dropout (Dropout)          (None, 1, 100)       0           game_embedding[0][0]             \n",
      "__________________________________________________________________________________________________\n",
      "user_flatten (Flatten)          (None, 100)          0           user_dropout[0][0]               \n",
      "__________________________________________________________________________________________________\n",
      "game_flatten (Flatten)          (None, 100)          0           game_dropout[0][0]               \n",
      "__________________________________________________________________________________________________\n",
      "dot_product (Multiply)          (None, 100)          0           user_flatten[0][0]               \n",
      "                                                                 game_flatten[0][0]               \n",
      "__________________________________________________________________________________________________\n",
      "fully_connected (Dense)         (None, 50)           5050        dot_product[0][0]                \n",
      "__________________________________________________________________________________________________\n",
      "fc_dropout (Dropout)            (None, 50)           0           fully_connected[0][0]            \n",
      "__________________________________________________________________________________________________\n",
      "predicition (Dense)             (None, 1)            51          fc_dropout[0][0]                 \n",
      "==================================================================================================\n",
      "Total params: 1,759,901\n",
      "Trainable params: 1,759,901\n",
      "Non-trainable params: 0\n",
      "__________________________________________________________________________________________________\n"
     ]
    }
   ],
   "source": [
    "#Constant parameters for model\n",
    "latent_dim = 100\n",
    "fc_dim = 50\n",
    "\n",
    "#design input layer\n",
    "user_input = keras.Input(shape = (1,), name=\"user\")\n",
    "game_input = keras.Input(shape = (1,), name=\"game\")\n",
    "\n",
    "#create embeddings for vector representing user and their games played\n",
    "user_embeddings = layers.Embedding(input_dim = num_users, output_dim = latent_dim, name = 'user_embedding',\n",
    "                                  embeddings_initializer=\"uniform\", input_length=1)(user_input)\n",
    "game_embeddings = layers.Embedding(input_dim = num_games, output_dim = latent_dim, name = 'game_embedding',\n",
    "                                  embeddings_initializer=\"uniform\", input_length=1)(game_input)\n",
    "\n",
    "#add dropout to both embedding layers\n",
    "user_dropout = layers.Dropout(rate=.5, name='user_dropout')(user_embeddings)\n",
    "game_dropout = layers.Dropout(rate=.5, name='game_dropout')(game_embeddings)\n",
    "\n",
    "#flatten out results into one dimension\n",
    "user_latent = layers.Flatten(name = \"user_flatten\")((user_dropout))\n",
    "game_latent = layers.Flatten(name = \"game_flatten\")((game_dropout))\n",
    "\n",
    "#dot product of these latent vectors\n",
    "predict_vector = layers.Multiply(name = \"dot_product\")([user_latent, game_latent])\n",
    "\n",
    "#one hidden fully connected layer after dot product\n",
    "dense_layer = layers.Dense(fc_dim, name = \"fully_connected\")(predict_vector)\n",
    "\n",
    "#dropout after fully connected to help against overfitting\n",
    "dense_dropout = layers.Dropout(rate=.5, name = \"fc_dropout\")(dense_layer)\n",
    "\n",
    "#final dense layer\n",
    "prediction = layers.Dense(1, activation= 'sigmoid', kernel_initializer= 'lecun_uniform', name = 'predicition')(dense_dropout)\n",
    "\n",
    "#Build the model\n",
    "model = keras.Model(inputs = [user_input, game_input], outputs = prediction, name='Neural CF')\n",
    "\n",
    "#print summary\n",
    "model.summary()"
   ]
  },
  {
   "cell_type": "code",
   "execution_count": 17,
   "metadata": {},
   "outputs": [
    {
     "data": {
      "text/plain": [
       "[]"
      ]
     },
     "execution_count": 17,
     "metadata": {},
     "output_type": "execute_result"
    }
   ],
   "source": []
  },
  {
   "cell_type": "code",
   "execution_count": null,
   "metadata": {},
   "outputs": [],
   "source": []
  }
 ],
 "metadata": {
  "kernelspec": {
   "display_name": "Python [conda env:root] *",
   "language": "python",
   "name": "conda-root-py"
  },
  "language_info": {
   "codemirror_mode": {
    "name": "ipython",
    "version": 3
   },
   "file_extension": ".py",
   "mimetype": "text/x-python",
   "name": "python",
   "nbconvert_exporter": "python",
   "pygments_lexer": "ipython3",
   "version": "3.6.10"
  }
 },
 "nbformat": 4,
 "nbformat_minor": 4
}
