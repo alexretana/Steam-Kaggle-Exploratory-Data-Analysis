{
 "cells": [
  {
   "cell_type": "markdown",
   "metadata": {},
   "source": [
    "# Pulling data from Steam Web API\n",
    "\n",
    "After looking at the documentation for the [storefront API](https://wiki.teamfortress.com/wiki/User:RJackson/StorefrontAPI) (which can return store page information for each game), it requires each games' appid. Our data doesn't have these appids included, however, a second API found through [this thread](https://stackoverflow.com/questions/57441606/how-to-get-the-steam-appid-by-appname-in-steam-webapi) allows us to retrieve a list of game appids to their corresponding title. \n",
    "\n",
    "Since the engine to be built will be content based\n",
    "\n",
    "Since this process takes several minutes, I decided to add the [tdqm](https://github.com/tqdm/tqdm) wrapper on my loop."
   ]
  },
  {
   "cell_type": "code",
   "execution_count": 1,
   "metadata": {},
   "outputs": [],
   "source": [
    "#inline graphing just in case, and libraries to be used\n",
    "%matplotlib inline\n",
    "import pandas as pd\n",
    "import numpy as np\n",
    "import matplotlib.pyplot as plt\n",
    "import requests\n",
    "import pickle\n",
    "from tqdm import tqdm\n",
    "from bs4 import BeautifulSoup\n",
    "from sklearn.feature_extraction.text import CountVectorizer\n",
    "from sklearn.metrics.pairwise import cosine_similarity\n",
    "from sklearn.feature_extraction.text import TfidfVectorizer\n",
    "from sklearn.metrics.pairwise import linear_kernel"
   ]
  },
  {
   "cell_type": "markdown",
   "metadata": {},
   "source": [
    "After looking at the documentation for the [storefront API](https://wiki.teamfortress.com/wiki/User:RJackson/StorefrontAPI) (which can return store page information for each game), it requires each games' appid. Our data doesn't have these appids included, however, a second API found through [this thread](https://stackoverflow.com/questions/57441606/how-to-get-the-steam-appid-by-appname-in-steam-webapi) allows us to retrieve a list of game appids to their corresponding title. \n",
    "\n",
    "Since the API returns a json, it will be easier to first move it into a DataFrame before merging it with our other table.\n",
    "\n",
    "Since this process takes several minutes, I decided to add the [tdqm](https://github.com/tqdm/tqdm) wrapper on my loop."
   ]
  },
  {
   "cell_type": "code",
   "execution_count": 2,
   "metadata": {},
   "outputs": [
    {
     "name": "stderr",
     "output_type": "stream",
     "text": [
      "100%|██████████| 100000/100000 [13:39<00:00, 121.96it/s]\n"
     ]
    },
    {
     "data": {
      "text/html": [
       "<div>\n",
       "<style scoped>\n",
       "    .dataframe tbody tr th:only-of-type {\n",
       "        vertical-align: middle;\n",
       "    }\n",
       "\n",
       "    .dataframe tbody tr th {\n",
       "        vertical-align: top;\n",
       "    }\n",
       "\n",
       "    .dataframe thead th {\n",
       "        text-align: right;\n",
       "    }\n",
       "</style>\n",
       "<table border=\"1\" class=\"dataframe\">\n",
       "  <thead>\n",
       "    <tr style=\"text-align: right;\">\n",
       "      <th></th>\n",
       "      <th>appid</th>\n",
       "      <th>name</th>\n",
       "    </tr>\n",
       "  </thead>\n",
       "  <tbody>\n",
       "    <tr>\n",
       "      <th>0</th>\n",
       "      <td>216938</td>\n",
       "      <td>Pieterw test app76 ( 216938 )</td>\n",
       "    </tr>\n",
       "    <tr>\n",
       "      <th>1</th>\n",
       "      <td>660010</td>\n",
       "      <td>test2</td>\n",
       "    </tr>\n",
       "    <tr>\n",
       "      <th>2</th>\n",
       "      <td>660130</td>\n",
       "      <td>test3</td>\n",
       "    </tr>\n",
       "    <tr>\n",
       "      <th>3</th>\n",
       "      <td>1346400</td>\n",
       "      <td>Battle Engine Aquila</td>\n",
       "    </tr>\n",
       "    <tr>\n",
       "      <th>4</th>\n",
       "      <td>1346420</td>\n",
       "      <td>Transpire</td>\n",
       "    </tr>\n",
       "  </tbody>\n",
       "</table>\n",
       "</div>"
      ],
      "text/plain": [
       "     appid                           name\n",
       "0   216938  Pieterw test app76 ( 216938 )\n",
       "1   660010                          test2\n",
       "2   660130                          test3\n",
       "3  1346400           Battle Engine Aquila\n",
       "4  1346420                      Transpire"
      ]
     },
     "execution_count": 2,
     "metadata": {},
     "output_type": "execute_result"
    }
   ],
   "source": [
    "#using requests modules to send a GET requestion\n",
    "r = requests.get('http://api.steampowered.com/ISteamApps/GetAppList/v2')\n",
    "\n",
    "#assign the relevant information from the json return to the variable 'app_json'\n",
    "app_json = r.json()['applist']['apps']\n",
    "\n",
    "#Create empty DataFrame with two columns, loop through each dict in the list, add both values to DataFrame\n",
    "appid_df = pd.DataFrame(columns=['appid', 'name'])\n",
    "for app in tqdm(app_json):\n",
    "    appid_df = appid_df.append(app, ignore_index=True)\n",
    "\n",
    "#print head to confirm results\n",
    "appid_df.head()"
   ]
  },
  {
   "cell_type": "markdown",
   "metadata": {},
   "source": [
    "Now that all the app names and correspond appid are stored in a data frame, information about each app can be queried from the storefront API.\n",
    "\n",
    "To understand what to pull from this API, the json response will be loaded into a DataFrame to explore. It is also good to cross refrerence the description of the data from the documentation linked above. Since the API call requires an appid to test out, the appid for 'PAY DAY 2' was used."
   ]
  },
  {
   "cell_type": "code",
   "execution_count": 5,
   "metadata": {
    "scrolled": true
   },
   "outputs": [
    {
     "data": {
      "text/html": [
       "<div>\n",
       "<style scoped>\n",
       "    .dataframe tbody tr th:only-of-type {\n",
       "        vertical-align: middle;\n",
       "    }\n",
       "\n",
       "    .dataframe tbody tr th {\n",
       "        vertical-align: top;\n",
       "    }\n",
       "\n",
       "    .dataframe thead th {\n",
       "        text-align: right;\n",
       "    }\n",
       "</style>\n",
       "<table border=\"1\" class=\"dataframe\">\n",
       "  <thead>\n",
       "    <tr style=\"text-align: right;\">\n",
       "      <th></th>\n",
       "      <th>success</th>\n",
       "      <th>data</th>\n",
       "    </tr>\n",
       "  </thead>\n",
       "  <tbody>\n",
       "    <tr>\n",
       "      <th>about_the_game</th>\n",
       "      <td>True</td>\n",
       "      <td>&lt;strong&gt;&lt;a href=\"https://store.steampowered.co...</td>\n",
       "    </tr>\n",
       "    <tr>\n",
       "      <th>achievements</th>\n",
       "      <td>True</td>\n",
       "      <td>{'total': 1207, 'highlighted': [{'name': 'Comi...</td>\n",
       "    </tr>\n",
       "    <tr>\n",
       "      <th>background</th>\n",
       "      <td>True</td>\n",
       "      <td>https://steamcdn-a.akamaihd.net/steam/apps/218...</td>\n",
       "    </tr>\n",
       "    <tr>\n",
       "      <th>categories</th>\n",
       "      <td>True</td>\n",
       "      <td>[{'id': 2, 'description': 'Single-player'}, {'...</td>\n",
       "    </tr>\n",
       "    <tr>\n",
       "      <th>content_descriptors</th>\n",
       "      <td>True</td>\n",
       "      <td>{'ids': [], 'notes': None}</td>\n",
       "    </tr>\n",
       "    <tr>\n",
       "      <th>controller_support</th>\n",
       "      <td>True</td>\n",
       "      <td>full</td>\n",
       "    </tr>\n",
       "    <tr>\n",
       "      <th>detailed_description</th>\n",
       "      <td>True</td>\n",
       "      <td>&lt;strong&gt;&lt;a href=\"https://store.steampowered.co...</td>\n",
       "    </tr>\n",
       "    <tr>\n",
       "      <th>developers</th>\n",
       "      <td>True</td>\n",
       "      <td>[OVERKILL - a Starbreeze Studio.]</td>\n",
       "    </tr>\n",
       "    <tr>\n",
       "      <th>dlc</th>\n",
       "      <td>True</td>\n",
       "      <td>[1347750, 1347751, 1351060, 1252200, 1255151, ...</td>\n",
       "    </tr>\n",
       "    <tr>\n",
       "      <th>genres</th>\n",
       "      <td>True</td>\n",
       "      <td>[{'id': '1', 'description': 'Action'}, {'id': ...</td>\n",
       "    </tr>\n",
       "    <tr>\n",
       "      <th>header_image</th>\n",
       "      <td>True</td>\n",
       "      <td>https://steamcdn-a.akamaihd.net/steam/apps/218...</td>\n",
       "    </tr>\n",
       "    <tr>\n",
       "      <th>is_free</th>\n",
       "      <td>True</td>\n",
       "      <td>False</td>\n",
       "    </tr>\n",
       "    <tr>\n",
       "      <th>legal_notice</th>\n",
       "      <td>True</td>\n",
       "      <td>\"PAYDAY 2 ®” and \"OVERKILL A STARBREEZE STUDIO...</td>\n",
       "    </tr>\n",
       "    <tr>\n",
       "      <th>linux_requirements</th>\n",
       "      <td>True</td>\n",
       "      <td>{'minimum': '&lt;strong&gt;Minimum:&lt;/strong&gt;&lt;br&gt;&lt;ul ...</td>\n",
       "    </tr>\n",
       "    <tr>\n",
       "      <th>mac_requirements</th>\n",
       "      <td>True</td>\n",
       "      <td>[]</td>\n",
       "    </tr>\n",
       "    <tr>\n",
       "      <th>metacritic</th>\n",
       "      <td>True</td>\n",
       "      <td>{'score': 79, 'url': 'https://www.metacritic.c...</td>\n",
       "    </tr>\n",
       "    <tr>\n",
       "      <th>movies</th>\n",
       "      <td>True</td>\n",
       "      <td>[{'id': 256766497, 'name': 'PAYDAY 2: Legacy C...</td>\n",
       "    </tr>\n",
       "    <tr>\n",
       "      <th>name</th>\n",
       "      <td>True</td>\n",
       "      <td>PAYDAY 2</td>\n",
       "    </tr>\n",
       "    <tr>\n",
       "      <th>package_groups</th>\n",
       "      <td>True</td>\n",
       "      <td>[{'name': 'default', 'title': 'Buy PAYDAY 2', ...</td>\n",
       "    </tr>\n",
       "    <tr>\n",
       "      <th>packages</th>\n",
       "      <td>True</td>\n",
       "      <td>[30182]</td>\n",
       "    </tr>\n",
       "    <tr>\n",
       "      <th>pc_requirements</th>\n",
       "      <td>True</td>\n",
       "      <td>{'minimum': '&lt;strong&gt;Minimum:&lt;/strong&gt;&lt;br&gt;&lt;ul ...</td>\n",
       "    </tr>\n",
       "    <tr>\n",
       "      <th>platforms</th>\n",
       "      <td>True</td>\n",
       "      <td>{'windows': True, 'mac': False, 'linux': True}</td>\n",
       "    </tr>\n",
       "    <tr>\n",
       "      <th>price_overview</th>\n",
       "      <td>True</td>\n",
       "      <td>{'currency': 'USD', 'initial': 999, 'final': 9...</td>\n",
       "    </tr>\n",
       "    <tr>\n",
       "      <th>publishers</th>\n",
       "      <td>True</td>\n",
       "      <td>[Starbreeze Publishing AB]</td>\n",
       "    </tr>\n",
       "    <tr>\n",
       "      <th>recommendations</th>\n",
       "      <td>True</td>\n",
       "      <td>{'total': 272240}</td>\n",
       "    </tr>\n",
       "    <tr>\n",
       "      <th>release_date</th>\n",
       "      <td>True</td>\n",
       "      <td>{'coming_soon': False, 'date': 'Aug 13, 2013'}</td>\n",
       "    </tr>\n",
       "    <tr>\n",
       "      <th>required_age</th>\n",
       "      <td>True</td>\n",
       "      <td>18</td>\n",
       "    </tr>\n",
       "    <tr>\n",
       "      <th>screenshots</th>\n",
       "      <td>True</td>\n",
       "      <td>[{'id': 0, 'path_thumbnail': 'https://steamcdn...</td>\n",
       "    </tr>\n",
       "    <tr>\n",
       "      <th>short_description</th>\n",
       "      <td>True</td>\n",
       "      <td>PAYDAY 2 is an action-packed, four-player co-o...</td>\n",
       "    </tr>\n",
       "    <tr>\n",
       "      <th>steam_appid</th>\n",
       "      <td>True</td>\n",
       "      <td>218620</td>\n",
       "    </tr>\n",
       "    <tr>\n",
       "      <th>support_info</th>\n",
       "      <td>True</td>\n",
       "      <td>{'url': 'http://steamcommunity.com/app/218620/...</td>\n",
       "    </tr>\n",
       "    <tr>\n",
       "      <th>supported_languages</th>\n",
       "      <td>True</td>\n",
       "      <td>English&lt;strong&gt;*&lt;/strong&gt;, German, French, Ita...</td>\n",
       "    </tr>\n",
       "    <tr>\n",
       "      <th>type</th>\n",
       "      <td>True</td>\n",
       "      <td>game</td>\n",
       "    </tr>\n",
       "    <tr>\n",
       "      <th>website</th>\n",
       "      <td>True</td>\n",
       "      <td>http://www.overkillsoftware.com/</td>\n",
       "    </tr>\n",
       "  </tbody>\n",
       "</table>\n",
       "</div>"
      ],
      "text/plain": [
       "                      success  \\\n",
       "about_the_game           True   \n",
       "achievements             True   \n",
       "background               True   \n",
       "categories               True   \n",
       "content_descriptors      True   \n",
       "controller_support       True   \n",
       "detailed_description     True   \n",
       "developers               True   \n",
       "dlc                      True   \n",
       "genres                   True   \n",
       "header_image             True   \n",
       "is_free                  True   \n",
       "legal_notice             True   \n",
       "linux_requirements       True   \n",
       "mac_requirements         True   \n",
       "metacritic               True   \n",
       "movies                   True   \n",
       "name                     True   \n",
       "package_groups           True   \n",
       "packages                 True   \n",
       "pc_requirements          True   \n",
       "platforms                True   \n",
       "price_overview           True   \n",
       "publishers               True   \n",
       "recommendations          True   \n",
       "release_date             True   \n",
       "required_age             True   \n",
       "screenshots              True   \n",
       "short_description        True   \n",
       "steam_appid              True   \n",
       "support_info             True   \n",
       "supported_languages      True   \n",
       "type                     True   \n",
       "website                  True   \n",
       "\n",
       "                                                                   data  \n",
       "about_the_game        <strong><a href=\"https://store.steampowered.co...  \n",
       "achievements          {'total': 1207, 'highlighted': [{'name': 'Comi...  \n",
       "background            https://steamcdn-a.akamaihd.net/steam/apps/218...  \n",
       "categories            [{'id': 2, 'description': 'Single-player'}, {'...  \n",
       "content_descriptors                          {'ids': [], 'notes': None}  \n",
       "controller_support                                                 full  \n",
       "detailed_description  <strong><a href=\"https://store.steampowered.co...  \n",
       "developers                            [OVERKILL - a Starbreeze Studio.]  \n",
       "dlc                   [1347750, 1347751, 1351060, 1252200, 1255151, ...  \n",
       "genres                [{'id': '1', 'description': 'Action'}, {'id': ...  \n",
       "header_image          https://steamcdn-a.akamaihd.net/steam/apps/218...  \n",
       "is_free                                                           False  \n",
       "legal_notice          \"PAYDAY 2 ®” and \"OVERKILL A STARBREEZE STUDIO...  \n",
       "linux_requirements    {'minimum': '<strong>Minimum:</strong><br><ul ...  \n",
       "mac_requirements                                                     []  \n",
       "metacritic            {'score': 79, 'url': 'https://www.metacritic.c...  \n",
       "movies                [{'id': 256766497, 'name': 'PAYDAY 2: Legacy C...  \n",
       "name                                                           PAYDAY 2  \n",
       "package_groups        [{'name': 'default', 'title': 'Buy PAYDAY 2', ...  \n",
       "packages                                                        [30182]  \n",
       "pc_requirements       {'minimum': '<strong>Minimum:</strong><br><ul ...  \n",
       "platforms                {'windows': True, 'mac': False, 'linux': True}  \n",
       "price_overview        {'currency': 'USD', 'initial': 999, 'final': 9...  \n",
       "publishers                                   [Starbreeze Publishing AB]  \n",
       "recommendations                                       {'total': 272240}  \n",
       "release_date             {'coming_soon': False, 'date': 'Aug 13, 2013'}  \n",
       "required_age                                                         18  \n",
       "screenshots           [{'id': 0, 'path_thumbnail': 'https://steamcdn...  \n",
       "short_description     PAYDAY 2 is an action-packed, four-player co-o...  \n",
       "steam_appid                                                      218620  \n",
       "support_info          {'url': 'http://steamcommunity.com/app/218620/...  \n",
       "supported_languages   English<strong>*</strong>, German, French, Ita...  \n",
       "type                                                               game  \n",
       "website                                http://www.overkillsoftware.com/  "
      ]
     },
     "execution_count": 5,
     "metadata": {},
     "output_type": "execute_result"
    }
   ],
   "source": [
    "#make GET request for page front content of Pay Day 2\n",
    "app_info = requests.get('https://store.steampowered.com/api/appdetails?appids=218620')\n",
    "\n",
    "#assign app_data for testing in the next few cells\n",
    "app_data = app_info.json()['218620']['data']\n",
    "\n",
    "#load to DataFrame to view\n",
    "pd.DataFrame(app_info.json()['218620'])"
   ]
  },
  {
   "cell_type": "markdown",
   "metadata": {},
   "source": [
    "After looking through the json, it seems like the data that will be most useful for a our recommendation system is in the description values, such as \"about_the_game\", \"detailed_description\", \"short_description\", and it wouldn't hurt to add the words from \"genres\" and \"categories\", too.\n",
    "\n",
    "Below are functions defined to properly extract the strings from each of theses values."
   ]
  },
  {
   "cell_type": "code",
   "execution_count": 10,
   "metadata": {},
   "outputs": [],
   "source": [
    "def get_categories(app_data):\n",
    "    try:\n",
    "        categories = app_data['categories']\n",
    "    except KeyError:\n",
    "        return \"\"\n",
    "    else:\n",
    "        category_string = \"\"\n",
    "        for cat in app_data['categories']:\n",
    "            category_string = category_string + \" \" + cat['description']\n",
    "\n",
    "        return category_string"
   ]
  },
  {
   "cell_type": "code",
   "execution_count": 11,
   "metadata": {},
   "outputs": [],
   "source": [
    "def get_genres(app_data):\n",
    "    try:\n",
    "        genres = app_data['genres']\n",
    "    except KeyError:\n",
    "        return \"\"\n",
    "    else:\n",
    "        genres_string = \"\"\n",
    "        for gen in genres:\n",
    "            genres_string = genres_string + \" \" + gen['description']\n",
    "    \n",
    "        return genres_string"
   ]
  },
  {
   "cell_type": "markdown",
   "metadata": {},
   "source": [
    "Since all the descriptions are HTML formatted strings, utilizing BeautifulSoup library to parse the text will save us a lot of work of cleaning the tags ourselves. This last function parses all three descriptive HTML strings into one long string."
   ]
  },
  {
   "cell_type": "code",
   "execution_count": 13,
   "metadata": {
    "scrolled": true
   },
   "outputs": [],
   "source": [
    "def html_parser(html_string):\n",
    "    soup = BeautifulSoup(html_string, 'html.parser')\n",
    "    return soup.get_text()\n",
    "\n",
    "def get_all_descriptions(app_data):\n",
    "    try:\n",
    "        detailed_description = html_parser(app_data['detailed_description'])\n",
    "        about_the_game = html_parser(app_data['about_the_game'])\n",
    "        short_description =  html_parser(app_data['short_description'])\n",
    "        return \" \".join([detailed_description, about_the_game, short_description])\n",
    "    \n",
    "    except:\n",
    "        return \" \"\n",
    "    else:\n",
    "        return \" \".join([detailed_description, about_the_game, short_description])\n",
    "                                         "
   ]
  },
  {
   "cell_type": "markdown",
   "metadata": {},
   "source": [
    "Final function puts everything together to return one string with descriptions, genres, and categories. Not the conditional if-statement to deal with -1 values."
   ]
  },
  {
   "cell_type": "code",
   "execution_count": 14,
   "metadata": {
    "scrolled": true
   },
   "outputs": [],
   "source": [
    "def collect_descriptions(app_data):\n",
    "    return get_categories(app_data) + get_genres(app_data) + \" \" + get_all_descriptions(app_data)"
   ]
  },
  {
   "cell_type": "markdown",
   "metadata": {},
   "source": [
    "For each row in the DataFrame, we have to create the querystring and add it to the URL for the GET request. One more function will be written to complete this."
   ]
  },
  {
   "cell_type": "code",
   "execution_count": 15,
   "metadata": {},
   "outputs": [],
   "source": [
    "def getDescrFromAPI(appid):\n",
    "    if appid == -1:\n",
    "        return \"\"\n",
    "    else:\n",
    "        url_string = 'https://store.steampowered.com/api/appdetails?appids=' + str(appid)\n",
    "        try:\n",
    "            app_json = requests.get(url_string).json()\n",
    "            app_data = app_json[str(appid)]['data']\n",
    "        except:\n",
    "            return \"\"\n",
    "        else:    \n",
    "            return collect_descriptions(app_data)"
   ]
  },
  {
   "cell_type": "markdown",
   "metadata": {},
   "source": [
    "The function is applied to this column, and then saved as a new column, all-descriptions. After completion, the values will be investigated"
   ]
  },
  {
   "cell_type": "code",
   "execution_count": 16,
   "metadata": {},
   "outputs": [],
   "source": [
    "appid_df['all-descriptions'] = appid_df['appid'].apply(getDescrFromAPI)"
   ]
  },
  {
   "cell_type": "code",
   "execution_count": 21,
   "metadata": {
    "scrolled": true
   },
   "outputs": [
    {
     "data": {
      "text/plain": [
       "                                                                                                                                                                                                                                                                                                                                                                                                                                                                                                                                                                                                                                                                                                                                                                                                                                                                                                                                                                                                                                                                                                                                                                                                                                                                                                                                                                                                                                                                                                                                                                                                                                                                                                                                                                                                                                                                                                                                                                                                                                                                                                                                                                                                                                                                                                                                                                                                                                                                                                                                                                                                                                                                                                                                                                                                                                                                                                                                                                                                                                                                                                                                                                                                                                                                                                                                                                                                                                                                                                                                                                                                                                                                                                                                                                                                                                                                                                                                                                                                                                                                                                                                                                                                                                                                                                                                                                                                                                                                                                                                                                                                                                                                                                                                                                                                                                                                                                                                                                                                                                                                                                                                                                                                                                                                                                                                                                                                                                                                                                                                                                                                                                                                                                                                                                                                                                                                                                                                                                                                                                                                                                                                                                                                                                                                                                                                                                                                                                                                                                                                                                                                                                                                                                                                                                                                                                                                                                                                                                                                                                                                                                                                                                                                                                                                                                                                                                                                                                                                                                                                                                                                                                                                                                                                                                                                                                                                                                                                                                                                                                                                                                                                                                                                                                                                                                                     90978\n",
       "                                                                                                                                                                                                                                                                                                                                                                                                                                                                                                                                                                                                                                                                                                                                                                                                                                                                                                                                                                                                                                                                                                                                                                                                                                                                                                                                                                                                                                                                                                                                                                                                                                                                                                                                                                                                                                                                                                                                                                                                                                                                                                                                                                                                                                                                                                                                                                                                                                                                                                                                                                                                                                                                                                                                                                                                                                                                                                                                                                                                                                                                                                                                                                                                                                                                                                                                                                                                                                                                                                                                                                                                                                                                                                                                                                                                                                                                                                                                                                                                                                                                                                                                                                                                                                                                                                                                                                                                                                                                                                                                                                                                                                                                                                                                                                                                                                                                                                                                                                                                                                                                                                                                                                                                                                                                                                                                                                                                                                                                                                                                                                                                                                                                                                                                                                                                                                                                                                                                                                                                                                                                                                                                                                                                                                                                                                                                                                                                                                                                                                                                                                                                                                                                                                                                                                                                                                                                                                                                                                                                                                                                                                                                                                                                                                                                                                                                                                                                                                                                                                                                                                                                                                                                                                                                                                                                                                                                                                                                                                                                                                                                                                                                                                                                                                                                                                                       207\n",
       " Game demo                                                                                                                                                                                                                                                                                                                                                                                                                                                                                                                                                                                                                                                                                                                                                                                                                                                                                                                                                                                                                                                                                                                                                                                                                                                                                                                                                                                                                                                                                                                                                                                                                                                                                                                                                                                                                                                                                                                                                                                                                                                                                                                                                                                                                                                                                                                                                                                                                                                                                                                                                                                                                                                                                                                                                                                                                                                                                                                                                                                                                                                                                                                                                                                                                                                                                                                                                                                                                                                                                                                                                                                                                                                                                                                                                                                                                                                                                                                                                                                                                                                                                                                                                                                                                                                                                                                                                                                                                                                                                                                                                                                                                                                                                                                                                                                                                                                                                                                                                                                                                                                                                                                                                                                                                                                                                                                                                                                                                                                                                                                                                                                                                                                                                                                                                                                                                                                                                                                                                                                                                                                                                                                                                                                                                                                                                                                                                                                                                                                                                                                                                                                                                                                                                                                                                                                                                                                                                                                                                                                                                                                                                                                                                                                                                                                                                                                                                                                                                                                                                                                                                                                                                                                                                                                                                                                                                                                                                                                                                                                                                                                                                                                                                                                                                                                                                                              23\n",
       " Full controller support Native Steam Controller Support Episodic Tutorial Steam VideoThis content is only available in an online streaming format. More information about streaming videos can be found in the Streaming Videos on Steam FAQ.#label_about_the_seriesWatch the official Community Guide video series to learn some of the basics of Arma 3’s military gameplay. This series is created by Bohemia Interactive in co-operation with Andrew Gluck (better known as Dslyecxi) from the Arma community group Shack Tactical. Watch the official Community Guide video series to learn some of the basics of Arma 3’s military gameplay. This series is created by Bohemia Interactive in co-operation with Andrew Gluck (better known as Dslyecxi) from the Arma community group Shack Tactical. Watch the official Community Guide video series to learn some of the basics of Arma 3’s military gameplay.                                                                                                                                                                                                                                                                                                                                                                                                                                                                                                                                                                                                                                                                                                                                                                                                                                                                                                                                                                                                                                                                                                                                                                                                                                                                                                                                                                                                                                                                                                                                                                                                                                                                                                                                                                                                                                                                                                                                                                                                                                                                                                                                                                                                                                                                                                                                                                                                                                                                                                                                                                                                                                                                                                                                                                                                                                                                                                                                                                                                                                                                                                                                                                                                                                                                                                                                                                                                                                                                                                                                                                                                                                                                                                                                                                                                                                                                                                                                                                                                                                                                                                                                                                                                                                                                                                                                                                                                                                                                                                                                                                                                                                                                                                                                                                                                                                                                                                                                                                                                                                                                                                                                                                                                                                                                                                                                                                                                                                                                                                                                                                                                                                                                                                                                                                                                                                                                                                                                                                                                                                                                                                                                                                                                                                                                                                                                                                                                                                                                                                                                                                                                                                                                                                                                                                                                                                                                                                                                                                                                                                                                                                                                                                                                                                                                                                                                                                                                 13\n",
       " Strategy                                                                                                                                                                                                                                                                                                                                                                                                                                                                                                                                                                                                                                                                                                                                                                                                                                                                                                                                                                                                                                                                                                                                                                                                                                                                                                                                                                                                                                                                                                                                                                                                                                                                                                                                                                                                                                                                                                                                                                                                                                                                                                                                                                                                                                                                                                                                                                                                                                                                                                                                                                                                                                                                                                                                                                                                                                                                                                                                                                                                                                                                                                                                                                                                                                                                                                                                                                                                                                                                                                                                                                                                                                                                                                                                                                                                                                                                                                                                                                                                                                                                                                                                                                                                                                                                                                                                                                                                                                                                                                                                                                                                                                                                                                                                                                                                                                                                                                                                                                                                                                                                                                                                                                                                                                                                                                                                                                                                                                                                                                                                                                                                                                                                                                                                                                                                                                                                                                                                                                                                                                                                                                                                                                                                                                                                                                                                                                                                                                                                                                                                                                                                                                                                                                                                                                                                                                                                                                                                                                                                                                                                                                                                                                                                                                                                                                                                                                                                                                                                                                                                                                                                                                                                                                                                                                                                                                                                                                                                                                                                                                                                                                                                                                                                                                                                                                               13\n",
       "                                                                                                                                                                                                                                                                                                                                                                                                                                                                                                                                                                                                                                                                                                                                                                                                                                                                                                                                                                                                                                                                                                                                                                                                                                                                                                                                                                                                                                                                                                                                                                                                                                                                                                                                                                                                                                                                                                                                                                                                                                                                                                                                                                                                                                                                                                                                                                                                                                                                                                                                                                                                                                                                                                                                                                                                                                                                                                                                                                                                                                                                                                                                                                                                                                                                                                                                                                                                                                                                                                                                                                                                                                                                                                                                                                                                                                                                                                                                                                                                                                                                                                                                                                                                                                                                                                                                                                                                                                                                                                                                                                                                                                                                                                                                                                                                                                                                                                                                                                                                                                                                                                                                                                                                                                                                                                                                                                                                                                                                                                                                                                                                                                                                                                                                                                                                                                                                                                                                                                                                                                                                                                                                                                                                                                                                                                                                                                                                                                                                                                                                                                                                                                                                                                                                                                                                                                                                                                                                                                                                                                                                                                                                                                                                                                                                                                                                                                                                                                                                                                                                                                                                                                                                                                                                                                                                                                                                                                                                                                                                                                                                                                                                                                                                                                                                                                                     ...  \n",
       " Single-player Multi-player Co-op Cross-Platform Multiplayer Steam Trading Cards Steam Workshop Partial Controller Support Action Indie RPG Strategy Dungeon Defenders Eternity is the definitive version of the hit tower defense action RPG! Slice, shoot and pulverize your enemies, or build defenses to do the dirty work for you. Grab three friends and build a team of heroes from twelve different classes, each with their own defenses and abilities. Then embark on an adventure to defend Etheria from the Old Ones’ army!Eternity boasts all new missions, new features, a rebalanced endgame, secure online play (no more hacking!), along with a wide selection of content from the original game. Now is the perfect time to experience Dungeon Defenders and its expansions the way they were meant to be played!Key FeaturesDefend with towers Four-player online co-opGround-breaking story about a group of children who try to save the worldLevel up 12 different hero classesArgue about which hero is the best on our forumsKill an Ogre with a chainsaw swordFight a gigantic dragon (Spoiler!)Put some wings on your heroes and dye their clothes pink -- because you canLook up the best map builds online; pass this knowledge off as your own[/b]What's NewNew Content:5 campaign missions including Embermount Volcano with an all new Boss Fight & cinematics and Omenak with an all new Boss Fight2 new bonus missions and a new challenge missionA new community made mission (Moonbase)Visible armor system with 70 new armor pieces10 combat consumables (throw grenades, summon lightning storms, instantly heal your defenses, and more)Amulets that let you find and equip unique hero abilitiesNew Features:Secure dedicated servers for anti-hacking protectionDyes that allow you to customize costumes and visible armor Crafting system to create and modify high tier items from blueprintsPet hatching and growth system, with activatable abilitiesDashing and manteling systems for better mobilityWeapon swapping between two weapon setsCommunity tavern, where you can talk and trade with up to 16 other players before starting a missionPrivate tavern, where you can start missions with just yourself and your friendsQuickmatch feature where you can quickly join a mission with other players (optional)Cross-Platform play with PC, Mac, Linux, and Mobile all playing on the same serversOne Dungeon Defenders account, with your progression accessible from any account. Playing on supported Android devices requires purchasing the game on Google Play.Transmog System which allows you to change how your visible armor looks (or make it invisible!)34 new equipable emotes (not included with purchase of base game)Rebalanced Gameplay:Rebalanced missions for shorter match times, less farming, and more interesting enemy clustersRebalanced stat system, so increasing stat points in the end game has a larger effectRebalanced, instanced loot system that drops less loot at higher qualityA revised Survival Mode, with shorter play times.A revised Hardcore Mode with better rewardsA revised User InterfaceWhat's ReturningOur favorite Dungeon Defenders content:All 12 Dungeon Defenders heroesAll 12 original Dungeon Defenders campaign missions and challenge missionsAll 5 Quest for the Lost Eternity Shards campaign missions and 7 challenge missions5 bonus missions (Glitterhelm, Karathiki, Tavern Siege, City In The Cliffs, Tinkerer’s Lab)2 community made missions (Akatit Jungle, Palantir)22 original Dungeon Defenders hero costumes (found in your item box and equippable as a costume item)Important Notes:Dungeon Defenders Eternity is rebuilt from the ground up for security, so you will not be able to continue your previous Dungeon Defenders saves.Dungeon Defenders Eternity requires an internet connection to play online. There is a offline mode beta, where after updating the game you can play offline with separate heroes.Dungeon Defenders Eternity requires you to create a playverse account. Dungeon Defenders Eternity is the definitive version of the hit tower defense action RPG! Slice, shoot and pulverize your enemies, or build defenses to do the dirty work for you. Grab three friends and build a team of heroes from twelve different classes, each with their own defenses and abilities. Then embark on an adventure to defend Etheria from the Old Ones’ army!Eternity boasts all new missions, new features, a rebalanced endgame, secure online play (no more hacking!), along with a wide selection of content from the original game. Now is the perfect time to experience Dungeon Defenders and its expansions the way they were meant to be played!Key FeaturesDefend with towers Four-player online co-opGround-breaking story about a group of children who try to save the worldLevel up 12 different hero classesArgue about which hero is the best on our forumsKill an Ogre with a chainsaw swordFight a gigantic dragon (Spoiler!)Put some wings on your heroes and dye their clothes pink -- because you canLook up the best map builds online; pass this knowledge off as your own[/b]What's NewNew Content:5 campaign missions including Embermount Volcano with an all new Boss Fight & cinematics and Omenak with an all new Boss Fight2 new bonus missions and a new challenge missionA new community made mission (Moonbase)Visible armor system with 70 new armor pieces10 combat consumables (throw grenades, summon lightning storms, instantly heal your defenses, and more)Amulets that let you find and equip unique hero abilitiesNew Features:Secure dedicated servers for anti-hacking protectionDyes that allow you to customize costumes and visible armor Crafting system to create and modify high tier items from blueprintsPet hatching and growth system, with activatable abilitiesDashing and manteling systems for better mobilityWeapon swapping between two weapon setsCommunity tavern, where you can talk and trade with up to 16 other players before starting a missionPrivate tavern, where you can start missions with just yourself and your friendsQuickmatch feature where you can quickly join a mission with other players (optional)Cross-Platform play with PC, Mac, Linux, and Mobile all playing on the same serversOne Dungeon Defenders account, with your progression accessible from any account. Playing on supported Android devices requires purchasing the game on Google Play.Transmog System which allows you to change how your visible armor looks (or make it invisible!)34 new equipable emotes (not included with purchase of base game)Rebalanced Gameplay:Rebalanced missions for shorter match times, less farming, and more interesting enemy clustersRebalanced stat system, so increasing stat points in the end game has a larger effectRebalanced, instanced loot system that drops less loot at higher qualityA revised Survival Mode, with shorter play times.A revised Hardcore Mode with better rewardsA revised User InterfaceWhat's ReturningOur favorite Dungeon Defenders content:All 12 Dungeon Defenders heroesAll 12 original Dungeon Defenders campaign missions and challenge missionsAll 5 Quest for the Lost Eternity Shards campaign missions and 7 challenge missions5 bonus missions (Glitterhelm, Karathiki, Tavern Siege, City In The Cliffs, Tinkerer’s Lab)2 community made missions (Akatit Jungle, Palantir)22 original Dungeon Defenders hero costumes (found in your item box and equippable as a costume item)Important Notes:Dungeon Defenders Eternity is rebuilt from the ground up for security, so you will not be able to continue your previous Dungeon Defenders saves.Dungeon Defenders Eternity requires an internet connection to play online. There is a offline mode beta, where after updating the game you can play offline with separate heroes.Dungeon Defenders Eternity requires you to create a playverse account. Dungeon Defenders Eternity is the definitive version of the original tower defense action-RPG! Now featuring a rebalanced endgame, all new missions, secure online play, links to Dungeon Defenders II and more!        1\n",
       " Single-player Downloadable Content Steam Achievements Partial Controller Support Casual Indie Simulation \"Meditation ~ Spiritual Journey\" is a collection of esoteric thoughts and reflections. Many have religious themes.Features* Collection of esoteric thoughts and reflection.* Steam Achievements. \"Meditation ~ Spiritual Journey\" is a collection of esoteric thoughts and reflections. Many have religious themes.Features* Collection of esoteric thoughts and reflection.* Steam Achievements. \"Meditation ~ Spiritual Journey\" is a collection of esoteric thoughts and reflections. Many have religious themes.                                                                                                                                                                                                                                                                                                                                                                                                                                                                                                                                                                                                                                                                                                                                                                                                                                                                                                                                                                                                                                                                                                                                                                                                                                                                                                                                                                                                                                                                                                                                                                                                                                                                                                                                                                                                                                                                                                                                                                                                                                                                                                                                                                                                                                                                                                                                                                                                                                                                                                                                                                                                                                                                                                                                                                                                                                                                                                                                                                                                                                                                                                                                                                                                                                                                                                                                                                                                                                                                                                                                                                                                                                                                                                                                                                                                                                                                                                                                                                                                                                                                                                                                                                                                                                                                                                                                                                                                                                                                                                                                                                                                                                                                                                                                                                                                                                                                                                                                                                                                                                                                                                                                                                                                                                                                                                                                                                                                                                                                                                                                                                                                                                                                                                                                                                                                                                                                                                                                                                                                                                                                                                                                                                                                                                                                                                                                                                                                                                                                                                                                                                                                                                                                                                                                                                                                                                                                                                                                                                                                                                                                                                                                                                                                                                                                                                                                                                                                                                                                                                                                                                                                                                                                                           1\n",
       " Multi-player PvP Online PvP Co-op Online Co-op Downloadable Content Steam Achievements Steam Trading Cards Steam Cloud Action Indie RPG 双瞳专属服装 - 苦味糖双瞳“苦味糖”服装DLC，包含4件套：甜馨梦，欢乐颂，甜蜜乡，彩虹棒。甜馨梦蜂蜜和果酱的香甜，是只在美梦中才存在的味道。欢乐颂在祥和的烛光和音乐声中，姐妹两人同时露出欢欣的笑容。甜蜜乡草莓奶油巧克力，被彩色丝带装饰着，如同家一般的温暖甜蜜。彩虹棒五颜六色的糖果棒，象征着本该缤纷多彩的童年。注意：您需要拥有双生怨瞳DLC，才能在游戏中使用这套服装，请在购买前进行确认！ 双瞳专属服装 - 苦味糖双瞳“苦味糖”服装DLC，包含4件套：甜馨梦，欢乐颂，甜蜜乡，彩虹棒。甜馨梦蜂蜜和果酱的香甜，是只在美梦中才存在的味道。欢乐颂在祥和的烛光和音乐声中，姐妹两人同时露出欢欣的笑容。甜蜜乡草莓奶油巧克力，被彩色丝带装饰着，如同家一般的温暖甜蜜。彩虹棒五颜六色的糖果棒，象征着本该缤纷多彩的童年。注意：您需要拥有双生怨瞳DLC，才能在游戏中使用这套服装，请在购买前进行确认！ 双瞳“苦味糖”服装DLC，包含4件套：甜馨梦，欢乐颂，甜蜜乡，彩虹棒。...                                                                                                                                                                                                                                                                                                                                                                                                                                                                                                                                                                                                                                                                                                                                                                                                                                                                                                                                                                                                                                                                                                                                                                                                                                                                                                                                                                                                                                                                                                                                                                                                                                                                                                                                                                                                                                                                                                                                                                                                                                                                                                                                                                                                                                                                                                                                                                                                                                                                                                                                                                                                                                                                                                                                                                                                                                                                                                                                                                                                                                                                                                                                                                                                                                                                                                                                                                                                                                                                                                                                                                                                                                                                                                                                                                                                                                                                                                                                                                                                                                                                                                                                                                                                                                                                                                                                                                                                                                                                                                                                                                                                                                                                                                                                                                                                                                                                                                                                                                                                                                                                                                                                                                                                                                                                                                                                                                                                                                                                                                                                                                                                                                                                                                                                                                                                                                                                                                                                                                                                                                                                                                                                                                                                                                                                                                                                                                                                                                                                                                                                                                                                                                                                                                                                                                                                                                                                                                                                                                                                                                                                                                                                                                                                                                                                                                                                                                                                                                                                                                                                                                                                                                                                                                                                1\n",
       " Single-player Multi-player Cross-Platform Multiplayer Downloadable Content Steam Achievements Steam Trading Cards Steam Workshop Steam Cloud Simulation Strategy Europa Universalis IV: Cossacks Content Pack includes three new unit packs and a fort pack as part of the Cossacks expansion.The Cossacks is the sixth major expansion for Europa Universalis IV and focuses on Hordes and Eastern Europe. This addition allows you to plunder your neighbours as a horde in order to keep your tribes loyal and raze their lands to gain power to advance in technology or reform into a settled nation. The pack includes:Black Sea Unit Pack: This unit pack adds 32 new unit models for Zaporozhie, Crimea, Circassia and Theodoro.Great Hordes Unit Pack: This unit pack adds 32 new unit models for Timurids, Golden Horde, Nogai and Uzbek.European Cavalry Unit Pack: This unit pack adds 12 new unit models for European cavalry, including France, Spain and Britain.Fort Pack: This pack adds 18 new models for Western, Muslim, Asian, Indian, African South and North American forts. Europa Universalis IV: Cossacks Content Pack includes three new unit packs and a fort pack as part of the Cossacks expansion.The Cossacks is the sixth major expansion for Europa Universalis IV and focuses on Hordes and Eastern Europe. This addition allows you to plunder your neighbours as a horde in order to keep your tribes loyal and raze their lands to gain power to advance in technology or reform into a settled nation. The pack includes:Black Sea Unit Pack: This unit pack adds 32 new unit models for Zaporozhie, Crimea, Circassia and Theodoro.Great Hordes Unit Pack: This unit pack adds 32 new unit models for Timurids, Golden Horde, Nogai and Uzbek.European Cavalry Unit Pack: This unit pack adds 12 new unit models for European cavalry, including France, Spain and Britain.Fort Pack: This pack adds 18 new models for Western, Muslim, Asian, Indian, African South and North American forts. Europa Universalis IV: Cossacks Content Pack includes three new unit packs, a fort pack and a large content pack as part of the Cossacks expansion.The Cossacks is the sixth major expansion for Europa Universalis IV and focuses on Hordes and Eastern Europe.                                                                                                                                                                                                                                                                                                                                                                                                                                                                                                                                                                                                                                                                                                                                                                                                                                                                                                                                                                                                                                                                                                                                                                                                                                                                                                                                                                                                                                                                                                                                                                                                                                                                                                                                                                                                                                                                                                                                                                                                                                                                                                                                                                                                                                                                                                                                                                                                                                                                                                                                                                                                                                                                                                                                                                                                                                                                                                                                                                                                                                                                                                                                                                                                                                                                                                                                                                                                                                                                                                                                                                                                                                                                                                                                                                                                                                                                                                                                                                                                                                                                                                                                                                                                                                                                                                                                                                                                                                                                                                                                                                                                                                                                                                                                                                                                                                                                                                                                                                                                                                                                                                                                                                                                                                                                                                                                                                                                                                                                                                                                                                                                                                                                                                                                                                                                                                                                                                                                                                                                                 1\n",
       " Single-player Downloadable Content Steam Achievements Partial Controller Support Steam Cloud Steam Leaderboards Action Three stylishly alternative costumes - throw Dante back into Limbo with a fresh look to take down the demon hoards! Costumes include: ‘Classic Dante’ complete with iconic red leather jacket and bleach white hair, plus two all new looks – ‘Dark Dante’ and ‘Neo Dante’. \\n Three stylishly alternative costumes - throw Dante back into Limbo with a fresh look to take down the demon hoards! Costumes include: ‘Classic Dante’ complete with iconic red leather jacket and bleach white hair, plus two all new looks – ‘Dark Dante’ and ‘Neo Dante’. \\n Three stylishly alternative costumes - throw Dante back into Limbo with a fresh look to take down the demon hoards! Costumes include: ‘Classic Dante’ complete with iconic red leather jacket and bleach white hair, plus two all new looks – ‘Dark Dante’ and ‘Neo Dante’.                                                                                                                                                                                                                                                                                                                                                                                                                                                                                                                                                                                                                                                                                                                                                                                                                                                                                                                                                                                                                                                                                                                                                                                                                                                                                                                                                                                                                                                                                                                                                                                                                                                                                                                                                                                                                                                                                                                                                                                                                                                                                                                                                                                                                                                                                                                                                                                                                                                                                                                                                                                                                                                                                                                                                                                                                                                                                                                                                                                                                                                                                                                                                                                                                                                                                                                                                                                                                                                                                                                                                                                                                                                                                                                                                                                                                                                                                                                                                                                                                                                                                                                                                                                                                                                                                                                                                                                                                                                                                                                                                                                                                                                                                                                                                                                                                                                                                                                                                                                                                                                                                                                                                                                                                                                                                                                                                                                                                                                                                                                                                                                                                                                                                                                                                                                                                                                                                                                                                                                                                                                                                                                                                                                                                                                                                                                                                                                                                                                                                                                                                                                                                                                                                                                                                                                                                                                                                                                                                                                                                                                                                                                                                                                                                                                                                                                                                        1\n",
       "Name: all-descriptions, Length: 8567, dtype: int64"
      ]
     },
     "execution_count": 21,
     "metadata": {},
     "output_type": "execute_result"
    }
   ],
   "source": [
    "appid_df['all-descriptions'].value_counts().sort_values(ascending=False)"
   ]
  },
  {
   "cell_type": "markdown",
   "metadata": {},
   "source": [
    "The value count above tells us that 90% of the games didn't receive a description for whatever reason. This still leaves the table with about 10000 values, which should be suffice for the content based algorithm."
   ]
  },
  {
   "cell_type": "code",
   "execution_count": 11,
   "metadata": {},
   "outputs": [],
   "source": [
    "description_mask = appid_df['all-descriptions'] != \"\"\n",
    "\n",
    "appid_wDescr = appid_df[description_mask]"
   ]
  },
  {
   "cell_type": "markdown",
   "metadata": {},
   "source": [
    "Next, the text description will be vectorized using two methods, Count Vectorization and TfIdf Vectorization. First is the CountVectorizer implimentation."
   ]
  },
  {
   "cell_type": "code",
   "execution_count": 12,
   "metadata": {},
   "outputs": [],
   "source": [
    "#note CountVectorizer was imported. Stopwords set to english\n",
    "Vectorizer = CountVectorizer(stop_words='english')\n",
    "\n",
    "#fit and transform corpus\n",
    "CountVector = Vectorizer.fit_transform(appid_wDescr['all-descriptions'])"
   ]
  },
  {
   "cell_type": "markdown",
   "metadata": {},
   "source": [
    "Next, to see how similar each text is to each other, the cosine similarity will be calculated using scikit-learn's implementation."
   ]
  },
  {
   "cell_type": "code",
   "execution_count": 20,
   "metadata": {},
   "outputs": [],
   "source": [
    "cos_sim_cnt_count = cosine_similarity(CountVector)"
   ]
  },
  {
   "cell_type": "markdown",
   "metadata": {},
   "source": [
    "To make it easier to interpret the result, the results are put into a dataframe with index and columns corresponding to the game titles."
   ]
  },
  {
   "cell_type": "code",
   "execution_count": 24,
   "metadata": {},
   "outputs": [],
   "source": [
    "game_names = appid_wDescr.name.to_list()\n",
    "\n",
    "cos_sim_cnt_count_df = pd.DataFrame(cos_sim_cnt_count, index=game_names, columns=game_names)"
   ]
  },
  {
   "cell_type": "code",
   "execution_count": 25,
   "metadata": {},
   "outputs": [
    {
     "data": {
      "text/plain": [
       "The Pirate's Fate                    1.000000\n",
       "What Makes Us Special                0.257252\n",
       "Always Sometimes Monsters            0.256670\n",
       "Capsize                              0.244739\n",
       "Pirates? Pirates!                    0.242325\n",
       "                                       ...   \n",
       "Men of War Red Tide Trailer          0.000000\n",
       "Aztaka Trailer                       0.000000\n",
       "Super Laser Racer Trailer            0.000000\n",
       "AvP - Alien Gameplay                 0.000000\n",
       "TIGER GAME ASSETS LOGOTYPE VOL.10    0.000000\n",
       "Name: The Pirate's Fate, Length: 9022, dtype: float64"
      ]
     },
     "execution_count": 25,
     "metadata": {},
     "output_type": "execute_result"
    }
   ],
   "source": [
    "cos_sim_cnt_count_df[\"The Pirate's Fate\"].sort_values(ascending=False)"
   ]
  },
  {
   "cell_type": "code",
   "execution_count": 31,
   "metadata": {},
   "outputs": [],
   "source": [
    "with open('cosine_similarity_countvector.pkl', 'wb') as pklfile:\n",
    "    pickle.dump(cos_sim_cnt_count_df, pklfile)"
   ]
  },
  {
   "cell_type": "markdown",
   "metadata": {},
   "source": [
    "Now the same thing will be done using tfidf vectorizer and linear kernel. The use of the linear kernel is due to it giving the same effective score."
   ]
  },
  {
   "cell_type": "code",
   "execution_count": 28,
   "metadata": {},
   "outputs": [],
   "source": [
    "#vectorizer from sklearn\n",
    "Vectorizer = TfidfVectorizer(stop_words='english')\n",
    "\n",
    "#fit and trasnform corpus\n",
    "TfidfVector = Vectorizer.fit_transform(appid_wDescr['all-descriptions'])\n",
    "\n",
    "#compare\n",
    "cos_sim_cnt_tfidf = linear_kernel(TfidfVector)\n",
    "\n",
    "#load in for viewing\n",
    "cos_sim_cnt_tfidf_df = pd.DataFrame(cos_sim_cnt_tfidf, index=game_names, columns=game_names)"
   ]
  },
  {
   "cell_type": "code",
   "execution_count": 29,
   "metadata": {},
   "outputs": [
    {
     "data": {
      "text/plain": [
       "Adventure Farm VR                                                                                              1.000000\n",
       "Hope's Farm                                                                                                    0.398280\n",
       "Farmtale                                                                                                       0.331884\n",
       "Magic Farm 2: Fairy Lands (Premium Edition)                                                                    0.261245\n",
       "My Breast Friend Sally                                                                                         0.241121\n",
       "                                                                                                                 ...   \n",
       "Sailor Moon Season 1: Naru's Tears: Nephrite Dies for Love                                                     0.000000\n",
       "The Assignment: Filmmaking Portraits: The Assignment                                                           0.000000\n",
       "Miss Kobayashi's Dragon Maid: Emperor of Demise Arrives! (It Was the Final Episode Before We Knew It)          0.000000\n",
       "Miss Kobayashi's Dragon Maid: Tohru and Kobayashi's Impactful Meeting! (We're Raising the Bar on Ourselves)    0.000000\n",
       "Sailor Moon SuperS: Drive to the Heavens: The Dream Car Fueled with Love                                       0.000000\n",
       "Name: Adventure Farm VR, Length: 9022, dtype: float64"
      ]
     },
     "execution_count": 29,
     "metadata": {},
     "output_type": "execute_result"
    }
   ],
   "source": [
    "cos_sim_cnt_tfidf_df['Adventure Farm VR'].sort_values(ascending=False)"
   ]
  },
  {
   "cell_type": "code",
   "execution_count": 30,
   "metadata": {},
   "outputs": [
    {
     "data": {
      "text/plain": [
       "array([[1.        , 0.02893374, 0.00554547, ..., 0.00140314, 0.02537805,\n",
       "        0.03858828],\n",
       "       [0.02893374, 1.        , 0.05157235, ..., 0.01314139, 0.02377156,\n",
       "        0.05689864],\n",
       "       [0.00554547, 0.05157235, 1.        , ..., 0.00593665, 0.01115483,\n",
       "        0.05555096],\n",
       "       ...,\n",
       "       [0.00140314, 0.01314139, 0.00593665, ..., 1.        , 0.0029901 ,\n",
       "        0.02907821],\n",
       "       [0.02537805, 0.02377156, 0.01115483, ..., 0.0029901 , 1.        ,\n",
       "        0.06136301],\n",
       "       [0.03858828, 0.05689864, 0.05555096, ..., 0.02907821, 0.06136301,\n",
       "        1.        ]])"
      ]
     },
     "execution_count": 30,
     "metadata": {},
     "output_type": "execute_result"
    }
   ],
   "source": [
    "cos_sim_cnt_tfidf"
   ]
  },
  {
   "cell_type": "code",
   "execution_count": 32,
   "metadata": {},
   "outputs": [],
   "source": [
    "with open('cosine_similarity_tfidfvector.pkl', 'wb') as pklfile:\n",
    "    pickle.dump(cos_sim_cnt_tfidf_df, pklfile)"
   ]
  },
  {
   "cell_type": "markdown",
   "metadata": {},
   "source": [
    "The two recommenders can then be combined by averaging the values in each cos_sim arrays"
   ]
  },
  {
   "cell_type": "code",
   "execution_count": 35,
   "metadata": {},
   "outputs": [],
   "source": [
    "cos_sim_cnt_hybrid = np.mean([cos_sim_cnt_count, cos_sim_cnt_tfidf],axis=0)\n",
    "\n",
    "cos_sim_cnt_hybrid_df = pd.DataFrame(cos_sim_cnt_hybrid, index=game_names, columns=game_names)"
   ]
  },
  {
   "cell_type": "code",
   "execution_count": 36,
   "metadata": {},
   "outputs": [
    {
     "data": {
      "text/plain": [
       "Adventure Farm VR                                  1.000000\n",
       "Hope's Farm                                        0.394847\n",
       "Farmtale                                           0.331603\n",
       "VRGROUND : Crazy Farm                              0.254929\n",
       "Magic Farm 2: Fairy Lands (Premium Edition)        0.247873\n",
       "                                                     ...   \n",
       "CME DLC GF and TR Trailer                          0.000000\n",
       "The Eccentric Family: The Friday Club Once More    0.000000\n",
       "The Eccentric Family: Arima Hell                   0.000000\n",
       "The Eccentric Family: The Conjurer Tenmaya         0.000000\n",
       "Mandela: A Long Walk to Freedom                    0.000000\n",
       "Name: Adventure Farm VR, Length: 9022, dtype: float64"
      ]
     },
     "execution_count": 36,
     "metadata": {},
     "output_type": "execute_result"
    }
   ],
   "source": [
    "cos_sim_cnt_hybrid_df['Adventure Farm VR'].sort_values(ascending=False)"
   ]
  },
  {
   "cell_type": "code",
   "execution_count": 37,
   "metadata": {},
   "outputs": [],
   "source": [
    "with open('cosine_similarity_hybrid.pkl', 'wb') as pklfile:\n",
    "    pickle.dump(cos_sim_cnt_hybrid_df, pklfile)"
   ]
  },
  {
   "cell_type": "markdown",
   "metadata": {},
   "source": [
    "### End\n",
    "\n",
    "This concludes the development of content based recommendation system. Unfortunately, since the data used is missing the majority of games, it isn't viable to create a public facing application to play around with this model. However, with sklearn and pandas, its quick and easy to test build a recommendation system."
   ]
  }
 ],
 "metadata": {
  "kernelspec": {
   "display_name": "Python 3",
   "language": "python",
   "name": "python3"
  },
  "language_info": {
   "codemirror_mode": {
    "name": "ipython",
    "version": 3
   },
   "file_extension": ".py",
   "mimetype": "text/x-python",
   "name": "python",
   "nbconvert_exporter": "python",
   "pygments_lexer": "ipython3",
   "version": "3.6.10"
  }
 },
 "nbformat": 4,
 "nbformat_minor": 4
}
